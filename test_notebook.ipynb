{
 "cells": [
  {
   "cell_type": "markdown",
   "metadata": {},
   "source": [
    "# Import Required Libraries\n",
    "Import the necessary libraries, including LeagueHistoryLoader."
   ]
  },
  {
   "cell_type": "code",
   "execution_count": 1,
   "metadata": {},
   "outputs": [],
   "source": [
    "# LeagueHistoryLoader for loading the league history data\n",
    "from src.fpl_load import LeagueHistoryLoader\n",
    "from src.questions import get_points_by_gameweek, get_best_player_tally, get_worst_player_tally\n",
    "\n",
    "# Setting the league id\n",
    "league_id = 741068\n",
    "\n",
    "# Creating an instance of LeagueHistoryLoader\n",
    "history_loader = LeagueHistoryLoader(league_id)"
   ]
  },
  {
   "cell_type": "code",
   "execution_count": 2,
   "metadata": {},
   "outputs": [],
   "source": [
    "# Loading the league history data\n",
    "league_data = history_loader.get_data()\n",
    "\n",
    "df = league_data\n",
    "import duckdb\n",
    "import pandas as pd\n",
    "\n",
    "# increase number of rows displayable in pandas\n",
    "pd.set_option('display.max_rows', 500)\n",
    "\n",
    "\n",
    "# Convert DataFrame to DuckDB\n",
    "duckdb_df = duckdb.from_df(df)"
   ]
  },
  {
   "cell_type": "code",
   "execution_count": 3,
   "metadata": {},
   "outputs": [
    {
     "data": {
      "text/html": [
       "<div>\n",
       "<style scoped>\n",
       "    .dataframe tbody tr th:only-of-type {\n",
       "        vertical-align: middle;\n",
       "    }\n",
       "\n",
       "    .dataframe tbody tr th {\n",
       "        vertical-align: top;\n",
       "    }\n",
       "\n",
       "    .dataframe thead th {\n",
       "        text-align: right;\n",
       "    }\n",
       "</style>\n",
       "<table border=\"1\" class=\"dataframe\">\n",
       "  <thead>\n",
       "    <tr style=\"text-align: right;\">\n",
       "      <th></th>\n",
       "      <th>event</th>\n",
       "      <th>event_points</th>\n",
       "      <th>cumulative_points</th>\n",
       "      <th>fpl_event_rank</th>\n",
       "      <th>fpl_event_rank_sort</th>\n",
       "      <th>overall_rank</th>\n",
       "      <th>percentile_rank</th>\n",
       "      <th>bank</th>\n",
       "      <th>team_value</th>\n",
       "      <th>event_transfers</th>\n",
       "      <th>...</th>\n",
       "      <th>points_on_bench</th>\n",
       "      <th>entry</th>\n",
       "      <th>id</th>\n",
       "      <th>event_total</th>\n",
       "      <th>player_name</th>\n",
       "      <th>league_rank</th>\n",
       "      <th>last_rank</th>\n",
       "      <th>rank_sort</th>\n",
       "      <th>standings_total</th>\n",
       "      <th>entry_name</th>\n",
       "    </tr>\n",
       "  </thead>\n",
       "  <tbody>\n",
       "    <tr>\n",
       "      <th>0</th>\n",
       "      <td>1</td>\n",
       "      <td>79</td>\n",
       "      <td>79</td>\n",
       "      <td>380585</td>\n",
       "      <td>392586</td>\n",
       "      <td>380585</td>\n",
       "      <td>5</td>\n",
       "      <td>0</td>\n",
       "      <td>1000</td>\n",
       "      <td>0</td>\n",
       "      <td>...</td>\n",
       "      <td>4</td>\n",
       "      <td>1250107</td>\n",
       "      <td>24592330</td>\n",
       "      <td>79</td>\n",
       "      <td>Alex Kitson</td>\n",
       "      <td>1</td>\n",
       "      <td>0</td>\n",
       "      <td>1</td>\n",
       "      <td>79</td>\n",
       "      <td>no fans no ground</td>\n",
       "    </tr>\n",
       "    <tr>\n",
       "      <th>1</th>\n",
       "      <td>1</td>\n",
       "      <td>73</td>\n",
       "      <td>73</td>\n",
       "      <td>941733</td>\n",
       "      <td>1009276</td>\n",
       "      <td>941734</td>\n",
       "      <td>15</td>\n",
       "      <td>0</td>\n",
       "      <td>1000</td>\n",
       "      <td>0</td>\n",
       "      <td>...</td>\n",
       "      <td>3</td>\n",
       "      <td>4160791</td>\n",
       "      <td>29677124</td>\n",
       "      <td>73</td>\n",
       "      <td>Matt Harmer</td>\n",
       "      <td>2</td>\n",
       "      <td>0</td>\n",
       "      <td>2</td>\n",
       "      <td>73</td>\n",
       "      <td>I Am The One Awoniyi</td>\n",
       "    </tr>\n",
       "    <tr>\n",
       "      <th>2</th>\n",
       "      <td>1</td>\n",
       "      <td>70</td>\n",
       "      <td>70</td>\n",
       "      <td>1372029</td>\n",
       "      <td>1442239</td>\n",
       "      <td>1372029</td>\n",
       "      <td>20</td>\n",
       "      <td>0</td>\n",
       "      <td>1000</td>\n",
       "      <td>0</td>\n",
       "      <td>...</td>\n",
       "      <td>3</td>\n",
       "      <td>3230048</td>\n",
       "      <td>24592319</td>\n",
       "      <td>70</td>\n",
       "      <td>Andrew Wallace</td>\n",
       "      <td>3</td>\n",
       "      <td>0</td>\n",
       "      <td>3</td>\n",
       "      <td>70</td>\n",
       "      <td>Boggie FC</td>\n",
       "    </tr>\n",
       "    <tr>\n",
       "      <th>3</th>\n",
       "      <td>1</td>\n",
       "      <td>69</td>\n",
       "      <td>69</td>\n",
       "      <td>1548384</td>\n",
       "      <td>1663485</td>\n",
       "      <td>1548384</td>\n",
       "      <td>20</td>\n",
       "      <td>0</td>\n",
       "      <td>1000</td>\n",
       "      <td>0</td>\n",
       "      <td>...</td>\n",
       "      <td>2</td>\n",
       "      <td>4848550</td>\n",
       "      <td>35201439</td>\n",
       "      <td>69</td>\n",
       "      <td>Rory McCullough</td>\n",
       "      <td>4</td>\n",
       "      <td>0</td>\n",
       "      <td>4</td>\n",
       "      <td>69</td>\n",
       "      <td>AthletEcho Falls FC</td>\n",
       "    </tr>\n",
       "    <tr>\n",
       "      <th>4</th>\n",
       "      <td>1</td>\n",
       "      <td>66</td>\n",
       "      <td>66</td>\n",
       "      <td>2163219</td>\n",
       "      <td>2205913</td>\n",
       "      <td>2163219</td>\n",
       "      <td>30</td>\n",
       "      <td>0</td>\n",
       "      <td>1000</td>\n",
       "      <td>0</td>\n",
       "      <td>...</td>\n",
       "      <td>2</td>\n",
       "      <td>1403246</td>\n",
       "      <td>24592327</td>\n",
       "      <td>66</td>\n",
       "      <td>Liam Aylwin</td>\n",
       "      <td>5</td>\n",
       "      <td>0</td>\n",
       "      <td>5</td>\n",
       "      <td>66</td>\n",
       "      <td>Unbelievable Jeff!!</td>\n",
       "    </tr>\n",
       "    <tr>\n",
       "      <th>5</th>\n",
       "      <td>1</td>\n",
       "      <td>65</td>\n",
       "      <td>65</td>\n",
       "      <td>2387076</td>\n",
       "      <td>2572224</td>\n",
       "      <td>2387076</td>\n",
       "      <td>30</td>\n",
       "      <td>10</td>\n",
       "      <td>1000</td>\n",
       "      <td>0</td>\n",
       "      <td>...</td>\n",
       "      <td>3</td>\n",
       "      <td>6718635</td>\n",
       "      <td>55789805</td>\n",
       "      <td>65</td>\n",
       "      <td>Prince Ehigiator</td>\n",
       "      <td>6</td>\n",
       "      <td>0</td>\n",
       "      <td>6</td>\n",
       "      <td>65</td>\n",
       "      <td>Mixed grill FC</td>\n",
       "    </tr>\n",
       "    <tr>\n",
       "      <th>6</th>\n",
       "      <td>1</td>\n",
       "      <td>64</td>\n",
       "      <td>64</td>\n",
       "      <td>2621727</td>\n",
       "      <td>2724435</td>\n",
       "      <td>2621727</td>\n",
       "      <td>35</td>\n",
       "      <td>5</td>\n",
       "      <td>1000</td>\n",
       "      <td>0</td>\n",
       "      <td>...</td>\n",
       "      <td>4</td>\n",
       "      <td>3552397</td>\n",
       "      <td>24592317</td>\n",
       "      <td>64</td>\n",
       "      <td>Dominic Rech</td>\n",
       "      <td>7</td>\n",
       "      <td>0</td>\n",
       "      <td>7</td>\n",
       "      <td>64</td>\n",
       "      <td>Wout of control</td>\n",
       "    </tr>\n",
       "    <tr>\n",
       "      <th>7</th>\n",
       "      <td>1</td>\n",
       "      <td>64</td>\n",
       "      <td>64</td>\n",
       "      <td>2621727</td>\n",
       "      <td>2742553</td>\n",
       "      <td>2621727</td>\n",
       "      <td>35</td>\n",
       "      <td>0</td>\n",
       "      <td>1000</td>\n",
       "      <td>0</td>\n",
       "      <td>...</td>\n",
       "      <td>2</td>\n",
       "      <td>4226218</td>\n",
       "      <td>30216795</td>\n",
       "      <td>64</td>\n",
       "      <td>Daniel Brown</td>\n",
       "      <td>7</td>\n",
       "      <td>0</td>\n",
       "      <td>8</td>\n",
       "      <td>64</td>\n",
       "      <td>Mee Jerk Reaction</td>\n",
       "    </tr>\n",
       "    <tr>\n",
       "      <th>8</th>\n",
       "      <td>1</td>\n",
       "      <td>63</td>\n",
       "      <td>63</td>\n",
       "      <td>2859831</td>\n",
       "      <td>2957460</td>\n",
       "      <td>2859831</td>\n",
       "      <td>35</td>\n",
       "      <td>5</td>\n",
       "      <td>1000</td>\n",
       "      <td>0</td>\n",
       "      <td>...</td>\n",
       "      <td>11</td>\n",
       "      <td>3235961</td>\n",
       "      <td>24592325</td>\n",
       "      <td>63</td>\n",
       "      <td>William Levick</td>\n",
       "      <td>9</td>\n",
       "      <td>0</td>\n",
       "      <td>9</td>\n",
       "      <td>63</td>\n",
       "      <td>good kid mAAn city</td>\n",
       "    </tr>\n",
       "    <tr>\n",
       "      <th>9</th>\n",
       "      <td>1</td>\n",
       "      <td>60</td>\n",
       "      <td>60</td>\n",
       "      <td>3608218</td>\n",
       "      <td>3746772</td>\n",
       "      <td>3608219</td>\n",
       "      <td>45</td>\n",
       "      <td>5</td>\n",
       "      <td>1000</td>\n",
       "      <td>0</td>\n",
       "      <td>...</td>\n",
       "      <td>2</td>\n",
       "      <td>4670683</td>\n",
       "      <td>33696890</td>\n",
       "      <td>60</td>\n",
       "      <td>Mark Longmire</td>\n",
       "      <td>10</td>\n",
       "      <td>0</td>\n",
       "      <td>10</td>\n",
       "      <td>60</td>\n",
       "      <td>Chalky's Complainers</td>\n",
       "    </tr>\n",
       "    <tr>\n",
       "      <th>10</th>\n",
       "      <td>1</td>\n",
       "      <td>60</td>\n",
       "      <td>60</td>\n",
       "      <td>3608218</td>\n",
       "      <td>3846026</td>\n",
       "      <td>3608219</td>\n",
       "      <td>45</td>\n",
       "      <td>0</td>\n",
       "      <td>1000</td>\n",
       "      <td>0</td>\n",
       "      <td>...</td>\n",
       "      <td>10</td>\n",
       "      <td>7944875</td>\n",
       "      <td>67714776</td>\n",
       "      <td>60</td>\n",
       "      <td>George Thompson</td>\n",
       "      <td>10</td>\n",
       "      <td>0</td>\n",
       "      <td>11</td>\n",
       "      <td>60</td>\n",
       "      <td>Sydney SweeDeeney</td>\n",
       "    </tr>\n",
       "    <tr>\n",
       "      <th>11</th>\n",
       "      <td>1</td>\n",
       "      <td>58</td>\n",
       "      <td>58</td>\n",
       "      <td>4124179</td>\n",
       "      <td>4303357</td>\n",
       "      <td>4124179</td>\n",
       "      <td>50</td>\n",
       "      <td>0</td>\n",
       "      <td>1000</td>\n",
       "      <td>0</td>\n",
       "      <td>...</td>\n",
       "      <td>1</td>\n",
       "      <td>5981754</td>\n",
       "      <td>57147496</td>\n",
       "      <td>58</td>\n",
       "      <td>Ollie Anthony</td>\n",
       "      <td>12</td>\n",
       "      <td>0</td>\n",
       "      <td>12</td>\n",
       "      <td>58</td>\n",
       "      <td>Blues till I die</td>\n",
       "    </tr>\n",
       "    <tr>\n",
       "      <th>12</th>\n",
       "      <td>1</td>\n",
       "      <td>57</td>\n",
       "      <td>57</td>\n",
       "      <td>4384115</td>\n",
       "      <td>4387770</td>\n",
       "      <td>4384115</td>\n",
       "      <td>55</td>\n",
       "      <td>0</td>\n",
       "      <td>1000</td>\n",
       "      <td>0</td>\n",
       "      <td>...</td>\n",
       "      <td>4</td>\n",
       "      <td>112974</td>\n",
       "      <td>24592329</td>\n",
       "      <td>57</td>\n",
       "      <td>Oliver Bignall</td>\n",
       "      <td>13</td>\n",
       "      <td>0</td>\n",
       "      <td>13</td>\n",
       "      <td>57</td>\n",
       "      <td>Biggie FC</td>\n",
       "    </tr>\n",
       "    <tr>\n",
       "      <th>13</th>\n",
       "      <td>1</td>\n",
       "      <td>57</td>\n",
       "      <td>57</td>\n",
       "      <td>4384115</td>\n",
       "      <td>4473294</td>\n",
       "      <td>4384115</td>\n",
       "      <td>55</td>\n",
       "      <td>0</td>\n",
       "      <td>1000</td>\n",
       "      <td>0</td>\n",
       "      <td>...</td>\n",
       "      <td>3</td>\n",
       "      <td>3012307</td>\n",
       "      <td>24592318</td>\n",
       "      <td>57</td>\n",
       "      <td>Patrick Prendergast</td>\n",
       "      <td>13</td>\n",
       "      <td>0</td>\n",
       "      <td>14</td>\n",
       "      <td>57</td>\n",
       "      <td>Who Got The Assist</td>\n",
       "    </tr>\n",
       "    <tr>\n",
       "      <th>14</th>\n",
       "      <td>1</td>\n",
       "      <td>53</td>\n",
       "      <td>53</td>\n",
       "      <td>5385248</td>\n",
       "      <td>5495058</td>\n",
       "      <td>5385246</td>\n",
       "      <td>65</td>\n",
       "      <td>0</td>\n",
       "      <td>1000</td>\n",
       "      <td>0</td>\n",
       "      <td>...</td>\n",
       "      <td>1</td>\n",
       "      <td>4143192</td>\n",
       "      <td>29543394</td>\n",
       "      <td>53</td>\n",
       "      <td>Jack Chalkley</td>\n",
       "      <td>15</td>\n",
       "      <td>0</td>\n",
       "      <td>15</td>\n",
       "      <td>53</td>\n",
       "      <td>Ten Hag’s Slahgs</td>\n",
       "    </tr>\n",
       "    <tr>\n",
       "      <th>15</th>\n",
       "      <td>1</td>\n",
       "      <td>53</td>\n",
       "      <td>53</td>\n",
       "      <td>5385248</td>\n",
       "      <td>5541520</td>\n",
       "      <td>5385246</td>\n",
       "      <td>65</td>\n",
       "      <td>0</td>\n",
       "      <td>1000</td>\n",
       "      <td>0</td>\n",
       "      <td>...</td>\n",
       "      <td>3</td>\n",
       "      <td>5795048</td>\n",
       "      <td>44634471</td>\n",
       "      <td>53</td>\n",
       "      <td>Jack Chandler</td>\n",
       "      <td>15</td>\n",
       "      <td>0</td>\n",
       "      <td>16</td>\n",
       "      <td>53</td>\n",
       "      <td>Rice Rice Baby</td>\n",
       "    </tr>\n",
       "    <tr>\n",
       "      <th>16</th>\n",
       "      <td>1</td>\n",
       "      <td>45</td>\n",
       "      <td>45</td>\n",
       "      <td>7097616</td>\n",
       "      <td>7154516</td>\n",
       "      <td>7097616</td>\n",
       "      <td>90</td>\n",
       "      <td>5</td>\n",
       "      <td>1000</td>\n",
       "      <td>0</td>\n",
       "      <td>...</td>\n",
       "      <td>4</td>\n",
       "      <td>3109235</td>\n",
       "      <td>24592333</td>\n",
       "      <td>45</td>\n",
       "      <td>Mason Scott</td>\n",
       "      <td>17</td>\n",
       "      <td>0</td>\n",
       "      <td>17</td>\n",
       "      <td>45</td>\n",
       "      <td>RayaSavedJack</td>\n",
       "    </tr>\n",
       "    <tr>\n",
       "      <th>17</th>\n",
       "      <td>1</td>\n",
       "      <td>41</td>\n",
       "      <td>41</td>\n",
       "      <td>7710872</td>\n",
       "      <td>7753369</td>\n",
       "      <td>7710872</td>\n",
       "      <td>90</td>\n",
       "      <td>5</td>\n",
       "      <td>1000</td>\n",
       "      <td>0</td>\n",
       "      <td>...</td>\n",
       "      <td>1</td>\n",
       "      <td>3182981</td>\n",
       "      <td>24592328</td>\n",
       "      <td>41</td>\n",
       "      <td>Jack Grimley</td>\n",
       "      <td>18</td>\n",
       "      <td>0</td>\n",
       "      <td>18</td>\n",
       "      <td>41</td>\n",
       "      <td>Stop Harris-ing me</td>\n",
       "    </tr>\n",
       "  </tbody>\n",
       "</table>\n",
       "<p>18 rows × 21 columns</p>\n",
       "</div>"
      ],
      "text/plain": [
       "    event  event_points  cumulative_points  fpl_event_rank  \\\n",
       "0       1            79                 79          380585   \n",
       "1       1            73                 73          941733   \n",
       "2       1            70                 70         1372029   \n",
       "3       1            69                 69         1548384   \n",
       "4       1            66                 66         2163219   \n",
       "5       1            65                 65         2387076   \n",
       "6       1            64                 64         2621727   \n",
       "7       1            64                 64         2621727   \n",
       "8       1            63                 63         2859831   \n",
       "9       1            60                 60         3608218   \n",
       "10      1            60                 60         3608218   \n",
       "11      1            58                 58         4124179   \n",
       "12      1            57                 57         4384115   \n",
       "13      1            57                 57         4384115   \n",
       "14      1            53                 53         5385248   \n",
       "15      1            53                 53         5385248   \n",
       "16      1            45                 45         7097616   \n",
       "17      1            41                 41         7710872   \n",
       "\n",
       "    fpl_event_rank_sort  overall_rank  percentile_rank  bank  team_value  \\\n",
       "0                392586        380585                5     0        1000   \n",
       "1               1009276        941734               15     0        1000   \n",
       "2               1442239       1372029               20     0        1000   \n",
       "3               1663485       1548384               20     0        1000   \n",
       "4               2205913       2163219               30     0        1000   \n",
       "5               2572224       2387076               30    10        1000   \n",
       "6               2724435       2621727               35     5        1000   \n",
       "7               2742553       2621727               35     0        1000   \n",
       "8               2957460       2859831               35     5        1000   \n",
       "9               3746772       3608219               45     5        1000   \n",
       "10              3846026       3608219               45     0        1000   \n",
       "11              4303357       4124179               50     0        1000   \n",
       "12              4387770       4384115               55     0        1000   \n",
       "13              4473294       4384115               55     0        1000   \n",
       "14              5495058       5385246               65     0        1000   \n",
       "15              5541520       5385246               65     0        1000   \n",
       "16              7154516       7097616               90     5        1000   \n",
       "17              7753369       7710872               90     5        1000   \n",
       "\n",
       "    event_transfers  ...  points_on_bench    entry        id  event_total  \\\n",
       "0                 0  ...                4  1250107  24592330           79   \n",
       "1                 0  ...                3  4160791  29677124           73   \n",
       "2                 0  ...                3  3230048  24592319           70   \n",
       "3                 0  ...                2  4848550  35201439           69   \n",
       "4                 0  ...                2  1403246  24592327           66   \n",
       "5                 0  ...                3  6718635  55789805           65   \n",
       "6                 0  ...                4  3552397  24592317           64   \n",
       "7                 0  ...                2  4226218  30216795           64   \n",
       "8                 0  ...               11  3235961  24592325           63   \n",
       "9                 0  ...                2  4670683  33696890           60   \n",
       "10                0  ...               10  7944875  67714776           60   \n",
       "11                0  ...                1  5981754  57147496           58   \n",
       "12                0  ...                4   112974  24592329           57   \n",
       "13                0  ...                3  3012307  24592318           57   \n",
       "14                0  ...                1  4143192  29543394           53   \n",
       "15                0  ...                3  5795048  44634471           53   \n",
       "16                0  ...                4  3109235  24592333           45   \n",
       "17                0  ...                1  3182981  24592328           41   \n",
       "\n",
       "            player_name league_rank  last_rank  rank_sort  standings_total  \\\n",
       "0           Alex Kitson           1          0          1               79   \n",
       "1           Matt Harmer           2          0          2               73   \n",
       "2        Andrew Wallace           3          0          3               70   \n",
       "3       Rory McCullough           4          0          4               69   \n",
       "4           Liam Aylwin           5          0          5               66   \n",
       "5      Prince Ehigiator           6          0          6               65   \n",
       "6          Dominic Rech           7          0          7               64   \n",
       "7          Daniel Brown           7          0          8               64   \n",
       "8        William Levick           9          0          9               63   \n",
       "9         Mark Longmire          10          0         10               60   \n",
       "10      George Thompson          10          0         11               60   \n",
       "11        Ollie Anthony          12          0         12               58   \n",
       "12       Oliver Bignall          13          0         13               57   \n",
       "13  Patrick Prendergast          13          0         14               57   \n",
       "14        Jack Chalkley          15          0         15               53   \n",
       "15        Jack Chandler          15          0         16               53   \n",
       "16          Mason Scott          17          0         17               45   \n",
       "17         Jack Grimley          18          0         18               41   \n",
       "\n",
       "              entry_name  \n",
       "0      no fans no ground  \n",
       "1   I Am The One Awoniyi  \n",
       "2              Boggie FC  \n",
       "3    AthletEcho Falls FC  \n",
       "4    Unbelievable Jeff!!  \n",
       "5         Mixed grill FC  \n",
       "6        Wout of control  \n",
       "7      Mee Jerk Reaction  \n",
       "8     good kid mAAn city  \n",
       "9   Chalky's Complainers  \n",
       "10     Sydney SweeDeeney  \n",
       "11      Blues till I die  \n",
       "12             Biggie FC  \n",
       "13    Who Got The Assist  \n",
       "14      Ten Hag’s Slahgs  \n",
       "15        Rice Rice Baby  \n",
       "16         RayaSavedJack  \n",
       "17    Stop Harris-ing me  \n",
       "\n",
       "[18 rows x 21 columns]"
      ]
     },
     "execution_count": 3,
     "metadata": {},
     "output_type": "execute_result"
    }
   ],
   "source": [
    "df"
   ]
  },
  {
   "cell_type": "code",
   "execution_count": 4,
   "metadata": {},
   "outputs": [
    {
     "data": {
      "text/html": [
       "<div>\n",
       "<style scoped>\n",
       "    .dataframe tbody tr th:only-of-type {\n",
       "        vertical-align: middle;\n",
       "    }\n",
       "\n",
       "    .dataframe tbody tr th {\n",
       "        vertical-align: top;\n",
       "    }\n",
       "\n",
       "    .dataframe thead th {\n",
       "        text-align: right;\n",
       "    }\n",
       "</style>\n",
       "<table border=\"1\" class=\"dataframe\">\n",
       "  <thead>\n",
       "    <tr style=\"text-align: right;\">\n",
       "      <th></th>\n",
       "      <th>player_name</th>\n",
       "      <th>entry_name</th>\n",
       "      <th>game_weeks_won</th>\n",
       "    </tr>\n",
       "  </thead>\n",
       "  <tbody>\n",
       "    <tr>\n",
       "      <th>0</th>\n",
       "      <td>Alex Kitson</td>\n",
       "      <td>no fans no ground</td>\n",
       "      <td>1</td>\n",
       "    </tr>\n",
       "  </tbody>\n",
       "</table>\n",
       "</div>"
      ],
      "text/plain": [
       "   player_name         entry_name  game_weeks_won\n",
       "0  Alex Kitson  no fans no ground               1"
      ]
     },
     "execution_count": 4,
     "metadata": {},
     "output_type": "execute_result"
    }
   ],
   "source": [
    "best_players = get_best_player_tally(df)\n",
    "best_players"
   ]
  },
  {
   "cell_type": "code",
   "execution_count": 5,
   "metadata": {},
   "outputs": [
    {
     "ename": "ParserException",
     "evalue": "Parser Error: syntax error at or near \"Name\"",
     "output_type": "error",
     "traceback": [
      "\u001b[0;31m---------------------------------------------------------------------------\u001b[0m",
      "\u001b[0;31mParserException\u001b[0m                           Traceback (most recent call last)",
      "Input \u001b[0;32mIn [5]\u001b[0m, in \u001b[0;36m<cell line: 1>\u001b[0;34m()\u001b[0m\n\u001b[0;32m----> 1\u001b[0m worst_players \u001b[38;5;241m=\u001b[39m \u001b[43mget_worst_player_tally\u001b[49m\u001b[43m(\u001b[49m\u001b[43mdf\u001b[49m\u001b[43m)\u001b[49m\n\u001b[1;32m      2\u001b[0m worst_players\n",
      "File \u001b[0;32m~/Documents/projects/fpl_league_wrapped/src/questions.py:326\u001b[0m, in \u001b[0;36mget_worst_player_tally\u001b[0;34m(duckdb_df)\u001b[0m\n\u001b[1;32m    313\u001b[0m \u001b[38;5;28;01mdef\u001b[39;00m \u001b[38;5;21mget_worst_player_tally\u001b[39m(duckdb_df):\n\u001b[1;32m    314\u001b[0m \u001b[38;5;250m    \u001b[39m\u001b[38;5;124;03m\"\"\"\u001b[39;00m\n\u001b[1;32m    315\u001b[0m \u001b[38;5;124;03m    This function looks at every game week, and calculates the worst player tally.\u001b[39;00m\n\u001b[1;32m    316\u001b[0m \u001b[38;5;124;03m    The worst player is defined as the player who has the least points in that game week.\u001b[39;00m\n\u001b[0;32m   (...)\u001b[0m\n\u001b[1;32m    324\u001b[0m \u001b[38;5;124;03m    | player2     | entry2     | 3               |\u001b[39;00m\n\u001b[1;32m    325\u001b[0m \u001b[38;5;124;03m    \"\"\"\u001b[39;00m\n\u001b[0;32m--> 326\u001b[0m     \u001b[38;5;28;01mreturn\u001b[39;00m \u001b[43mduckdb\u001b[49m\u001b[38;5;241;43m.\u001b[39;49m\u001b[43mquery\u001b[49m\u001b[43m(\u001b[49m\u001b[38;5;124;43m\"\"\"\u001b[39;49m\n\u001b[1;32m    327\u001b[0m \u001b[38;5;124;43m        WITH worst_player AS (\u001b[39;49m\n\u001b[1;32m    328\u001b[0m \u001b[38;5;124;43m            SELECT \u001b[39;49m\n\u001b[1;32m    329\u001b[0m \u001b[38;5;124;43m                event, \u001b[39;49m\n\u001b[1;32m    330\u001b[0m \u001b[38;5;124;43m                player_name, \u001b[39;49m\n\u001b[1;32m    331\u001b[0m \u001b[38;5;124;43m                entry_name, \u001b[39;49m\n\u001b[1;32m    332\u001b[0m \u001b[38;5;124;43m                event_points,\u001b[39;49m\n\u001b[1;32m    333\u001b[0m \u001b[38;5;124;43m                RANK() OVER (PARTITION BY event ORDER BY event_points ASC) as rank\u001b[39;49m\n\u001b[1;32m    334\u001b[0m \u001b[38;5;124;43m            FROM \u001b[39;49m\n\u001b[1;32m    335\u001b[0m \u001b[38;5;124;43m                duckdb_df\u001b[39;49m\n\u001b[1;32m    336\u001b[0m \u001b[38;5;124;43m        )\u001b[39;49m\n\u001b[1;32m    337\u001b[0m \u001b[38;5;124;43m        SELECT \u001b[39;49m\n\u001b[1;32m    338\u001b[0m \u001b[38;5;124;43m            player_name AS Player Name, \u001b[39;49m\n\u001b[1;32m    339\u001b[0m \u001b[38;5;124;43m            entry_name AS Entry Name, \u001b[39;49m\n\u001b[1;32m    340\u001b[0m \u001b[38;5;124;43m            COUNT(*) AS Tickets\u001b[39;49m\n\u001b[1;32m    341\u001b[0m \u001b[38;5;124;43m        FROM \u001b[39;49m\n\u001b[1;32m    342\u001b[0m \u001b[38;5;124;43m            worst_player\u001b[39;49m\n\u001b[1;32m    343\u001b[0m \u001b[38;5;124;43m        WHERE \u001b[39;49m\n\u001b[1;32m    344\u001b[0m \u001b[38;5;124;43m            rank = 1\u001b[39;49m\n\u001b[1;32m    345\u001b[0m \u001b[38;5;124;43m        GROUP BY \u001b[39;49m\n\u001b[1;32m    346\u001b[0m \u001b[38;5;124;43m            player_name, \u001b[39;49m\n\u001b[1;32m    347\u001b[0m \u001b[38;5;124;43m            entry_name\u001b[39;49m\n\u001b[1;32m    348\u001b[0m \u001b[38;5;124;43m        HAVING \u001b[39;49m\n\u001b[1;32m    349\u001b[0m \u001b[38;5;124;43m            COUNT(*) > 0\u001b[39;49m\n\u001b[1;32m    350\u001b[0m \u001b[38;5;124;43m        ORDER BY \u001b[39;49m\n\u001b[1;32m    351\u001b[0m \u001b[38;5;124;43m            game_weeks_lost DESC\u001b[39;49m\n\u001b[1;32m    352\u001b[0m \u001b[38;5;124;43m    \u001b[39;49m\u001b[38;5;124;43m\"\"\"\u001b[39;49m\u001b[43m)\u001b[49m\u001b[38;5;241m.\u001b[39mto_df()\n",
      "\u001b[0;31mParserException\u001b[0m: Parser Error: syntax error at or near \"Name\""
     ]
    }
   ],
   "source": [
    "worst_players = get_worst_player_tally(df)\n",
    "worst_players"
   ]
  },
  {
   "cell_type": "code",
   "execution_count": 4,
   "metadata": {},
   "outputs": [
    {
     "data": {
      "text/html": [
       "<div>\n",
       "<style scoped>\n",
       "    .dataframe tbody tr th:only-of-type {\n",
       "        vertical-align: middle;\n",
       "    }\n",
       "\n",
       "    .dataframe tbody tr th {\n",
       "        vertical-align: top;\n",
       "    }\n",
       "\n",
       "    .dataframe thead th {\n",
       "        text-align: right;\n",
       "    }\n",
       "</style>\n",
       "<table border=\"1\" class=\"dataframe\">\n",
       "  <thead>\n",
       "    <tr style=\"text-align: right;\">\n",
       "      <th></th>\n",
       "      <th>player_name</th>\n",
       "      <th>entry_name</th>\n",
       "      <th>gameweek</th>\n",
       "      <th>points</th>\n",
       "    </tr>\n",
       "  </thead>\n",
       "  <tbody>\n",
       "    <tr>\n",
       "      <th>0</th>\n",
       "      <td>Alex Kitson</td>\n",
       "      <td>no fans no ground</td>\n",
       "      <td>1</td>\n",
       "      <td>79.0</td>\n",
       "    </tr>\n",
       "    <tr>\n",
       "      <th>1</th>\n",
       "      <td>Daniel Brown</td>\n",
       "      <td>Mee Jerk Reaction</td>\n",
       "      <td>1</td>\n",
       "      <td>64.0</td>\n",
       "    </tr>\n",
       "    <tr>\n",
       "      <th>2</th>\n",
       "      <td>Jack Grimley</td>\n",
       "      <td>Stop Harris-ing me</td>\n",
       "      <td>1</td>\n",
       "      <td>41.0</td>\n",
       "    </tr>\n",
       "    <tr>\n",
       "      <th>3</th>\n",
       "      <td>Mark Longmire</td>\n",
       "      <td>Chalky's Complainers</td>\n",
       "      <td>1</td>\n",
       "      <td>60.0</td>\n",
       "    </tr>\n",
       "    <tr>\n",
       "      <th>4</th>\n",
       "      <td>Prince Ehigiator</td>\n",
       "      <td>Mixed grill FC</td>\n",
       "      <td>1</td>\n",
       "      <td>65.0</td>\n",
       "    </tr>\n",
       "    <tr>\n",
       "      <th>5</th>\n",
       "      <td>Rory McCullough</td>\n",
       "      <td>AthletEcho Falls FC</td>\n",
       "      <td>1</td>\n",
       "      <td>69.0</td>\n",
       "    </tr>\n",
       "    <tr>\n",
       "      <th>6</th>\n",
       "      <td>Jack Chalkley</td>\n",
       "      <td>Ten Hag’s Slahgs</td>\n",
       "      <td>1</td>\n",
       "      <td>53.0</td>\n",
       "    </tr>\n",
       "    <tr>\n",
       "      <th>7</th>\n",
       "      <td>Mason Scott</td>\n",
       "      <td>RayaSavedJack</td>\n",
       "      <td>1</td>\n",
       "      <td>45.0</td>\n",
       "    </tr>\n",
       "    <tr>\n",
       "      <th>8</th>\n",
       "      <td>Oliver Bignall</td>\n",
       "      <td>Biggie FC</td>\n",
       "      <td>1</td>\n",
       "      <td>57.0</td>\n",
       "    </tr>\n",
       "    <tr>\n",
       "      <th>9</th>\n",
       "      <td>William Levick</td>\n",
       "      <td>good kid mAAn city</td>\n",
       "      <td>1</td>\n",
       "      <td>63.0</td>\n",
       "    </tr>\n",
       "    <tr>\n",
       "      <th>10</th>\n",
       "      <td>Dominic Rech</td>\n",
       "      <td>Wout of control</td>\n",
       "      <td>1</td>\n",
       "      <td>64.0</td>\n",
       "    </tr>\n",
       "    <tr>\n",
       "      <th>11</th>\n",
       "      <td>Patrick Prendergast</td>\n",
       "      <td>Who Got The Assist</td>\n",
       "      <td>1</td>\n",
       "      <td>57.0</td>\n",
       "    </tr>\n",
       "    <tr>\n",
       "      <th>12</th>\n",
       "      <td>George Thompson</td>\n",
       "      <td>Sydney SweeDeeney</td>\n",
       "      <td>1</td>\n",
       "      <td>60.0</td>\n",
       "    </tr>\n",
       "    <tr>\n",
       "      <th>13</th>\n",
       "      <td>Jack Chandler</td>\n",
       "      <td>Rice Rice Baby</td>\n",
       "      <td>1</td>\n",
       "      <td>53.0</td>\n",
       "    </tr>\n",
       "    <tr>\n",
       "      <th>14</th>\n",
       "      <td>Matt Harmer</td>\n",
       "      <td>I Am The One Awoniyi</td>\n",
       "      <td>1</td>\n",
       "      <td>73.0</td>\n",
       "    </tr>\n",
       "    <tr>\n",
       "      <th>15</th>\n",
       "      <td>Ollie Anthony</td>\n",
       "      <td>Blues till I die</td>\n",
       "      <td>1</td>\n",
       "      <td>58.0</td>\n",
       "    </tr>\n",
       "    <tr>\n",
       "      <th>16</th>\n",
       "      <td>Andrew Wallace</td>\n",
       "      <td>Boggie FC</td>\n",
       "      <td>1</td>\n",
       "      <td>70.0</td>\n",
       "    </tr>\n",
       "    <tr>\n",
       "      <th>17</th>\n",
       "      <td>Liam Aylwin</td>\n",
       "      <td>Unbelievable Jeff!!</td>\n",
       "      <td>1</td>\n",
       "      <td>66.0</td>\n",
       "    </tr>\n",
       "  </tbody>\n",
       "</table>\n",
       "</div>"
      ],
      "text/plain": [
       "            player_name            entry_name  gameweek  points\n",
       "0           Alex Kitson     no fans no ground         1    79.0\n",
       "1          Daniel Brown     Mee Jerk Reaction         1    64.0\n",
       "2          Jack Grimley    Stop Harris-ing me         1    41.0\n",
       "3         Mark Longmire  Chalky's Complainers         1    60.0\n",
       "4      Prince Ehigiator        Mixed grill FC         1    65.0\n",
       "5       Rory McCullough   AthletEcho Falls FC         1    69.0\n",
       "6         Jack Chalkley      Ten Hag’s Slahgs         1    53.0\n",
       "7           Mason Scott         RayaSavedJack         1    45.0\n",
       "8        Oliver Bignall             Biggie FC         1    57.0\n",
       "9        William Levick    good kid mAAn city         1    63.0\n",
       "10         Dominic Rech       Wout of control         1    64.0\n",
       "11  Patrick Prendergast    Who Got The Assist         1    57.0\n",
       "12      George Thompson     Sydney SweeDeeney         1    60.0\n",
       "13        Jack Chandler        Rice Rice Baby         1    53.0\n",
       "14          Matt Harmer  I Am The One Awoniyi         1    73.0\n",
       "15        Ollie Anthony      Blues till I die         1    58.0\n",
       "16       Andrew Wallace             Boggie FC         1    70.0\n",
       "17          Liam Aylwin   Unbelievable Jeff!!         1    66.0"
      ]
     },
     "execution_count": 4,
     "metadata": {},
     "output_type": "execute_result"
    }
   ],
   "source": [
    "game_week_points = get_points_by_gameweek(df)\n",
    "game_week_points.head(20)"
   ]
  },
  {
   "cell_type": "code",
   "execution_count": 4,
   "metadata": {},
   "outputs": [
    {
     "name": "stderr",
     "output_type": "stream",
     "text": [
      "/Users/echandler/Documents/projects/fpl_blogs/fpl_league_wrapped/venv/lib/python3.10/site-packages/bar_chart_race/_utils.py:204: FutureWarning: DataFrame.fillna with 'method' is deprecated and will raise in a future version. Use obj.ffill() or obj.bfill() instead.\n",
      "  df_wide = df.pivot_table(index=index, columns=columns, values=values,\n",
      "/Users/echandler/Documents/projects/fpl_blogs/fpl_league_wrapped/venv/lib/python3.10/site-packages/bar_chart_race/_utils.py:111: FutureWarning: Series.fillna with 'method' is deprecated and will raise in a future version. Use obj.ffill() or obj.bfill() instead.\n",
      "  df_values.iloc[:, 0] = df_values.iloc[:, 0].fillna(method='ffill')\n",
      "/Users/echandler/Documents/projects/fpl_blogs/fpl_league_wrapped/venv/lib/python3.10/site-packages/bar_chart_race/_utils.py:111: FutureWarning: Series.fillna with 'method' is deprecated and will raise in a future version. Use obj.ffill() or obj.bfill() instead.\n",
      "  df_values.iloc[:, 0] = df_values.iloc[:, 0].fillna(method='ffill')\n"
     ]
    },
    {
     "ename": "Exception",
     "evalue": "Requested MovieWriter (ffmpeg) not available",
     "output_type": "error",
     "traceback": [
      "\u001b[0;31m---------------------------------------------------------------------------\u001b[0m",
      "\u001b[0;31mRuntimeError\u001b[0m                              Traceback (most recent call last)",
      "File \u001b[0;32m~/Documents/projects/fpl_blogs/fpl_league_wrapped/venv/lib/python3.10/site-packages/bar_chart_race/_bar_chart_race.py:491\u001b[0m, in \u001b[0;36m_BarChartRace.make_animation\u001b[0;34m(self)\u001b[0m\n\u001b[1;32m    490\u001b[0m \u001b[38;5;28;01mif\u001b[39;00m \u001b[38;5;28mself\u001b[39m\u001b[38;5;241m.\u001b[39mhtml:\n\u001b[0;32m--> 491\u001b[0m     ret_val \u001b[38;5;241m=\u001b[39m \u001b[43manim\u001b[49m\u001b[38;5;241;43m.\u001b[39;49m\u001b[43mto_html5_video\u001b[49m\u001b[43m(\u001b[49m\u001b[43msavefig_kwargs\u001b[49m\u001b[38;5;241;43m=\u001b[39;49m\u001b[43msavefig_kwargs\u001b[49m\u001b[43m)\u001b[49m\n\u001b[1;32m    492\u001b[0m     \u001b[38;5;28;01mtry\u001b[39;00m:\n",
      "File \u001b[0;32m~/Documents/projects/fpl_blogs/fpl_league_wrapped/venv/lib/python3.10/site-packages/bar_chart_race/_func_animation.py:55\u001b[0m, in \u001b[0;36mFuncAnimation.to_html5_video\u001b[0;34m(self, embed_limit, savefig_kwargs)\u001b[0m\n\u001b[1;32m     53\u001b[0m \u001b[38;5;66;03m# We create a writer manually so that we can get the\u001b[39;00m\n\u001b[1;32m     54\u001b[0m \u001b[38;5;66;03m# appropriate size for the tag\u001b[39;00m\n\u001b[0;32m---> 55\u001b[0m Writer \u001b[38;5;241m=\u001b[39m \u001b[43manimation\u001b[49m\u001b[38;5;241;43m.\u001b[39;49m\u001b[43mwriters\u001b[49m\u001b[43m[\u001b[49m\u001b[43mrcParams\u001b[49m\u001b[43m[\u001b[49m\u001b[38;5;124;43m'\u001b[39;49m\u001b[38;5;124;43manimation.writer\u001b[39;49m\u001b[38;5;124;43m'\u001b[39;49m\u001b[43m]\u001b[49m\u001b[43m]\u001b[49m\n\u001b[1;32m     56\u001b[0m writer \u001b[38;5;241m=\u001b[39m Writer(codec\u001b[38;5;241m=\u001b[39m\u001b[38;5;124m'\u001b[39m\u001b[38;5;124mh264\u001b[39m\u001b[38;5;124m'\u001b[39m,\n\u001b[1;32m     57\u001b[0m                 bitrate\u001b[38;5;241m=\u001b[39mrcParams[\u001b[38;5;124m'\u001b[39m\u001b[38;5;124manimation.bitrate\u001b[39m\u001b[38;5;124m'\u001b[39m],\n\u001b[1;32m     58\u001b[0m                 fps\u001b[38;5;241m=\u001b[39m\u001b[38;5;241m1000.\u001b[39m \u001b[38;5;241m/\u001b[39m \u001b[38;5;28mself\u001b[39m\u001b[38;5;241m.\u001b[39m_interval)\n",
      "File \u001b[0;32m~/Documents/projects/fpl_blogs/fpl_league_wrapped/venv/lib/python3.10/site-packages/matplotlib/animation.py:148\u001b[0m, in \u001b[0;36mMovieWriterRegistry.__getitem__\u001b[0;34m(self, name)\u001b[0m\n\u001b[1;32m    147\u001b[0m     \u001b[38;5;28;01mreturn\u001b[39;00m \u001b[38;5;28mself\u001b[39m\u001b[38;5;241m.\u001b[39m_registered[name]\n\u001b[0;32m--> 148\u001b[0m \u001b[38;5;28;01mraise\u001b[39;00m \u001b[38;5;167;01mRuntimeError\u001b[39;00m(\u001b[38;5;124mf\u001b[39m\u001b[38;5;124m\"\u001b[39m\u001b[38;5;124mRequested MovieWriter (\u001b[39m\u001b[38;5;132;01m{\u001b[39;00mname\u001b[38;5;132;01m}\u001b[39;00m\u001b[38;5;124m) not available\u001b[39m\u001b[38;5;124m\"\u001b[39m)\n",
      "\u001b[0;31mRuntimeError\u001b[0m: Requested MovieWriter (ffmpeg) not available",
      "\nDuring handling of the above exception, another exception occurred:\n",
      "\u001b[0;31mException\u001b[0m                                 Traceback (most recent call last)",
      "Cell \u001b[0;32mIn[4], line 31\u001b[0m\n\u001b[1;32m     16\u001b[0m     df_values, df_ranks \u001b[38;5;241m=\u001b[39m bcr\u001b[38;5;241m.\u001b[39mprepare_long_data(df_data, \n\u001b[1;32m     17\u001b[0m                 index\u001b[38;5;241m=\u001b[39m\u001b[38;5;124m'\u001b[39m\u001b[38;5;124mgameweek\u001b[39m\u001b[38;5;124m'\u001b[39m, \n\u001b[1;32m     18\u001b[0m                 columns\u001b[38;5;241m=\u001b[39m\u001b[38;5;124m'\u001b[39m\u001b[38;5;124mentry_name\u001b[39m\u001b[38;5;124m'\u001b[39m, \n\u001b[1;32m     19\u001b[0m                 values\u001b[38;5;241m=\u001b[39m\u001b[38;5;124m'\u001b[39m\u001b[38;5;124mpoints\u001b[39m\u001b[38;5;124m'\u001b[39m, \n\u001b[1;32m     20\u001b[0m                 steps_per_period\u001b[38;5;241m=\u001b[39m\u001b[38;5;241m1\u001b[39m)\n\u001b[1;32m     22\u001b[0m     \u001b[38;5;28;01mreturn\u001b[39;00m bcr\u001b[38;5;241m.\u001b[39mbar_chart_race(df_values,\n\u001b[1;32m     23\u001b[0m                 n_bars\u001b[38;5;241m=\u001b[39m\u001b[38;5;241m16\u001b[39m, \n\u001b[1;32m     24\u001b[0m                 steps_per_period\u001b[38;5;241m=\u001b[39m\u001b[38;5;241m30\u001b[39m, \n\u001b[0;32m   (...)\u001b[0m\n\u001b[1;32m     28\u001b[0m                 fixed_max\u001b[38;5;241m=\u001b[39m\u001b[38;5;28;01mTrue\u001b[39;00m, \n\u001b[1;32m     29\u001b[0m                 filter_column_colors\u001b[38;5;241m=\u001b[39m\u001b[38;5;28;01mTrue\u001b[39;00m)\u001b[38;5;241m.\u001b[39mdata\n\u001b[0;32m---> 31\u001b[0m anim \u001b[38;5;241m=\u001b[39m \u001b[43mplot_graph_race\u001b[49m\u001b[43m(\u001b[49m\u001b[43mgame_week_points\u001b[49m\u001b[43m)\u001b[49m\n\u001b[1;32m     33\u001b[0m \u001b[38;5;66;03m# html_str = plot_graph_race(game_week_points)\u001b[39;00m\n\u001b[1;32m     34\u001b[0m \n\u001b[1;32m     35\u001b[0m \u001b[38;5;66;03m# start = html_str.find('base64,')+len('base64,')\u001b[39;00m\n\u001b[0;32m   (...)\u001b[0m\n\u001b[1;32m     38\u001b[0m \u001b[38;5;66;03m# video = base64.b64decode(html_str[start:end])\u001b[39;00m\n\u001b[1;32m     39\u001b[0m \u001b[38;5;66;03m# st.video(video)\u001b[39;00m\n",
      "Cell \u001b[0;32mIn[4], line 22\u001b[0m, in \u001b[0;36mplot_graph_race\u001b[0;34m(df_data)\u001b[0m\n\u001b[1;32m     15\u001b[0m \u001b[38;5;28;01mdef\u001b[39;00m \u001b[38;5;21mplot_graph_race\u001b[39m(df_data):\n\u001b[1;32m     16\u001b[0m     df_values, df_ranks \u001b[38;5;241m=\u001b[39m bcr\u001b[38;5;241m.\u001b[39mprepare_long_data(df_data, \n\u001b[1;32m     17\u001b[0m                 index\u001b[38;5;241m=\u001b[39m\u001b[38;5;124m'\u001b[39m\u001b[38;5;124mgameweek\u001b[39m\u001b[38;5;124m'\u001b[39m, \n\u001b[1;32m     18\u001b[0m                 columns\u001b[38;5;241m=\u001b[39m\u001b[38;5;124m'\u001b[39m\u001b[38;5;124mentry_name\u001b[39m\u001b[38;5;124m'\u001b[39m, \n\u001b[1;32m     19\u001b[0m                 values\u001b[38;5;241m=\u001b[39m\u001b[38;5;124m'\u001b[39m\u001b[38;5;124mpoints\u001b[39m\u001b[38;5;124m'\u001b[39m, \n\u001b[1;32m     20\u001b[0m                 steps_per_period\u001b[38;5;241m=\u001b[39m\u001b[38;5;241m1\u001b[39m)\n\u001b[0;32m---> 22\u001b[0m     \u001b[38;5;28;01mreturn\u001b[39;00m \u001b[43mbcr\u001b[49m\u001b[38;5;241;43m.\u001b[39;49m\u001b[43mbar_chart_race\u001b[49m\u001b[43m(\u001b[49m\u001b[43mdf_values\u001b[49m\u001b[43m,\u001b[49m\n\u001b[1;32m     23\u001b[0m \u001b[43m                \u001b[49m\u001b[43mn_bars\u001b[49m\u001b[38;5;241;43m=\u001b[39;49m\u001b[38;5;241;43m16\u001b[39;49m\u001b[43m,\u001b[49m\u001b[43m \u001b[49m\n\u001b[1;32m     24\u001b[0m \u001b[43m                \u001b[49m\u001b[43msteps_per_period\u001b[49m\u001b[38;5;241;43m=\u001b[39;49m\u001b[38;5;241;43m30\u001b[39;49m\u001b[43m,\u001b[49m\u001b[43m \u001b[49m\n\u001b[1;32m     25\u001b[0m \u001b[43m                \u001b[49m\u001b[43mperiod_length\u001b[49m\u001b[38;5;241;43m=\u001b[39;49m\u001b[38;5;241;43m1500\u001b[39;49m\u001b[43m,\u001b[49m\u001b[43m \u001b[49m\n\u001b[1;32m     26\u001b[0m \u001b[43m                \u001b[49m\u001b[43mtitle\u001b[49m\u001b[43m \u001b[49m\u001b[38;5;241;43m=\u001b[39;49m\u001b[43m \u001b[49m\u001b[38;5;124;43m'\u001b[39;49m\u001b[38;5;124;43mLeague Race\u001b[39;49m\u001b[38;5;124;43m'\u001b[39;49m\u001b[43m,\u001b[49m\u001b[43m \u001b[49m\n\u001b[1;32m     27\u001b[0m \u001b[43m                \u001b[49m\u001b[43mperiod_template\u001b[49m\u001b[38;5;241;43m=\u001b[39;49m\u001b[38;5;124;43m'\u001b[39;49m\u001b[38;5;132;43;01m{x:.0f}\u001b[39;49;00m\u001b[38;5;124;43m'\u001b[39;49m\u001b[43m,\u001b[49m\u001b[43m \u001b[49m\n\u001b[1;32m     28\u001b[0m \u001b[43m                \u001b[49m\u001b[43mfixed_max\u001b[49m\u001b[38;5;241;43m=\u001b[39;49m\u001b[38;5;28;43;01mTrue\u001b[39;49;00m\u001b[43m,\u001b[49m\u001b[43m \u001b[49m\n\u001b[1;32m     29\u001b[0m \u001b[43m                \u001b[49m\u001b[43mfilter_column_colors\u001b[49m\u001b[38;5;241;43m=\u001b[39;49m\u001b[38;5;28;43;01mTrue\u001b[39;49;00m\u001b[43m)\u001b[49m\u001b[38;5;241m.\u001b[39mdata\n",
      "File \u001b[0;32m~/Documents/projects/fpl_blogs/fpl_league_wrapped/venv/lib/python3.10/site-packages/bar_chart_race/_bar_chart_race.py:876\u001b[0m, in \u001b[0;36mbar_chart_race\u001b[0;34m(df, filename, orientation, sort, n_bars, fixed_order, fixed_max, steps_per_period, period_length, end_period_pause, interpolate_period, period_label, period_template, period_summary_func, perpendicular_bar_func, colors, title, bar_size, bar_textposition, bar_texttemplate, bar_label_font, tick_label_font, tick_template, shared_fontdict, scale, fig, writer, bar_kwargs, fig_kwargs, filter_column_colors)\u001b[0m\n\u001b[1;32m    521\u001b[0m \u001b[38;5;250m\u001b[39m\u001b[38;5;124;03m'''\u001b[39;00m\n\u001b[1;32m    522\u001b[0m \u001b[38;5;124;03mCreate an animated bar chart race using matplotlib. Data must be in \u001b[39;00m\n\u001b[1;32m    523\u001b[0m \u001b[38;5;124;03m'wide' format where each row represents a single time period and each \u001b[39;00m\n\u001b[0;32m   (...)\u001b[0m\n\u001b[1;32m    868\u001b[0m \u001b[38;5;124;03mThese sizes are relative to plt.rcParams['font.size'].\u001b[39;00m\n\u001b[1;32m    869\u001b[0m \u001b[38;5;124;03m'''\u001b[39;00m\n\u001b[1;32m    870\u001b[0m bcr \u001b[38;5;241m=\u001b[39m _BarChartRace(df, filename, orientation, sort, n_bars, fixed_order, fixed_max,\n\u001b[1;32m    871\u001b[0m                     steps_per_period, period_length, end_period_pause, interpolate_period, \n\u001b[1;32m    872\u001b[0m                     period_label, period_template, period_summary_func, perpendicular_bar_func,\n\u001b[1;32m    873\u001b[0m                     colors, title, bar_size, bar_textposition, bar_texttemplate, \n\u001b[1;32m    874\u001b[0m                     bar_label_font, tick_label_font, tick_template, shared_fontdict, scale, \n\u001b[1;32m    875\u001b[0m                     fig, writer, bar_kwargs, fig_kwargs, filter_column_colors)\n\u001b[0;32m--> 876\u001b[0m \u001b[38;5;28;01mreturn\u001b[39;00m \u001b[43mbcr\u001b[49m\u001b[38;5;241;43m.\u001b[39;49m\u001b[43mmake_animation\u001b[49m\u001b[43m(\u001b[49m\u001b[43m)\u001b[49m\n",
      "File \u001b[0;32m~/Documents/projects/fpl_blogs/fpl_league_wrapped/venv/lib/python3.10/site-packages/bar_chart_race/_bar_chart_race.py:505\u001b[0m, in \u001b[0;36m_BarChartRace.make_animation\u001b[0;34m(self)\u001b[0m\n\u001b[1;32m    503\u001b[0m \u001b[38;5;28;01mexcept\u001b[39;00m \u001b[38;5;167;01mException\u001b[39;00m \u001b[38;5;28;01mas\u001b[39;00m e:\n\u001b[1;32m    504\u001b[0m     message \u001b[38;5;241m=\u001b[39m \u001b[38;5;28mstr\u001b[39m(e)\n\u001b[0;32m--> 505\u001b[0m     \u001b[38;5;28;01mraise\u001b[39;00m \u001b[38;5;167;01mException\u001b[39;00m(message)\n\u001b[1;32m    506\u001b[0m \u001b[38;5;28;01mfinally\u001b[39;00m:\n\u001b[1;32m    507\u001b[0m     plt\u001b[38;5;241m.\u001b[39mrcParams \u001b[38;5;241m=\u001b[39m \u001b[38;5;28mself\u001b[39m\u001b[38;5;241m.\u001b[39morig_rcParams\n",
      "\u001b[0;31mException\u001b[0m: Requested MovieWriter (ffmpeg) not available"
     ]
    }
   ],
   "source": [
    "import pandas as pd\n",
    "import numpy as np\n",
    "import locale\n",
    "import plotly.express as px\n",
    "import plotly.graph_objects as go\n",
    "import streamlit as st\n",
    "import streamlit.components.v1 as components\n",
    "import io\n",
    "import bar_chart_race as bcr\n",
    "import base64\n",
    "\n",
    "from IPython.display import Video\n",
    "\n",
    "@st.cache_data\n",
    "def plot_graph_race(df_data):\n",
    "    df_values, df_ranks = bcr.prepare_long_data(df_data, \n",
    "                index='gameweek', \n",
    "                columns='entry_name', \n",
    "                values='points', \n",
    "                steps_per_period=1)\n",
    "\n",
    "    return bcr.bar_chart_race(df_values,\n",
    "                n_bars=16, \n",
    "                steps_per_period=30, \n",
    "                period_length=1500, \n",
    "                title = 'League Race', \n",
    "                period_template='{x:.0f}', \n",
    "                fixed_max=True, \n",
    "                filter_column_colors=True).data\n",
    "\n",
    "html_str = plot_graph_race(game_week_points)\n",
    "\n",
    "start = html_str.find('base64,')+len('base64,')\n",
    "end = html_str.find('\">')\n",
    "\n",
    "video = base64.b64decode(html_str[start:end])\n",
    "st.video(video)"
   ]
  },
  {
   "cell_type": "code",
   "execution_count": null,
   "metadata": {},
   "outputs": [
    {
     "ename": "NameError",
     "evalue": "name 'anim' is not defined",
     "output_type": "error",
     "traceback": [
      "\u001b[0;31m---------------------------------------------------------------------------\u001b[0m",
      "\u001b[0;31mNameError\u001b[0m                                 Traceback (most recent call last)",
      "Cell \u001b[0;32mIn[6], line 1\u001b[0m\n\u001b[0;32m----> 1\u001b[0m Video(\u001b[43manim\u001b[49m, embed\u001b[38;5;241m=\u001b[39m\u001b[38;5;28;01mTrue\u001b[39;00m)\n",
      "\u001b[0;31mNameError\u001b[0m: name 'anim' is not defined"
     ]
    }
   ],
   "source": [
    "Video(anim, embed=True)"
   ]
  },
  {
   "cell_type": "markdown",
   "metadata": {},
   "source": [
    "# Answer Initial Questions\n",
    "Use the loaded data to answer the questions found in the Initial Questions Answered section in README.md."
   ]
  },
  {
   "cell_type": "code",
   "execution_count": 13,
   "metadata": {},
   "outputs": [],
   "source": [
    "from IPython.display import display\n",
    "pd.set_option('display.max_rows', 500)\n",
    "pd.set_option('display.max_columns', 500)\n",
    "pd.set_option('display.width', 1000)\n",
    "\n",
    "# From the get_rank result, create a function that calculates the highest, lowest and average rank for each player using SQL\n",
    "def get_player_rank(duckdb_df):\n",
    "    \"\"\"\n",
    "    This function returns a DataFrame with the highest, lowest and average rank for each player\n",
    "    \"\"\"\n",
    "    return duckdb.query(\"\"\"\n",
    "        WITH total_points AS (\n",
    "            SELECT \n",
    "                event, \n",
    "                event_points, \n",
    "                entry_name, \n",
    "                player_name,\n",
    "                SUM(event_points) OVER (PARTITION BY player_name, entry_name ORDER BY event) AS total_points\n",
    "            FROM\n",
    "                duckdb_df\n",
    "        )\n",
    "        SELECT \n",
    "            player_name,\n",
    "            entry_name,\n",
    "            MAX(rank) as worst_rank,\n",
    "            MIN(rank) as best_rank,\n",
    "            AVG(rank) as average_rank\n",
    "        FROM (\n",
    "            SELECT \n",
    "                event, \n",
    "                event_points, \n",
    "                entry_name, \n",
    "                player_name,\n",
    "                total_points,\n",
    "                RANK() OVER (PARTITION BY event ORDER BY total_points DESC) as rank\n",
    "            FROM\n",
    "                total_points\n",
    "        )\n",
    "        GROUP BY\n",
    "            player_name,\n",
    "            entry_name\n",
    "    \"\"\").to_df()"
   ]
  },
  {
   "cell_type": "code",
   "execution_count": 22,
   "metadata": {},
   "outputs": [
    {
     "data": {
      "text/html": [
       "<div>\n",
       "<style scoped>\n",
       "    .dataframe tbody tr th:only-of-type {\n",
       "        vertical-align: middle;\n",
       "    }\n",
       "\n",
       "    .dataframe tbody tr th {\n",
       "        vertical-align: top;\n",
       "    }\n",
       "\n",
       "    .dataframe thead th {\n",
       "        text-align: right;\n",
       "    }\n",
       "</style>\n",
       "<table border=\"1\" class=\"dataframe\">\n",
       "  <thead>\n",
       "    <tr style=\"text-align: right;\">\n",
       "      <th></th>\n",
       "      <th>player_name</th>\n",
       "      <th>entry_name</th>\n",
       "      <th>worst_rank</th>\n",
       "      <th>event_list</th>\n",
       "    </tr>\n",
       "  </thead>\n",
       "  <tbody>\n",
       "    <tr>\n",
       "      <th>0</th>\n",
       "      <td>Alex Kitson</td>\n",
       "      <td>4-4-*******-2</td>\n",
       "      <td>16</td>\n",
       "      <td>3, 10, 11, 12, 13, 14, 15, 16, 17, 18</td>\n",
       "    </tr>\n",
       "    <tr>\n",
       "      <th>1</th>\n",
       "      <td>Andrew Wallace</td>\n",
       "      <td>Boggie FC</td>\n",
       "      <td>10</td>\n",
       "      <td>31</td>\n",
       "    </tr>\n",
       "    <tr>\n",
       "      <th>2</th>\n",
       "      <td>Daniel Brown</td>\n",
       "      <td>Benson and Hedges</td>\n",
       "      <td>16</td>\n",
       "      <td>7</td>\n",
       "    </tr>\n",
       "    <tr>\n",
       "      <th>3</th>\n",
       "      <td>Dominic Rech</td>\n",
       "      <td>In Good Kompany</td>\n",
       "      <td>10</td>\n",
       "      <td>4, 5</td>\n",
       "    </tr>\n",
       "    <tr>\n",
       "      <th>4</th>\n",
       "      <td>Fin Whittington</td>\n",
       "      <td>Is Your Motherwell</td>\n",
       "      <td>16</td>\n",
       "      <td>23, 24, 25, 26, 27, 28, 29, 30, 31, 32, 33, 34...</td>\n",
       "    </tr>\n",
       "    <tr>\n",
       "      <th>5</th>\n",
       "      <td>Jack Chalkley</td>\n",
       "      <td>Garnachos</td>\n",
       "      <td>10</td>\n",
       "      <td>1</td>\n",
       "    </tr>\n",
       "    <tr>\n",
       "      <th>6</th>\n",
       "      <td>Jack Grimley</td>\n",
       "      <td>Cancelo Culture</td>\n",
       "      <td>15</td>\n",
       "      <td>27, 28, 30, 36</td>\n",
       "    </tr>\n",
       "    <tr>\n",
       "      <th>7</th>\n",
       "      <td>Liam Aylwin</td>\n",
       "      <td>Unbelievable Jeff!!</td>\n",
       "      <td>11</td>\n",
       "      <td>34</td>\n",
       "    </tr>\n",
       "    <tr>\n",
       "      <th>8</th>\n",
       "      <td>Mark Longmire</td>\n",
       "      <td>Botman Begins</td>\n",
       "      <td>10</td>\n",
       "      <td>19</td>\n",
       "    </tr>\n",
       "    <tr>\n",
       "      <th>9</th>\n",
       "      <td>Mason Scott</td>\n",
       "      <td>FC Mase</td>\n",
       "      <td>10</td>\n",
       "      <td>2, 23, 29, 30</td>\n",
       "    </tr>\n",
       "    <tr>\n",
       "      <th>10</th>\n",
       "      <td>Matt Harmer</td>\n",
       "      <td>Worrall Loada C*ap</td>\n",
       "      <td>15</td>\n",
       "      <td>9</td>\n",
       "    </tr>\n",
       "    <tr>\n",
       "      <th>11</th>\n",
       "      <td>Oliver Bignall</td>\n",
       "      <td>Biggie FC</td>\n",
       "      <td>15</td>\n",
       "      <td>2</td>\n",
       "    </tr>\n",
       "    <tr>\n",
       "      <th>12</th>\n",
       "      <td>Patrick Prendergast</td>\n",
       "      <td>Who Got The Assist</td>\n",
       "      <td>16</td>\n",
       "      <td>6</td>\n",
       "    </tr>\n",
       "    <tr>\n",
       "      <th>13</th>\n",
       "      <td>Prince Ehigiator</td>\n",
       "      <td>McCris-P FC</td>\n",
       "      <td>15</td>\n",
       "      <td>21, 22</td>\n",
       "    </tr>\n",
       "    <tr>\n",
       "      <th>14</th>\n",
       "      <td>Rory McCullough</td>\n",
       "      <td>AthletEcho Falls FC</td>\n",
       "      <td>15</td>\n",
       "      <td>1</td>\n",
       "    </tr>\n",
       "    <tr>\n",
       "      <th>15</th>\n",
       "      <td>William Levick</td>\n",
       "      <td>Haalandaise Sauce</td>\n",
       "      <td>16</td>\n",
       "      <td>1, 8, 20, 21, 22</td>\n",
       "    </tr>\n",
       "  </tbody>\n",
       "</table>\n",
       "</div>"
      ],
      "text/plain": [
       "            player_name           entry_name  worst_rank                                         event_list\n",
       "0           Alex Kitson        4-4-*******-2          16              3, 10, 11, 12, 13, 14, 15, 16, 17, 18\n",
       "1        Andrew Wallace            Boggie FC          10                                                 31\n",
       "2          Daniel Brown    Benson and Hedges          16                                                  7\n",
       "3          Dominic Rech      In Good Kompany          10                                               4, 5\n",
       "4       Fin Whittington   Is Your Motherwell          16  23, 24, 25, 26, 27, 28, 29, 30, 31, 32, 33, 34...\n",
       "5         Jack Chalkley            Garnachos          10                                                  1\n",
       "6          Jack Grimley      Cancelo Culture          15                                     27, 28, 30, 36\n",
       "7           Liam Aylwin  Unbelievable Jeff!!          11                                                 34\n",
       "8         Mark Longmire        Botman Begins          10                                                 19\n",
       "9           Mason Scott              FC Mase          10                                      2, 23, 29, 30\n",
       "10          Matt Harmer   Worrall Loada C*ap          15                                                  9\n",
       "11       Oliver Bignall            Biggie FC          15                                                  2\n",
       "12  Patrick Prendergast   Who Got The Assist          16                                                  6\n",
       "13     Prince Ehigiator          McCris-P FC          15                                             21, 22\n",
       "14      Rory McCullough  AthletEcho Falls FC          15                                                  1\n",
       "15       William Levick    Haalandaise Sauce          16                                   1, 8, 20, 21, 22"
      ]
     },
     "execution_count": 22,
     "metadata": {},
     "output_type": "execute_result"
    }
   ],
   "source": [
    "def get_player_worst_rank_event(duckdb_df):\n",
    "    \"\"\"\n",
    "    This function returns a DataFrame with the player_name, entry_name, worst_rank, and the event on which that worst_rank happened\n",
    "    \"\"\"\n",
    "    return duckdb.query(\"\"\"\n",
    "        WITH total_points AS (\n",
    "            SELECT \n",
    "                event, \n",
    "                event_points, \n",
    "                entry_name, \n",
    "                player_name,\n",
    "                SUM(event_points) OVER (PARTITION BY player_name, entry_name ORDER BY event) AS total_points\n",
    "            FROM\n",
    "                duckdb_df\n",
    "        ),\n",
    "        ranks AS (\n",
    "            SELECT \n",
    "                event, \n",
    "                event_points, \n",
    "                entry_name, \n",
    "                player_name,\n",
    "                total_points,\n",
    "                RANK() OVER (PARTITION BY event ORDER BY total_points DESC) as rank\n",
    "            FROM\n",
    "                total_points\n",
    "        ),\n",
    "        worst_ranks AS (\n",
    "            SELECT \n",
    "                player_name,\n",
    "                entry_name,\n",
    "                MAX(rank) as worst_rank\n",
    "            FROM \n",
    "                ranks\n",
    "            GROUP BY\n",
    "                player_name,\n",
    "                entry_name\n",
    "        )\n",
    "        SELECT \n",
    "            wr.player_name,\n",
    "            wr.entry_name,\n",
    "            wr.worst_rank,\n",
    "            STRING_AGG(CAST(r.event AS VARCHAR), ', ' ORDER BY event) AS event_list\n",
    "        FROM\n",
    "            worst_ranks wr\n",
    "        JOIN \n",
    "            ranks r\n",
    "        ON \n",
    "            wr.player_name = r.player_name AND \n",
    "            wr.entry_name = r.entry_name AND \n",
    "            wr.worst_rank = r.rank\n",
    "        GROUP BY\n",
    "            wr.player_name,\n",
    "            wr.entry_name,\n",
    "            wr.worst_rank\n",
    "        ORDER BY \n",
    "            wr.player_name\n",
    "    \"\"\").to_df()\n",
    "\n",
    "get_player_worst_rank_event(duckdb_df)"
   ]
  },
  {
   "cell_type": "code",
   "execution_count": 23,
   "metadata": {},
   "outputs": [
    {
     "data": {
      "text/html": [
       "<div>\n",
       "<style scoped>\n",
       "    .dataframe tbody tr th:only-of-type {\n",
       "        vertical-align: middle;\n",
       "    }\n",
       "\n",
       "    .dataframe tbody tr th {\n",
       "        vertical-align: top;\n",
       "    }\n",
       "\n",
       "    .dataframe thead th {\n",
       "        text-align: right;\n",
       "    }\n",
       "</style>\n",
       "<table border=\"1\" class=\"dataframe\">\n",
       "  <thead>\n",
       "    <tr style=\"text-align: right;\">\n",
       "      <th></th>\n",
       "      <th>player_name</th>\n",
       "      <th>entry_name</th>\n",
       "      <th>best_rank</th>\n",
       "      <th>event_list</th>\n",
       "    </tr>\n",
       "  </thead>\n",
       "  <tbody>\n",
       "    <tr>\n",
       "      <th>0</th>\n",
       "      <td>Alex Kitson</td>\n",
       "      <td>4-4-*******-2</td>\n",
       "      <td>5</td>\n",
       "      <td>29, 30</td>\n",
       "    </tr>\n",
       "    <tr>\n",
       "      <th>1</th>\n",
       "      <td>Andrew Wallace</td>\n",
       "      <td>Boggie FC</td>\n",
       "      <td>2</td>\n",
       "      <td>2, 14, 16, 17, 18, 21, 22, 23</td>\n",
       "    </tr>\n",
       "    <tr>\n",
       "      <th>2</th>\n",
       "      <td>Daniel Brown</td>\n",
       "      <td>Benson and Hedges</td>\n",
       "      <td>2</td>\n",
       "      <td>5</td>\n",
       "    </tr>\n",
       "    <tr>\n",
       "      <th>3</th>\n",
       "      <td>Dominic Rech</td>\n",
       "      <td>In Good Kompany</td>\n",
       "      <td>1</td>\n",
       "      <td>8, 9, 10, 11, 12, 13, 14, 15, 16, 17, 18, 19, ...</td>\n",
       "    </tr>\n",
       "    <tr>\n",
       "      <th>4</th>\n",
       "      <td>Fin Whittington</td>\n",
       "      <td>Is Your Motherwell</td>\n",
       "      <td>5</td>\n",
       "      <td>4</td>\n",
       "    </tr>\n",
       "    <tr>\n",
       "      <th>5</th>\n",
       "      <td>Jack Chalkley</td>\n",
       "      <td>Garnachos</td>\n",
       "      <td>3</td>\n",
       "      <td>5, 6, 19, 20, 21</td>\n",
       "    </tr>\n",
       "    <tr>\n",
       "      <th>6</th>\n",
       "      <td>Jack Grimley</td>\n",
       "      <td>Cancelo Culture</td>\n",
       "      <td>1</td>\n",
       "      <td>2</td>\n",
       "    </tr>\n",
       "    <tr>\n",
       "      <th>7</th>\n",
       "      <td>Liam Aylwin</td>\n",
       "      <td>Unbelievable Jeff!!</td>\n",
       "      <td>1</td>\n",
       "      <td>3</td>\n",
       "    </tr>\n",
       "    <tr>\n",
       "      <th>8</th>\n",
       "      <td>Mark Longmire</td>\n",
       "      <td>Botman Begins</td>\n",
       "      <td>2</td>\n",
       "      <td>10, 11, 12, 13, 24, 25, 26, 30, 32, 33</td>\n",
       "    </tr>\n",
       "    <tr>\n",
       "      <th>9</th>\n",
       "      <td>Mason Scott</td>\n",
       "      <td>FC Mase</td>\n",
       "      <td>1</td>\n",
       "      <td>1, 4, 5, 6, 7</td>\n",
       "    </tr>\n",
       "    <tr>\n",
       "      <th>10</th>\n",
       "      <td>Matt Harmer</td>\n",
       "      <td>Worrall Loada C*ap</td>\n",
       "      <td>7</td>\n",
       "      <td>2</td>\n",
       "    </tr>\n",
       "    <tr>\n",
       "      <th>11</th>\n",
       "      <td>Oliver Bignall</td>\n",
       "      <td>Biggie FC</td>\n",
       "      <td>2</td>\n",
       "      <td>27, 28, 29, 31</td>\n",
       "    </tr>\n",
       "    <tr>\n",
       "      <th>12</th>\n",
       "      <td>Patrick Prendergast</td>\n",
       "      <td>Who Got The Assist</td>\n",
       "      <td>2</td>\n",
       "      <td>34, 35, 36, 37, 38</td>\n",
       "    </tr>\n",
       "    <tr>\n",
       "      <th>13</th>\n",
       "      <td>Prince Ehigiator</td>\n",
       "      <td>McCris-P FC</td>\n",
       "      <td>3</td>\n",
       "      <td>2</td>\n",
       "    </tr>\n",
       "    <tr>\n",
       "      <th>14</th>\n",
       "      <td>Rory McCullough</td>\n",
       "      <td>AthletEcho Falls FC</td>\n",
       "      <td>2</td>\n",
       "      <td>15, 24</td>\n",
       "    </tr>\n",
       "    <tr>\n",
       "      <th>15</th>\n",
       "      <td>William Levick</td>\n",
       "      <td>Haalandaise Sauce</td>\n",
       "      <td>12</td>\n",
       "      <td>2, 37, 38</td>\n",
       "    </tr>\n",
       "  </tbody>\n",
       "</table>\n",
       "</div>"
      ],
      "text/plain": [
       "            player_name           entry_name  best_rank                                         event_list\n",
       "0           Alex Kitson        4-4-*******-2          5                                             29, 30\n",
       "1        Andrew Wallace            Boggie FC          2                      2, 14, 16, 17, 18, 21, 22, 23\n",
       "2          Daniel Brown    Benson and Hedges          2                                                  5\n",
       "3          Dominic Rech      In Good Kompany          1  8, 9, 10, 11, 12, 13, 14, 15, 16, 17, 18, 19, ...\n",
       "4       Fin Whittington   Is Your Motherwell          5                                                  4\n",
       "5         Jack Chalkley            Garnachos          3                                   5, 6, 19, 20, 21\n",
       "6          Jack Grimley      Cancelo Culture          1                                                  2\n",
       "7           Liam Aylwin  Unbelievable Jeff!!          1                                                  3\n",
       "8         Mark Longmire        Botman Begins          2             10, 11, 12, 13, 24, 25, 26, 30, 32, 33\n",
       "9           Mason Scott              FC Mase          1                                      1, 4, 5, 6, 7\n",
       "10          Matt Harmer   Worrall Loada C*ap          7                                                  2\n",
       "11       Oliver Bignall            Biggie FC          2                                     27, 28, 29, 31\n",
       "12  Patrick Prendergast   Who Got The Assist          2                                 34, 35, 36, 37, 38\n",
       "13     Prince Ehigiator          McCris-P FC          3                                                  2\n",
       "14      Rory McCullough  AthletEcho Falls FC          2                                             15, 24\n",
       "15       William Levick    Haalandaise Sauce         12                                          2, 37, 38"
      ]
     },
     "execution_count": 23,
     "metadata": {},
     "output_type": "execute_result"
    }
   ],
   "source": [
    "def get_player_best_rank_event(duckdb_df):\n",
    "    \"\"\"\n",
    "    This function returns a DataFrame with the player_name, entry_name, best_rank, and the event on which that best_rank happened\n",
    "    \"\"\"\n",
    "    return duckdb.query(\"\"\"\n",
    "        WITH total_points AS (\n",
    "            SELECT \n",
    "                event, \n",
    "                event_points, \n",
    "                entry_name, \n",
    "                player_name,\n",
    "                SUM(event_points) OVER (PARTITION BY player_name, entry_name ORDER BY event) AS total_points\n",
    "            FROM\n",
    "                duckdb_df\n",
    "        ),\n",
    "        ranks AS (\n",
    "            SELECT \n",
    "                event, \n",
    "                event_points, \n",
    "                entry_name, \n",
    "                player_name,\n",
    "                total_points,\n",
    "                RANK() OVER (PARTITION BY event ORDER BY total_points DESC) as rank\n",
    "            FROM\n",
    "                total_points\n",
    "        ),\n",
    "        best_ranks AS (\n",
    "            SELECT \n",
    "                player_name,\n",
    "                entry_name,\n",
    "                MIN(rank) as best_rank\n",
    "            FROM \n",
    "                ranks\n",
    "            GROUP BY\n",
    "                player_name,\n",
    "                entry_name\n",
    "        )\n",
    "        SELECT \n",
    "            br.player_name,\n",
    "            br.entry_name,\n",
    "            br.best_rank,\n",
    "            STRING_AGG(CAST(r.event AS VARCHAR), ', ' ORDER BY event) AS event_list\n",
    "        FROM\n",
    "            best_ranks br\n",
    "        JOIN \n",
    "            ranks r\n",
    "        ON \n",
    "            br.player_name = r.player_name AND \n",
    "            br.entry_name = r.entry_name AND \n",
    "            br.best_rank = r.rank\n",
    "        GROUP BY\n",
    "            br.player_name,\n",
    "            br.entry_name,\n",
    "            br.best_rank\n",
    "        ORDER BY \n",
    "            br.player_name\n",
    "    \"\"\").to_df()\n",
    "\n",
    "get_player_best_rank_event(duckdb_df)"
   ]
  },
  {
   "cell_type": "code",
   "execution_count": 14,
   "metadata": {},
   "outputs": [
    {
     "data": {
      "text/html": [
       "<div>\n",
       "<style scoped>\n",
       "    .dataframe tbody tr th:only-of-type {\n",
       "        vertical-align: middle;\n",
       "    }\n",
       "\n",
       "    .dataframe tbody tr th {\n",
       "        vertical-align: top;\n",
       "    }\n",
       "\n",
       "    .dataframe thead th {\n",
       "        text-align: right;\n",
       "    }\n",
       "</style>\n",
       "<table border=\"1\" class=\"dataframe\">\n",
       "  <thead>\n",
       "    <tr style=\"text-align: right;\">\n",
       "      <th></th>\n",
       "      <th>player_name</th>\n",
       "      <th>entry_name</th>\n",
       "      <th>worst_rank</th>\n",
       "    </tr>\n",
       "  </thead>\n",
       "  <tbody>\n",
       "    <tr>\n",
       "      <th>0</th>\n",
       "      <td>Alex Kitson</td>\n",
       "      <td>4-4-*******-2</td>\n",
       "      <td>16</td>\n",
       "    </tr>\n",
       "    <tr>\n",
       "      <th>1</th>\n",
       "      <td>Matt Harmer</td>\n",
       "      <td>Worrall Loada C*ap</td>\n",
       "      <td>15</td>\n",
       "    </tr>\n",
       "    <tr>\n",
       "      <th>2</th>\n",
       "      <td>William Levick</td>\n",
       "      <td>Haalandaise Sauce</td>\n",
       "      <td>16</td>\n",
       "    </tr>\n",
       "    <tr>\n",
       "      <th>3</th>\n",
       "      <td>Jack Grimley</td>\n",
       "      <td>Cancelo Culture</td>\n",
       "      <td>15</td>\n",
       "    </tr>\n",
       "    <tr>\n",
       "      <th>4</th>\n",
       "      <td>Andrew Wallace</td>\n",
       "      <td>Boggie FC</td>\n",
       "      <td>10</td>\n",
       "    </tr>\n",
       "    <tr>\n",
       "      <th>5</th>\n",
       "      <td>Dominic Rech</td>\n",
       "      <td>In Good Kompany</td>\n",
       "      <td>10</td>\n",
       "    </tr>\n",
       "    <tr>\n",
       "      <th>6</th>\n",
       "      <td>Mark Longmire</td>\n",
       "      <td>Botman Begins</td>\n",
       "      <td>10</td>\n",
       "    </tr>\n",
       "    <tr>\n",
       "      <th>7</th>\n",
       "      <td>Rory McCullough</td>\n",
       "      <td>AthletEcho Falls FC</td>\n",
       "      <td>15</td>\n",
       "    </tr>\n",
       "    <tr>\n",
       "      <th>8</th>\n",
       "      <td>Mason Scott</td>\n",
       "      <td>FC Mase</td>\n",
       "      <td>10</td>\n",
       "    </tr>\n",
       "    <tr>\n",
       "      <th>9</th>\n",
       "      <td>Patrick Prendergast</td>\n",
       "      <td>Who Got The Assist</td>\n",
       "      <td>16</td>\n",
       "    </tr>\n",
       "    <tr>\n",
       "      <th>10</th>\n",
       "      <td>Liam Aylwin</td>\n",
       "      <td>Unbelievable Jeff!!</td>\n",
       "      <td>11</td>\n",
       "    </tr>\n",
       "    <tr>\n",
       "      <th>11</th>\n",
       "      <td>Fin Whittington</td>\n",
       "      <td>Is Your Motherwell</td>\n",
       "      <td>16</td>\n",
       "    </tr>\n",
       "    <tr>\n",
       "      <th>12</th>\n",
       "      <td>Daniel Brown</td>\n",
       "      <td>Benson and Hedges</td>\n",
       "      <td>16</td>\n",
       "    </tr>\n",
       "    <tr>\n",
       "      <th>13</th>\n",
       "      <td>Jack Chalkley</td>\n",
       "      <td>Garnachos</td>\n",
       "      <td>10</td>\n",
       "    </tr>\n",
       "    <tr>\n",
       "      <th>14</th>\n",
       "      <td>Oliver Bignall</td>\n",
       "      <td>Biggie FC</td>\n",
       "      <td>15</td>\n",
       "    </tr>\n",
       "    <tr>\n",
       "      <th>15</th>\n",
       "      <td>Prince Ehigiator</td>\n",
       "      <td>McCris-P FC</td>\n",
       "      <td>15</td>\n",
       "    </tr>\n",
       "  </tbody>\n",
       "</table>\n",
       "</div>"
      ],
      "text/plain": [
       "            player_name           entry_name  worst_rank\n",
       "0           Alex Kitson        4-4-*******-2          16\n",
       "1           Matt Harmer   Worrall Loada C*ap          15\n",
       "2        William Levick    Haalandaise Sauce          16\n",
       "3          Jack Grimley      Cancelo Culture          15\n",
       "4        Andrew Wallace            Boggie FC          10\n",
       "5          Dominic Rech      In Good Kompany          10\n",
       "6         Mark Longmire        Botman Begins          10\n",
       "7       Rory McCullough  AthletEcho Falls FC          15\n",
       "8           Mason Scott              FC Mase          10\n",
       "9   Patrick Prendergast   Who Got The Assist          16\n",
       "10          Liam Aylwin  Unbelievable Jeff!!          11\n",
       "11      Fin Whittington   Is Your Motherwell          16\n",
       "12         Daniel Brown    Benson and Hedges          16\n",
       "13        Jack Chalkley            Garnachos          10\n",
       "14       Oliver Bignall            Biggie FC          15\n",
       "15     Prince Ehigiator          McCris-P FC          15"
      ]
     },
     "execution_count": 14,
     "metadata": {},
     "output_type": "execute_result"
    }
   ],
   "source": [
    "# Work out the highest and lowest postition for each player throughout the season\n",
    "player_rank = get_player_rank(duckdb_df)\n",
    "player_rank[['player_name', 'entry_name', 'worst_rank']]"
   ]
  },
  {
   "cell_type": "code",
   "execution_count": null,
   "metadata": {},
   "outputs": [
    {
     "data": {
      "text/html": [
       "<div>\n",
       "<style scoped>\n",
       "    .dataframe tbody tr th:only-of-type {\n",
       "        vertical-align: middle;\n",
       "    }\n",
       "\n",
       "    .dataframe tbody tr th {\n",
       "        vertical-align: top;\n",
       "    }\n",
       "\n",
       "    .dataframe thead th {\n",
       "        text-align: right;\n",
       "    }\n",
       "</style>\n",
       "<table border=\"1\" class=\"dataframe\">\n",
       "  <thead>\n",
       "    <tr style=\"text-align: right;\">\n",
       "      <th></th>\n",
       "      <th>player_name</th>\n",
       "      <th>entry_name</th>\n",
       "      <th>worst_rank</th>\n",
       "    </tr>\n",
       "  </thead>\n",
       "  <tbody>\n",
       "    <tr>\n",
       "      <th>0</th>\n",
       "      <td>Alex Kitson</td>\n",
       "      <td>4-4-*******-2</td>\n",
       "      <td>16</td>\n",
       "    </tr>\n",
       "    <tr>\n",
       "      <th>1</th>\n",
       "      <td>Matt Harmer</td>\n",
       "      <td>Worrall Loada C*ap</td>\n",
       "      <td>15</td>\n",
       "    </tr>\n",
       "    <tr>\n",
       "      <th>2</th>\n",
       "      <td>William Levick</td>\n",
       "      <td>Haalandaise Sauce</td>\n",
       "      <td>16</td>\n",
       "    </tr>\n",
       "    <tr>\n",
       "      <th>3</th>\n",
       "      <td>Jack Grimley</td>\n",
       "      <td>Cancelo Culture</td>\n",
       "      <td>15</td>\n",
       "    </tr>\n",
       "    <tr>\n",
       "      <th>4</th>\n",
       "      <td>Andrew Wallace</td>\n",
       "      <td>Boggie FC</td>\n",
       "      <td>10</td>\n",
       "    </tr>\n",
       "    <tr>\n",
       "      <th>5</th>\n",
       "      <td>Dominic Rech</td>\n",
       "      <td>In Good Kompany</td>\n",
       "      <td>10</td>\n",
       "    </tr>\n",
       "    <tr>\n",
       "      <th>6</th>\n",
       "      <td>Mark Longmire</td>\n",
       "      <td>Botman Begins</td>\n",
       "      <td>10</td>\n",
       "    </tr>\n",
       "    <tr>\n",
       "      <th>7</th>\n",
       "      <td>Rory McCullough</td>\n",
       "      <td>AthletEcho Falls FC</td>\n",
       "      <td>15</td>\n",
       "    </tr>\n",
       "    <tr>\n",
       "      <th>8</th>\n",
       "      <td>Mason Scott</td>\n",
       "      <td>FC Mase</td>\n",
       "      <td>10</td>\n",
       "    </tr>\n",
       "    <tr>\n",
       "      <th>9</th>\n",
       "      <td>Patrick Prendergast</td>\n",
       "      <td>Who Got The Assist</td>\n",
       "      <td>16</td>\n",
       "    </tr>\n",
       "    <tr>\n",
       "      <th>10</th>\n",
       "      <td>Liam Aylwin</td>\n",
       "      <td>Unbelievable Jeff!!</td>\n",
       "      <td>11</td>\n",
       "    </tr>\n",
       "    <tr>\n",
       "      <th>11</th>\n",
       "      <td>Fin Whittington</td>\n",
       "      <td>Is Your Motherwell</td>\n",
       "      <td>16</td>\n",
       "    </tr>\n",
       "    <tr>\n",
       "      <th>12</th>\n",
       "      <td>Daniel Brown</td>\n",
       "      <td>Benson and Hedges</td>\n",
       "      <td>16</td>\n",
       "    </tr>\n",
       "    <tr>\n",
       "      <th>13</th>\n",
       "      <td>Jack Chalkley</td>\n",
       "      <td>Garnachos</td>\n",
       "      <td>10</td>\n",
       "    </tr>\n",
       "    <tr>\n",
       "      <th>14</th>\n",
       "      <td>Oliver Bignall</td>\n",
       "      <td>Biggie FC</td>\n",
       "      <td>15</td>\n",
       "    </tr>\n",
       "    <tr>\n",
       "      <th>15</th>\n",
       "      <td>Prince Ehigiator</td>\n",
       "      <td>McCris-P FC</td>\n",
       "      <td>15</td>\n",
       "    </tr>\n",
       "  </tbody>\n",
       "</table>\n",
       "</div>"
      ],
      "text/plain": [
       "            player_name           entry_name  worst_rank\n",
       "0           Alex Kitson        4-4-*******-2          16\n",
       "1           Matt Harmer   Worrall Loada C*ap          15\n",
       "2        William Levick    Haalandaise Sauce          16\n",
       "3          Jack Grimley      Cancelo Culture          15\n",
       "4        Andrew Wallace            Boggie FC          10\n",
       "5          Dominic Rech      In Good Kompany          10\n",
       "6         Mark Longmire        Botman Begins          10\n",
       "7       Rory McCullough  AthletEcho Falls FC          15\n",
       "8           Mason Scott              FC Mase          10\n",
       "9   Patrick Prendergast   Who Got The Assist          16\n",
       "10          Liam Aylwin  Unbelievable Jeff!!          11\n",
       "11      Fin Whittington   Is Your Motherwell          16\n",
       "12         Daniel Brown    Benson and Hedges          16\n",
       "13        Jack Chalkley            Garnachos          10\n",
       "14       Oliver Bignall            Biggie FC          15\n",
       "15     Prince Ehigiator          McCris-P FC          15"
      ]
     },
     "metadata": {},
     "output_type": "display_data"
    }
   ],
   "source": [
    "# Work out the highest and lowest postition for each player throughout the season\n",
    "player_rank = get_player_rank(duckdb_df)\n",
    "player_rank[['player_name', 'entry_name', 'best_rank']]"
   ]
  },
  {
   "cell_type": "code",
   "execution_count": 6,
   "metadata": {},
   "outputs": [
    {
     "data": {
      "application/vnd.plotly.v1+json": {
       "config": {
        "plotlyServerURL": "https://plot.ly"
       },
       "data": [
        {
         "alignmentgroup": "True",
         "hovertemplate": "player_name=%{x}<br>highest_rank=%{y}<extra></extra>",
         "legendgroup": "",
         "marker": {
          "color": "#636efa",
          "pattern": {
           "shape": ""
          }
         },
         "name": "",
         "offsetgroup": "",
         "orientation": "v",
         "showlegend": false,
         "textposition": "auto",
         "type": "bar",
         "x": [
          "Oliver Bignall",
          "Dominic Rech",
          "Patrick Prendergast",
          "Mark Longmire",
          "Liam Aylwin",
          "Alex Kitson",
          "Mason Scott",
          "Daniel Brown",
          "Jack Grimley",
          "Jack Chalkley",
          "Rory McCullough",
          "Matt Harmer",
          "Prince Ehigiator",
          "Andrew Wallace",
          "William Levick",
          "Fin Whittington"
         ],
         "xaxis": "x",
         "y": [
          15,
          10,
          16,
          10,
          11,
          16,
          10,
          16,
          15,
          10,
          15,
          15,
          15,
          10,
          16,
          16
         ],
         "yaxis": "y"
        }
       ],
       "layout": {
        "barmode": "relative",
        "legend": {
         "tracegroupgap": 0
        },
        "template": {
         "data": {
          "bar": [
           {
            "error_x": {
             "color": "#2a3f5f"
            },
            "error_y": {
             "color": "#2a3f5f"
            },
            "marker": {
             "line": {
              "color": "#E5ECF6",
              "width": 0.5
             },
             "pattern": {
              "fillmode": "overlay",
              "size": 10,
              "solidity": 0.2
             }
            },
            "type": "bar"
           }
          ],
          "barpolar": [
           {
            "marker": {
             "line": {
              "color": "#E5ECF6",
              "width": 0.5
             },
             "pattern": {
              "fillmode": "overlay",
              "size": 10,
              "solidity": 0.2
             }
            },
            "type": "barpolar"
           }
          ],
          "carpet": [
           {
            "aaxis": {
             "endlinecolor": "#2a3f5f",
             "gridcolor": "white",
             "linecolor": "white",
             "minorgridcolor": "white",
             "startlinecolor": "#2a3f5f"
            },
            "baxis": {
             "endlinecolor": "#2a3f5f",
             "gridcolor": "white",
             "linecolor": "white",
             "minorgridcolor": "white",
             "startlinecolor": "#2a3f5f"
            },
            "type": "carpet"
           }
          ],
          "choropleth": [
           {
            "colorbar": {
             "outlinewidth": 0,
             "ticks": ""
            },
            "type": "choropleth"
           }
          ],
          "contour": [
           {
            "colorbar": {
             "outlinewidth": 0,
             "ticks": ""
            },
            "colorscale": [
             [
              0,
              "#0d0887"
             ],
             [
              0.1111111111111111,
              "#46039f"
             ],
             [
              0.2222222222222222,
              "#7201a8"
             ],
             [
              0.3333333333333333,
              "#9c179e"
             ],
             [
              0.4444444444444444,
              "#bd3786"
             ],
             [
              0.5555555555555556,
              "#d8576b"
             ],
             [
              0.6666666666666666,
              "#ed7953"
             ],
             [
              0.7777777777777778,
              "#fb9f3a"
             ],
             [
              0.8888888888888888,
              "#fdca26"
             ],
             [
              1,
              "#f0f921"
             ]
            ],
            "type": "contour"
           }
          ],
          "contourcarpet": [
           {
            "colorbar": {
             "outlinewidth": 0,
             "ticks": ""
            },
            "type": "contourcarpet"
           }
          ],
          "heatmap": [
           {
            "colorbar": {
             "outlinewidth": 0,
             "ticks": ""
            },
            "colorscale": [
             [
              0,
              "#0d0887"
             ],
             [
              0.1111111111111111,
              "#46039f"
             ],
             [
              0.2222222222222222,
              "#7201a8"
             ],
             [
              0.3333333333333333,
              "#9c179e"
             ],
             [
              0.4444444444444444,
              "#bd3786"
             ],
             [
              0.5555555555555556,
              "#d8576b"
             ],
             [
              0.6666666666666666,
              "#ed7953"
             ],
             [
              0.7777777777777778,
              "#fb9f3a"
             ],
             [
              0.8888888888888888,
              "#fdca26"
             ],
             [
              1,
              "#f0f921"
             ]
            ],
            "type": "heatmap"
           }
          ],
          "heatmapgl": [
           {
            "colorbar": {
             "outlinewidth": 0,
             "ticks": ""
            },
            "colorscale": [
             [
              0,
              "#0d0887"
             ],
             [
              0.1111111111111111,
              "#46039f"
             ],
             [
              0.2222222222222222,
              "#7201a8"
             ],
             [
              0.3333333333333333,
              "#9c179e"
             ],
             [
              0.4444444444444444,
              "#bd3786"
             ],
             [
              0.5555555555555556,
              "#d8576b"
             ],
             [
              0.6666666666666666,
              "#ed7953"
             ],
             [
              0.7777777777777778,
              "#fb9f3a"
             ],
             [
              0.8888888888888888,
              "#fdca26"
             ],
             [
              1,
              "#f0f921"
             ]
            ],
            "type": "heatmapgl"
           }
          ],
          "histogram": [
           {
            "marker": {
             "pattern": {
              "fillmode": "overlay",
              "size": 10,
              "solidity": 0.2
             }
            },
            "type": "histogram"
           }
          ],
          "histogram2d": [
           {
            "colorbar": {
             "outlinewidth": 0,
             "ticks": ""
            },
            "colorscale": [
             [
              0,
              "#0d0887"
             ],
             [
              0.1111111111111111,
              "#46039f"
             ],
             [
              0.2222222222222222,
              "#7201a8"
             ],
             [
              0.3333333333333333,
              "#9c179e"
             ],
             [
              0.4444444444444444,
              "#bd3786"
             ],
             [
              0.5555555555555556,
              "#d8576b"
             ],
             [
              0.6666666666666666,
              "#ed7953"
             ],
             [
              0.7777777777777778,
              "#fb9f3a"
             ],
             [
              0.8888888888888888,
              "#fdca26"
             ],
             [
              1,
              "#f0f921"
             ]
            ],
            "type": "histogram2d"
           }
          ],
          "histogram2dcontour": [
           {
            "colorbar": {
             "outlinewidth": 0,
             "ticks": ""
            },
            "colorscale": [
             [
              0,
              "#0d0887"
             ],
             [
              0.1111111111111111,
              "#46039f"
             ],
             [
              0.2222222222222222,
              "#7201a8"
             ],
             [
              0.3333333333333333,
              "#9c179e"
             ],
             [
              0.4444444444444444,
              "#bd3786"
             ],
             [
              0.5555555555555556,
              "#d8576b"
             ],
             [
              0.6666666666666666,
              "#ed7953"
             ],
             [
              0.7777777777777778,
              "#fb9f3a"
             ],
             [
              0.8888888888888888,
              "#fdca26"
             ],
             [
              1,
              "#f0f921"
             ]
            ],
            "type": "histogram2dcontour"
           }
          ],
          "mesh3d": [
           {
            "colorbar": {
             "outlinewidth": 0,
             "ticks": ""
            },
            "type": "mesh3d"
           }
          ],
          "parcoords": [
           {
            "line": {
             "colorbar": {
              "outlinewidth": 0,
              "ticks": ""
             }
            },
            "type": "parcoords"
           }
          ],
          "pie": [
           {
            "automargin": true,
            "type": "pie"
           }
          ],
          "scatter": [
           {
            "fillpattern": {
             "fillmode": "overlay",
             "size": 10,
             "solidity": 0.2
            },
            "type": "scatter"
           }
          ],
          "scatter3d": [
           {
            "line": {
             "colorbar": {
              "outlinewidth": 0,
              "ticks": ""
             }
            },
            "marker": {
             "colorbar": {
              "outlinewidth": 0,
              "ticks": ""
             }
            },
            "type": "scatter3d"
           }
          ],
          "scattercarpet": [
           {
            "marker": {
             "colorbar": {
              "outlinewidth": 0,
              "ticks": ""
             }
            },
            "type": "scattercarpet"
           }
          ],
          "scattergeo": [
           {
            "marker": {
             "colorbar": {
              "outlinewidth": 0,
              "ticks": ""
             }
            },
            "type": "scattergeo"
           }
          ],
          "scattergl": [
           {
            "marker": {
             "colorbar": {
              "outlinewidth": 0,
              "ticks": ""
             }
            },
            "type": "scattergl"
           }
          ],
          "scattermapbox": [
           {
            "marker": {
             "colorbar": {
              "outlinewidth": 0,
              "ticks": ""
             }
            },
            "type": "scattermapbox"
           }
          ],
          "scatterpolar": [
           {
            "marker": {
             "colorbar": {
              "outlinewidth": 0,
              "ticks": ""
             }
            },
            "type": "scatterpolar"
           }
          ],
          "scatterpolargl": [
           {
            "marker": {
             "colorbar": {
              "outlinewidth": 0,
              "ticks": ""
             }
            },
            "type": "scatterpolargl"
           }
          ],
          "scatterternary": [
           {
            "marker": {
             "colorbar": {
              "outlinewidth": 0,
              "ticks": ""
             }
            },
            "type": "scatterternary"
           }
          ],
          "surface": [
           {
            "colorbar": {
             "outlinewidth": 0,
             "ticks": ""
            },
            "colorscale": [
             [
              0,
              "#0d0887"
             ],
             [
              0.1111111111111111,
              "#46039f"
             ],
             [
              0.2222222222222222,
              "#7201a8"
             ],
             [
              0.3333333333333333,
              "#9c179e"
             ],
             [
              0.4444444444444444,
              "#bd3786"
             ],
             [
              0.5555555555555556,
              "#d8576b"
             ],
             [
              0.6666666666666666,
              "#ed7953"
             ],
             [
              0.7777777777777778,
              "#fb9f3a"
             ],
             [
              0.8888888888888888,
              "#fdca26"
             ],
             [
              1,
              "#f0f921"
             ]
            ],
            "type": "surface"
           }
          ],
          "table": [
           {
            "cells": {
             "fill": {
              "color": "#EBF0F8"
             },
             "line": {
              "color": "white"
             }
            },
            "header": {
             "fill": {
              "color": "#C8D4E3"
             },
             "line": {
              "color": "white"
             }
            },
            "type": "table"
           }
          ]
         },
         "layout": {
          "annotationdefaults": {
           "arrowcolor": "#2a3f5f",
           "arrowhead": 0,
           "arrowwidth": 1
          },
          "autotypenumbers": "strict",
          "coloraxis": {
           "colorbar": {
            "outlinewidth": 0,
            "ticks": ""
           }
          },
          "colorscale": {
           "diverging": [
            [
             0,
             "#8e0152"
            ],
            [
             0.1,
             "#c51b7d"
            ],
            [
             0.2,
             "#de77ae"
            ],
            [
             0.3,
             "#f1b6da"
            ],
            [
             0.4,
             "#fde0ef"
            ],
            [
             0.5,
             "#f7f7f7"
            ],
            [
             0.6,
             "#e6f5d0"
            ],
            [
             0.7,
             "#b8e186"
            ],
            [
             0.8,
             "#7fbc41"
            ],
            [
             0.9,
             "#4d9221"
            ],
            [
             1,
             "#276419"
            ]
           ],
           "sequential": [
            [
             0,
             "#0d0887"
            ],
            [
             0.1111111111111111,
             "#46039f"
            ],
            [
             0.2222222222222222,
             "#7201a8"
            ],
            [
             0.3333333333333333,
             "#9c179e"
            ],
            [
             0.4444444444444444,
             "#bd3786"
            ],
            [
             0.5555555555555556,
             "#d8576b"
            ],
            [
             0.6666666666666666,
             "#ed7953"
            ],
            [
             0.7777777777777778,
             "#fb9f3a"
            ],
            [
             0.8888888888888888,
             "#fdca26"
            ],
            [
             1,
             "#f0f921"
            ]
           ],
           "sequentialminus": [
            [
             0,
             "#0d0887"
            ],
            [
             0.1111111111111111,
             "#46039f"
            ],
            [
             0.2222222222222222,
             "#7201a8"
            ],
            [
             0.3333333333333333,
             "#9c179e"
            ],
            [
             0.4444444444444444,
             "#bd3786"
            ],
            [
             0.5555555555555556,
             "#d8576b"
            ],
            [
             0.6666666666666666,
             "#ed7953"
            ],
            [
             0.7777777777777778,
             "#fb9f3a"
            ],
            [
             0.8888888888888888,
             "#fdca26"
            ],
            [
             1,
             "#f0f921"
            ]
           ]
          },
          "colorway": [
           "#636efa",
           "#EF553B",
           "#00cc96",
           "#ab63fa",
           "#FFA15A",
           "#19d3f3",
           "#FF6692",
           "#B6E880",
           "#FF97FF",
           "#FECB52"
          ],
          "font": {
           "color": "#2a3f5f"
          },
          "geo": {
           "bgcolor": "white",
           "lakecolor": "white",
           "landcolor": "#E5ECF6",
           "showlakes": true,
           "showland": true,
           "subunitcolor": "white"
          },
          "hoverlabel": {
           "align": "left"
          },
          "hovermode": "closest",
          "mapbox": {
           "style": "light"
          },
          "paper_bgcolor": "white",
          "plot_bgcolor": "#E5ECF6",
          "polar": {
           "angularaxis": {
            "gridcolor": "white",
            "linecolor": "white",
            "ticks": ""
           },
           "bgcolor": "#E5ECF6",
           "radialaxis": {
            "gridcolor": "white",
            "linecolor": "white",
            "ticks": ""
           }
          },
          "scene": {
           "xaxis": {
            "backgroundcolor": "#E5ECF6",
            "gridcolor": "white",
            "gridwidth": 2,
            "linecolor": "white",
            "showbackground": true,
            "ticks": "",
            "zerolinecolor": "white"
           },
           "yaxis": {
            "backgroundcolor": "#E5ECF6",
            "gridcolor": "white",
            "gridwidth": 2,
            "linecolor": "white",
            "showbackground": true,
            "ticks": "",
            "zerolinecolor": "white"
           },
           "zaxis": {
            "backgroundcolor": "#E5ECF6",
            "gridcolor": "white",
            "gridwidth": 2,
            "linecolor": "white",
            "showbackground": true,
            "ticks": "",
            "zerolinecolor": "white"
           }
          },
          "shapedefaults": {
           "line": {
            "color": "#2a3f5f"
           }
          },
          "ternary": {
           "aaxis": {
            "gridcolor": "white",
            "linecolor": "white",
            "ticks": ""
           },
           "baxis": {
            "gridcolor": "white",
            "linecolor": "white",
            "ticks": ""
           },
           "bgcolor": "#E5ECF6",
           "caxis": {
            "gridcolor": "white",
            "linecolor": "white",
            "ticks": ""
           }
          },
          "title": {
           "x": 0.05
          },
          "xaxis": {
           "automargin": true,
           "gridcolor": "white",
           "linecolor": "white",
           "ticks": "",
           "title": {
            "standoff": 15
           },
           "zerolinecolor": "white",
           "zerolinewidth": 2
          },
          "yaxis": {
           "automargin": true,
           "gridcolor": "white",
           "linecolor": "white",
           "ticks": "",
           "title": {
            "standoff": 15
           },
           "zerolinecolor": "white",
           "zerolinewidth": 2
          }
         }
        },
        "title": {
         "text": "Highest Rank"
        },
        "xaxis": {
         "anchor": "y",
         "domain": [
          0,
          1
         ],
         "title": {
          "text": "player_name"
         }
        },
        "yaxis": {
         "anchor": "x",
         "domain": [
          0,
          1
         ],
         "title": {
          "text": "highest_rank"
         }
        }
       }
      }
     },
     "metadata": {},
     "output_type": "display_data"
    },
    {
     "data": {
      "application/vnd.plotly.v1+json": {
       "config": {
        "plotlyServerURL": "https://plot.ly"
       },
       "data": [
        {
         "alignmentgroup": "True",
         "hovertemplate": "player_name=%{x}<br>lowest_rank=%{y}<extra></extra>",
         "legendgroup": "",
         "marker": {
          "color": "#636efa",
          "pattern": {
           "shape": ""
          }
         },
         "name": "",
         "offsetgroup": "",
         "orientation": "v",
         "showlegend": false,
         "textposition": "auto",
         "type": "bar",
         "x": [
          "Oliver Bignall",
          "Dominic Rech",
          "Patrick Prendergast",
          "Mark Longmire",
          "Liam Aylwin",
          "Alex Kitson",
          "Mason Scott",
          "Daniel Brown",
          "Jack Grimley",
          "Jack Chalkley",
          "Rory McCullough",
          "Matt Harmer",
          "Prince Ehigiator",
          "Andrew Wallace",
          "William Levick",
          "Fin Whittington"
         ],
         "xaxis": "x",
         "y": [
          2,
          1,
          2,
          2,
          1,
          5,
          1,
          2,
          1,
          3,
          2,
          7,
          3,
          2,
          12,
          5
         ],
         "yaxis": "y"
        }
       ],
       "layout": {
        "barmode": "relative",
        "legend": {
         "tracegroupgap": 0
        },
        "template": {
         "data": {
          "bar": [
           {
            "error_x": {
             "color": "#2a3f5f"
            },
            "error_y": {
             "color": "#2a3f5f"
            },
            "marker": {
             "line": {
              "color": "#E5ECF6",
              "width": 0.5
             },
             "pattern": {
              "fillmode": "overlay",
              "size": 10,
              "solidity": 0.2
             }
            },
            "type": "bar"
           }
          ],
          "barpolar": [
           {
            "marker": {
             "line": {
              "color": "#E5ECF6",
              "width": 0.5
             },
             "pattern": {
              "fillmode": "overlay",
              "size": 10,
              "solidity": 0.2
             }
            },
            "type": "barpolar"
           }
          ],
          "carpet": [
           {
            "aaxis": {
             "endlinecolor": "#2a3f5f",
             "gridcolor": "white",
             "linecolor": "white",
             "minorgridcolor": "white",
             "startlinecolor": "#2a3f5f"
            },
            "baxis": {
             "endlinecolor": "#2a3f5f",
             "gridcolor": "white",
             "linecolor": "white",
             "minorgridcolor": "white",
             "startlinecolor": "#2a3f5f"
            },
            "type": "carpet"
           }
          ],
          "choropleth": [
           {
            "colorbar": {
             "outlinewidth": 0,
             "ticks": ""
            },
            "type": "choropleth"
           }
          ],
          "contour": [
           {
            "colorbar": {
             "outlinewidth": 0,
             "ticks": ""
            },
            "colorscale": [
             [
              0,
              "#0d0887"
             ],
             [
              0.1111111111111111,
              "#46039f"
             ],
             [
              0.2222222222222222,
              "#7201a8"
             ],
             [
              0.3333333333333333,
              "#9c179e"
             ],
             [
              0.4444444444444444,
              "#bd3786"
             ],
             [
              0.5555555555555556,
              "#d8576b"
             ],
             [
              0.6666666666666666,
              "#ed7953"
             ],
             [
              0.7777777777777778,
              "#fb9f3a"
             ],
             [
              0.8888888888888888,
              "#fdca26"
             ],
             [
              1,
              "#f0f921"
             ]
            ],
            "type": "contour"
           }
          ],
          "contourcarpet": [
           {
            "colorbar": {
             "outlinewidth": 0,
             "ticks": ""
            },
            "type": "contourcarpet"
           }
          ],
          "heatmap": [
           {
            "colorbar": {
             "outlinewidth": 0,
             "ticks": ""
            },
            "colorscale": [
             [
              0,
              "#0d0887"
             ],
             [
              0.1111111111111111,
              "#46039f"
             ],
             [
              0.2222222222222222,
              "#7201a8"
             ],
             [
              0.3333333333333333,
              "#9c179e"
             ],
             [
              0.4444444444444444,
              "#bd3786"
             ],
             [
              0.5555555555555556,
              "#d8576b"
             ],
             [
              0.6666666666666666,
              "#ed7953"
             ],
             [
              0.7777777777777778,
              "#fb9f3a"
             ],
             [
              0.8888888888888888,
              "#fdca26"
             ],
             [
              1,
              "#f0f921"
             ]
            ],
            "type": "heatmap"
           }
          ],
          "heatmapgl": [
           {
            "colorbar": {
             "outlinewidth": 0,
             "ticks": ""
            },
            "colorscale": [
             [
              0,
              "#0d0887"
             ],
             [
              0.1111111111111111,
              "#46039f"
             ],
             [
              0.2222222222222222,
              "#7201a8"
             ],
             [
              0.3333333333333333,
              "#9c179e"
             ],
             [
              0.4444444444444444,
              "#bd3786"
             ],
             [
              0.5555555555555556,
              "#d8576b"
             ],
             [
              0.6666666666666666,
              "#ed7953"
             ],
             [
              0.7777777777777778,
              "#fb9f3a"
             ],
             [
              0.8888888888888888,
              "#fdca26"
             ],
             [
              1,
              "#f0f921"
             ]
            ],
            "type": "heatmapgl"
           }
          ],
          "histogram": [
           {
            "marker": {
             "pattern": {
              "fillmode": "overlay",
              "size": 10,
              "solidity": 0.2
             }
            },
            "type": "histogram"
           }
          ],
          "histogram2d": [
           {
            "colorbar": {
             "outlinewidth": 0,
             "ticks": ""
            },
            "colorscale": [
             [
              0,
              "#0d0887"
             ],
             [
              0.1111111111111111,
              "#46039f"
             ],
             [
              0.2222222222222222,
              "#7201a8"
             ],
             [
              0.3333333333333333,
              "#9c179e"
             ],
             [
              0.4444444444444444,
              "#bd3786"
             ],
             [
              0.5555555555555556,
              "#d8576b"
             ],
             [
              0.6666666666666666,
              "#ed7953"
             ],
             [
              0.7777777777777778,
              "#fb9f3a"
             ],
             [
              0.8888888888888888,
              "#fdca26"
             ],
             [
              1,
              "#f0f921"
             ]
            ],
            "type": "histogram2d"
           }
          ],
          "histogram2dcontour": [
           {
            "colorbar": {
             "outlinewidth": 0,
             "ticks": ""
            },
            "colorscale": [
             [
              0,
              "#0d0887"
             ],
             [
              0.1111111111111111,
              "#46039f"
             ],
             [
              0.2222222222222222,
              "#7201a8"
             ],
             [
              0.3333333333333333,
              "#9c179e"
             ],
             [
              0.4444444444444444,
              "#bd3786"
             ],
             [
              0.5555555555555556,
              "#d8576b"
             ],
             [
              0.6666666666666666,
              "#ed7953"
             ],
             [
              0.7777777777777778,
              "#fb9f3a"
             ],
             [
              0.8888888888888888,
              "#fdca26"
             ],
             [
              1,
              "#f0f921"
             ]
            ],
            "type": "histogram2dcontour"
           }
          ],
          "mesh3d": [
           {
            "colorbar": {
             "outlinewidth": 0,
             "ticks": ""
            },
            "type": "mesh3d"
           }
          ],
          "parcoords": [
           {
            "line": {
             "colorbar": {
              "outlinewidth": 0,
              "ticks": ""
             }
            },
            "type": "parcoords"
           }
          ],
          "pie": [
           {
            "automargin": true,
            "type": "pie"
           }
          ],
          "scatter": [
           {
            "fillpattern": {
             "fillmode": "overlay",
             "size": 10,
             "solidity": 0.2
            },
            "type": "scatter"
           }
          ],
          "scatter3d": [
           {
            "line": {
             "colorbar": {
              "outlinewidth": 0,
              "ticks": ""
             }
            },
            "marker": {
             "colorbar": {
              "outlinewidth": 0,
              "ticks": ""
             }
            },
            "type": "scatter3d"
           }
          ],
          "scattercarpet": [
           {
            "marker": {
             "colorbar": {
              "outlinewidth": 0,
              "ticks": ""
             }
            },
            "type": "scattercarpet"
           }
          ],
          "scattergeo": [
           {
            "marker": {
             "colorbar": {
              "outlinewidth": 0,
              "ticks": ""
             }
            },
            "type": "scattergeo"
           }
          ],
          "scattergl": [
           {
            "marker": {
             "colorbar": {
              "outlinewidth": 0,
              "ticks": ""
             }
            },
            "type": "scattergl"
           }
          ],
          "scattermapbox": [
           {
            "marker": {
             "colorbar": {
              "outlinewidth": 0,
              "ticks": ""
             }
            },
            "type": "scattermapbox"
           }
          ],
          "scatterpolar": [
           {
            "marker": {
             "colorbar": {
              "outlinewidth": 0,
              "ticks": ""
             }
            },
            "type": "scatterpolar"
           }
          ],
          "scatterpolargl": [
           {
            "marker": {
             "colorbar": {
              "outlinewidth": 0,
              "ticks": ""
             }
            },
            "type": "scatterpolargl"
           }
          ],
          "scatterternary": [
           {
            "marker": {
             "colorbar": {
              "outlinewidth": 0,
              "ticks": ""
             }
            },
            "type": "scatterternary"
           }
          ],
          "surface": [
           {
            "colorbar": {
             "outlinewidth": 0,
             "ticks": ""
            },
            "colorscale": [
             [
              0,
              "#0d0887"
             ],
             [
              0.1111111111111111,
              "#46039f"
             ],
             [
              0.2222222222222222,
              "#7201a8"
             ],
             [
              0.3333333333333333,
              "#9c179e"
             ],
             [
              0.4444444444444444,
              "#bd3786"
             ],
             [
              0.5555555555555556,
              "#d8576b"
             ],
             [
              0.6666666666666666,
              "#ed7953"
             ],
             [
              0.7777777777777778,
              "#fb9f3a"
             ],
             [
              0.8888888888888888,
              "#fdca26"
             ],
             [
              1,
              "#f0f921"
             ]
            ],
            "type": "surface"
           }
          ],
          "table": [
           {
            "cells": {
             "fill": {
              "color": "#EBF0F8"
             },
             "line": {
              "color": "white"
             }
            },
            "header": {
             "fill": {
              "color": "#C8D4E3"
             },
             "line": {
              "color": "white"
             }
            },
            "type": "table"
           }
          ]
         },
         "layout": {
          "annotationdefaults": {
           "arrowcolor": "#2a3f5f",
           "arrowhead": 0,
           "arrowwidth": 1
          },
          "autotypenumbers": "strict",
          "coloraxis": {
           "colorbar": {
            "outlinewidth": 0,
            "ticks": ""
           }
          },
          "colorscale": {
           "diverging": [
            [
             0,
             "#8e0152"
            ],
            [
             0.1,
             "#c51b7d"
            ],
            [
             0.2,
             "#de77ae"
            ],
            [
             0.3,
             "#f1b6da"
            ],
            [
             0.4,
             "#fde0ef"
            ],
            [
             0.5,
             "#f7f7f7"
            ],
            [
             0.6,
             "#e6f5d0"
            ],
            [
             0.7,
             "#b8e186"
            ],
            [
             0.8,
             "#7fbc41"
            ],
            [
             0.9,
             "#4d9221"
            ],
            [
             1,
             "#276419"
            ]
           ],
           "sequential": [
            [
             0,
             "#0d0887"
            ],
            [
             0.1111111111111111,
             "#46039f"
            ],
            [
             0.2222222222222222,
             "#7201a8"
            ],
            [
             0.3333333333333333,
             "#9c179e"
            ],
            [
             0.4444444444444444,
             "#bd3786"
            ],
            [
             0.5555555555555556,
             "#d8576b"
            ],
            [
             0.6666666666666666,
             "#ed7953"
            ],
            [
             0.7777777777777778,
             "#fb9f3a"
            ],
            [
             0.8888888888888888,
             "#fdca26"
            ],
            [
             1,
             "#f0f921"
            ]
           ],
           "sequentialminus": [
            [
             0,
             "#0d0887"
            ],
            [
             0.1111111111111111,
             "#46039f"
            ],
            [
             0.2222222222222222,
             "#7201a8"
            ],
            [
             0.3333333333333333,
             "#9c179e"
            ],
            [
             0.4444444444444444,
             "#bd3786"
            ],
            [
             0.5555555555555556,
             "#d8576b"
            ],
            [
             0.6666666666666666,
             "#ed7953"
            ],
            [
             0.7777777777777778,
             "#fb9f3a"
            ],
            [
             0.8888888888888888,
             "#fdca26"
            ],
            [
             1,
             "#f0f921"
            ]
           ]
          },
          "colorway": [
           "#636efa",
           "#EF553B",
           "#00cc96",
           "#ab63fa",
           "#FFA15A",
           "#19d3f3",
           "#FF6692",
           "#B6E880",
           "#FF97FF",
           "#FECB52"
          ],
          "font": {
           "color": "#2a3f5f"
          },
          "geo": {
           "bgcolor": "white",
           "lakecolor": "white",
           "landcolor": "#E5ECF6",
           "showlakes": true,
           "showland": true,
           "subunitcolor": "white"
          },
          "hoverlabel": {
           "align": "left"
          },
          "hovermode": "closest",
          "mapbox": {
           "style": "light"
          },
          "paper_bgcolor": "white",
          "plot_bgcolor": "#E5ECF6",
          "polar": {
           "angularaxis": {
            "gridcolor": "white",
            "linecolor": "white",
            "ticks": ""
           },
           "bgcolor": "#E5ECF6",
           "radialaxis": {
            "gridcolor": "white",
            "linecolor": "white",
            "ticks": ""
           }
          },
          "scene": {
           "xaxis": {
            "backgroundcolor": "#E5ECF6",
            "gridcolor": "white",
            "gridwidth": 2,
            "linecolor": "white",
            "showbackground": true,
            "ticks": "",
            "zerolinecolor": "white"
           },
           "yaxis": {
            "backgroundcolor": "#E5ECF6",
            "gridcolor": "white",
            "gridwidth": 2,
            "linecolor": "white",
            "showbackground": true,
            "ticks": "",
            "zerolinecolor": "white"
           },
           "zaxis": {
            "backgroundcolor": "#E5ECF6",
            "gridcolor": "white",
            "gridwidth": 2,
            "linecolor": "white",
            "showbackground": true,
            "ticks": "",
            "zerolinecolor": "white"
           }
          },
          "shapedefaults": {
           "line": {
            "color": "#2a3f5f"
           }
          },
          "ternary": {
           "aaxis": {
            "gridcolor": "white",
            "linecolor": "white",
            "ticks": ""
           },
           "baxis": {
            "gridcolor": "white",
            "linecolor": "white",
            "ticks": ""
           },
           "bgcolor": "#E5ECF6",
           "caxis": {
            "gridcolor": "white",
            "linecolor": "white",
            "ticks": ""
           }
          },
          "title": {
           "x": 0.05
          },
          "xaxis": {
           "automargin": true,
           "gridcolor": "white",
           "linecolor": "white",
           "ticks": "",
           "title": {
            "standoff": 15
           },
           "zerolinecolor": "white",
           "zerolinewidth": 2
          },
          "yaxis": {
           "automargin": true,
           "gridcolor": "white",
           "linecolor": "white",
           "ticks": "",
           "title": {
            "standoff": 15
           },
           "zerolinecolor": "white",
           "zerolinewidth": 2
          }
         }
        },
        "title": {
         "text": "Lowest Rank"
        },
        "xaxis": {
         "anchor": "y",
         "domain": [
          0,
          1
         ],
         "title": {
          "text": "player_name"
         }
        },
        "yaxis": {
         "anchor": "x",
         "domain": [
          0,
          1
         ],
         "title": {
          "text": "lowest_rank"
         }
        }
       }
      }
     },
     "metadata": {},
     "output_type": "display_data"
    },
    {
     "data": {
      "application/vnd.plotly.v1+json": {
       "config": {
        "plotlyServerURL": "https://plot.ly"
       },
       "data": [
        {
         "alignmentgroup": "True",
         "hovertemplate": "player_name=%{x}<br>average_rank=%{y}<extra></extra>",
         "legendgroup": "",
         "marker": {
          "color": "#636efa",
          "pattern": {
           "shape": ""
          }
         },
         "name": "",
         "offsetgroup": "",
         "orientation": "v",
         "showlegend": false,
         "textposition": "auto",
         "type": "bar",
         "x": [
          "Oliver Bignall",
          "Dominic Rech",
          "Patrick Prendergast",
          "Mark Longmire",
          "Liam Aylwin",
          "Alex Kitson",
          "Mason Scott",
          "Daniel Brown",
          "Jack Grimley",
          "Jack Chalkley",
          "Rory McCullough",
          "Matt Harmer",
          "Prince Ehigiator",
          "Andrew Wallace",
          "William Levick",
          "Fin Whittington"
         ],
         "xaxis": "x",
         "y": [
          6.368421052631579,
          1.894736842105263,
          7.2894736842105265,
          4.394736842105263,
          5.894736842105263,
          12.052631578947368,
          5.7105263157894735,
          11.236842105263158,
          11.157894736842104,
          5.526315789473684,
          6.7105263157894735,
          12.026315789473685,
          10.631578947368421,
          5.2631578947368425,
          14.473684210526315,
          14.026315789473685
         ],
         "yaxis": "y"
        }
       ],
       "layout": {
        "barmode": "relative",
        "legend": {
         "tracegroupgap": 0
        },
        "template": {
         "data": {
          "bar": [
           {
            "error_x": {
             "color": "#2a3f5f"
            },
            "error_y": {
             "color": "#2a3f5f"
            },
            "marker": {
             "line": {
              "color": "#E5ECF6",
              "width": 0.5
             },
             "pattern": {
              "fillmode": "overlay",
              "size": 10,
              "solidity": 0.2
             }
            },
            "type": "bar"
           }
          ],
          "barpolar": [
           {
            "marker": {
             "line": {
              "color": "#E5ECF6",
              "width": 0.5
             },
             "pattern": {
              "fillmode": "overlay",
              "size": 10,
              "solidity": 0.2
             }
            },
            "type": "barpolar"
           }
          ],
          "carpet": [
           {
            "aaxis": {
             "endlinecolor": "#2a3f5f",
             "gridcolor": "white",
             "linecolor": "white",
             "minorgridcolor": "white",
             "startlinecolor": "#2a3f5f"
            },
            "baxis": {
             "endlinecolor": "#2a3f5f",
             "gridcolor": "white",
             "linecolor": "white",
             "minorgridcolor": "white",
             "startlinecolor": "#2a3f5f"
            },
            "type": "carpet"
           }
          ],
          "choropleth": [
           {
            "colorbar": {
             "outlinewidth": 0,
             "ticks": ""
            },
            "type": "choropleth"
           }
          ],
          "contour": [
           {
            "colorbar": {
             "outlinewidth": 0,
             "ticks": ""
            },
            "colorscale": [
             [
              0,
              "#0d0887"
             ],
             [
              0.1111111111111111,
              "#46039f"
             ],
             [
              0.2222222222222222,
              "#7201a8"
             ],
             [
              0.3333333333333333,
              "#9c179e"
             ],
             [
              0.4444444444444444,
              "#bd3786"
             ],
             [
              0.5555555555555556,
              "#d8576b"
             ],
             [
              0.6666666666666666,
              "#ed7953"
             ],
             [
              0.7777777777777778,
              "#fb9f3a"
             ],
             [
              0.8888888888888888,
              "#fdca26"
             ],
             [
              1,
              "#f0f921"
             ]
            ],
            "type": "contour"
           }
          ],
          "contourcarpet": [
           {
            "colorbar": {
             "outlinewidth": 0,
             "ticks": ""
            },
            "type": "contourcarpet"
           }
          ],
          "heatmap": [
           {
            "colorbar": {
             "outlinewidth": 0,
             "ticks": ""
            },
            "colorscale": [
             [
              0,
              "#0d0887"
             ],
             [
              0.1111111111111111,
              "#46039f"
             ],
             [
              0.2222222222222222,
              "#7201a8"
             ],
             [
              0.3333333333333333,
              "#9c179e"
             ],
             [
              0.4444444444444444,
              "#bd3786"
             ],
             [
              0.5555555555555556,
              "#d8576b"
             ],
             [
              0.6666666666666666,
              "#ed7953"
             ],
             [
              0.7777777777777778,
              "#fb9f3a"
             ],
             [
              0.8888888888888888,
              "#fdca26"
             ],
             [
              1,
              "#f0f921"
             ]
            ],
            "type": "heatmap"
           }
          ],
          "heatmapgl": [
           {
            "colorbar": {
             "outlinewidth": 0,
             "ticks": ""
            },
            "colorscale": [
             [
              0,
              "#0d0887"
             ],
             [
              0.1111111111111111,
              "#46039f"
             ],
             [
              0.2222222222222222,
              "#7201a8"
             ],
             [
              0.3333333333333333,
              "#9c179e"
             ],
             [
              0.4444444444444444,
              "#bd3786"
             ],
             [
              0.5555555555555556,
              "#d8576b"
             ],
             [
              0.6666666666666666,
              "#ed7953"
             ],
             [
              0.7777777777777778,
              "#fb9f3a"
             ],
             [
              0.8888888888888888,
              "#fdca26"
             ],
             [
              1,
              "#f0f921"
             ]
            ],
            "type": "heatmapgl"
           }
          ],
          "histogram": [
           {
            "marker": {
             "pattern": {
              "fillmode": "overlay",
              "size": 10,
              "solidity": 0.2
             }
            },
            "type": "histogram"
           }
          ],
          "histogram2d": [
           {
            "colorbar": {
             "outlinewidth": 0,
             "ticks": ""
            },
            "colorscale": [
             [
              0,
              "#0d0887"
             ],
             [
              0.1111111111111111,
              "#46039f"
             ],
             [
              0.2222222222222222,
              "#7201a8"
             ],
             [
              0.3333333333333333,
              "#9c179e"
             ],
             [
              0.4444444444444444,
              "#bd3786"
             ],
             [
              0.5555555555555556,
              "#d8576b"
             ],
             [
              0.6666666666666666,
              "#ed7953"
             ],
             [
              0.7777777777777778,
              "#fb9f3a"
             ],
             [
              0.8888888888888888,
              "#fdca26"
             ],
             [
              1,
              "#f0f921"
             ]
            ],
            "type": "histogram2d"
           }
          ],
          "histogram2dcontour": [
           {
            "colorbar": {
             "outlinewidth": 0,
             "ticks": ""
            },
            "colorscale": [
             [
              0,
              "#0d0887"
             ],
             [
              0.1111111111111111,
              "#46039f"
             ],
             [
              0.2222222222222222,
              "#7201a8"
             ],
             [
              0.3333333333333333,
              "#9c179e"
             ],
             [
              0.4444444444444444,
              "#bd3786"
             ],
             [
              0.5555555555555556,
              "#d8576b"
             ],
             [
              0.6666666666666666,
              "#ed7953"
             ],
             [
              0.7777777777777778,
              "#fb9f3a"
             ],
             [
              0.8888888888888888,
              "#fdca26"
             ],
             [
              1,
              "#f0f921"
             ]
            ],
            "type": "histogram2dcontour"
           }
          ],
          "mesh3d": [
           {
            "colorbar": {
             "outlinewidth": 0,
             "ticks": ""
            },
            "type": "mesh3d"
           }
          ],
          "parcoords": [
           {
            "line": {
             "colorbar": {
              "outlinewidth": 0,
              "ticks": ""
             }
            },
            "type": "parcoords"
           }
          ],
          "pie": [
           {
            "automargin": true,
            "type": "pie"
           }
          ],
          "scatter": [
           {
            "fillpattern": {
             "fillmode": "overlay",
             "size": 10,
             "solidity": 0.2
            },
            "type": "scatter"
           }
          ],
          "scatter3d": [
           {
            "line": {
             "colorbar": {
              "outlinewidth": 0,
              "ticks": ""
             }
            },
            "marker": {
             "colorbar": {
              "outlinewidth": 0,
              "ticks": ""
             }
            },
            "type": "scatter3d"
           }
          ],
          "scattercarpet": [
           {
            "marker": {
             "colorbar": {
              "outlinewidth": 0,
              "ticks": ""
             }
            },
            "type": "scattercarpet"
           }
          ],
          "scattergeo": [
           {
            "marker": {
             "colorbar": {
              "outlinewidth": 0,
              "ticks": ""
             }
            },
            "type": "scattergeo"
           }
          ],
          "scattergl": [
           {
            "marker": {
             "colorbar": {
              "outlinewidth": 0,
              "ticks": ""
             }
            },
            "type": "scattergl"
           }
          ],
          "scattermapbox": [
           {
            "marker": {
             "colorbar": {
              "outlinewidth": 0,
              "ticks": ""
             }
            },
            "type": "scattermapbox"
           }
          ],
          "scatterpolar": [
           {
            "marker": {
             "colorbar": {
              "outlinewidth": 0,
              "ticks": ""
             }
            },
            "type": "scatterpolar"
           }
          ],
          "scatterpolargl": [
           {
            "marker": {
             "colorbar": {
              "outlinewidth": 0,
              "ticks": ""
             }
            },
            "type": "scatterpolargl"
           }
          ],
          "scatterternary": [
           {
            "marker": {
             "colorbar": {
              "outlinewidth": 0,
              "ticks": ""
             }
            },
            "type": "scatterternary"
           }
          ],
          "surface": [
           {
            "colorbar": {
             "outlinewidth": 0,
             "ticks": ""
            },
            "colorscale": [
             [
              0,
              "#0d0887"
             ],
             [
              0.1111111111111111,
              "#46039f"
             ],
             [
              0.2222222222222222,
              "#7201a8"
             ],
             [
              0.3333333333333333,
              "#9c179e"
             ],
             [
              0.4444444444444444,
              "#bd3786"
             ],
             [
              0.5555555555555556,
              "#d8576b"
             ],
             [
              0.6666666666666666,
              "#ed7953"
             ],
             [
              0.7777777777777778,
              "#fb9f3a"
             ],
             [
              0.8888888888888888,
              "#fdca26"
             ],
             [
              1,
              "#f0f921"
             ]
            ],
            "type": "surface"
           }
          ],
          "table": [
           {
            "cells": {
             "fill": {
              "color": "#EBF0F8"
             },
             "line": {
              "color": "white"
             }
            },
            "header": {
             "fill": {
              "color": "#C8D4E3"
             },
             "line": {
              "color": "white"
             }
            },
            "type": "table"
           }
          ]
         },
         "layout": {
          "annotationdefaults": {
           "arrowcolor": "#2a3f5f",
           "arrowhead": 0,
           "arrowwidth": 1
          },
          "autotypenumbers": "strict",
          "coloraxis": {
           "colorbar": {
            "outlinewidth": 0,
            "ticks": ""
           }
          },
          "colorscale": {
           "diverging": [
            [
             0,
             "#8e0152"
            ],
            [
             0.1,
             "#c51b7d"
            ],
            [
             0.2,
             "#de77ae"
            ],
            [
             0.3,
             "#f1b6da"
            ],
            [
             0.4,
             "#fde0ef"
            ],
            [
             0.5,
             "#f7f7f7"
            ],
            [
             0.6,
             "#e6f5d0"
            ],
            [
             0.7,
             "#b8e186"
            ],
            [
             0.8,
             "#7fbc41"
            ],
            [
             0.9,
             "#4d9221"
            ],
            [
             1,
             "#276419"
            ]
           ],
           "sequential": [
            [
             0,
             "#0d0887"
            ],
            [
             0.1111111111111111,
             "#46039f"
            ],
            [
             0.2222222222222222,
             "#7201a8"
            ],
            [
             0.3333333333333333,
             "#9c179e"
            ],
            [
             0.4444444444444444,
             "#bd3786"
            ],
            [
             0.5555555555555556,
             "#d8576b"
            ],
            [
             0.6666666666666666,
             "#ed7953"
            ],
            [
             0.7777777777777778,
             "#fb9f3a"
            ],
            [
             0.8888888888888888,
             "#fdca26"
            ],
            [
             1,
             "#f0f921"
            ]
           ],
           "sequentialminus": [
            [
             0,
             "#0d0887"
            ],
            [
             0.1111111111111111,
             "#46039f"
            ],
            [
             0.2222222222222222,
             "#7201a8"
            ],
            [
             0.3333333333333333,
             "#9c179e"
            ],
            [
             0.4444444444444444,
             "#bd3786"
            ],
            [
             0.5555555555555556,
             "#d8576b"
            ],
            [
             0.6666666666666666,
             "#ed7953"
            ],
            [
             0.7777777777777778,
             "#fb9f3a"
            ],
            [
             0.8888888888888888,
             "#fdca26"
            ],
            [
             1,
             "#f0f921"
            ]
           ]
          },
          "colorway": [
           "#636efa",
           "#EF553B",
           "#00cc96",
           "#ab63fa",
           "#FFA15A",
           "#19d3f3",
           "#FF6692",
           "#B6E880",
           "#FF97FF",
           "#FECB52"
          ],
          "font": {
           "color": "#2a3f5f"
          },
          "geo": {
           "bgcolor": "white",
           "lakecolor": "white",
           "landcolor": "#E5ECF6",
           "showlakes": true,
           "showland": true,
           "subunitcolor": "white"
          },
          "hoverlabel": {
           "align": "left"
          },
          "hovermode": "closest",
          "mapbox": {
           "style": "light"
          },
          "paper_bgcolor": "white",
          "plot_bgcolor": "#E5ECF6",
          "polar": {
           "angularaxis": {
            "gridcolor": "white",
            "linecolor": "white",
            "ticks": ""
           },
           "bgcolor": "#E5ECF6",
           "radialaxis": {
            "gridcolor": "white",
            "linecolor": "white",
            "ticks": ""
           }
          },
          "scene": {
           "xaxis": {
            "backgroundcolor": "#E5ECF6",
            "gridcolor": "white",
            "gridwidth": 2,
            "linecolor": "white",
            "showbackground": true,
            "ticks": "",
            "zerolinecolor": "white"
           },
           "yaxis": {
            "backgroundcolor": "#E5ECF6",
            "gridcolor": "white",
            "gridwidth": 2,
            "linecolor": "white",
            "showbackground": true,
            "ticks": "",
            "zerolinecolor": "white"
           },
           "zaxis": {
            "backgroundcolor": "#E5ECF6",
            "gridcolor": "white",
            "gridwidth": 2,
            "linecolor": "white",
            "showbackground": true,
            "ticks": "",
            "zerolinecolor": "white"
           }
          },
          "shapedefaults": {
           "line": {
            "color": "#2a3f5f"
           }
          },
          "ternary": {
           "aaxis": {
            "gridcolor": "white",
            "linecolor": "white",
            "ticks": ""
           },
           "baxis": {
            "gridcolor": "white",
            "linecolor": "white",
            "ticks": ""
           },
           "bgcolor": "#E5ECF6",
           "caxis": {
            "gridcolor": "white",
            "linecolor": "white",
            "ticks": ""
           }
          },
          "title": {
           "x": 0.05
          },
          "xaxis": {
           "automargin": true,
           "gridcolor": "white",
           "linecolor": "white",
           "ticks": "",
           "title": {
            "standoff": 15
           },
           "zerolinecolor": "white",
           "zerolinewidth": 2
          },
          "yaxis": {
           "automargin": true,
           "gridcolor": "white",
           "linecolor": "white",
           "ticks": "",
           "title": {
            "standoff": 15
           },
           "zerolinecolor": "white",
           "zerolinewidth": 2
          }
         }
        },
        "title": {
         "text": "Average Rank"
        },
        "xaxis": {
         "anchor": "y",
         "domain": [
          0,
          1
         ],
         "title": {
          "text": "player_name"
         }
        },
        "yaxis": {
         "anchor": "x",
         "domain": [
          0,
          1
         ],
         "title": {
          "text": "average_rank"
         }
        }
       }
      }
     },
     "metadata": {},
     "output_type": "display_data"
    }
   ],
   "source": [
    "import plotly.express as px\n",
    "\n",
    "df = get_player_rank(duckdb_df)\n",
    "\n",
    "# Create 3 bar charts for the highest, lowest and average rank for each entry_name\n",
    "# Order the bars by the highest rank\n",
    "\n",
    "fig_highest = px.bar(df, x='player_name', y='highest_rank', title='Highest Rank')\n",
    "fig_highest.show()\n",
    "\n",
    "fig_lowest = px.bar(df, x='player_name', y='lowest_rank', title='Lowest Rank')\n",
    "fig_lowest.show()\n",
    "\n",
    "fig_average = px.bar(df, x='player_name', y='average_rank', title='Average Rank')\n",
    "fig_average.show()"
   ]
  },
  {
   "cell_type": "code",
   "execution_count": 13,
   "metadata": {},
   "outputs": [
    {
     "data": {
      "text/html": [
       "<div>\n",
       "<style scoped>\n",
       "    .dataframe tbody tr th:only-of-type {\n",
       "        vertical-align: middle;\n",
       "    }\n",
       "\n",
       "    .dataframe tbody tr th {\n",
       "        vertical-align: top;\n",
       "    }\n",
       "\n",
       "    .dataframe thead th {\n",
       "        text-align: right;\n",
       "    }\n",
       "</style>\n",
       "<table border=\"1\" class=\"dataframe\">\n",
       "  <thead>\n",
       "    <tr style=\"text-align: right;\">\n",
       "      <th></th>\n",
       "      <th>player_name</th>\n",
       "      <th>entry_name</th>\n",
       "      <th>bench_points</th>\n",
       "      <th>total_points</th>\n",
       "    </tr>\n",
       "  </thead>\n",
       "  <tbody>\n",
       "    <tr>\n",
       "      <th>0</th>\n",
       "      <td>Oliver Bignall</td>\n",
       "      <td>Biggie FC</td>\n",
       "      <td>262.0</td>\n",
       "      <td>2403.0</td>\n",
       "    </tr>\n",
       "    <tr>\n",
       "      <th>1</th>\n",
       "      <td>Jack Chalkley</td>\n",
       "      <td>Garnachos</td>\n",
       "      <td>290.0</td>\n",
       "      <td>2361.0</td>\n",
       "    </tr>\n",
       "    <tr>\n",
       "      <th>2</th>\n",
       "      <td>Mason Scott</td>\n",
       "      <td>FC Mase</td>\n",
       "      <td>223.0</td>\n",
       "      <td>2314.0</td>\n",
       "    </tr>\n",
       "    <tr>\n",
       "      <th>3</th>\n",
       "      <td>Prince Ehigiator</td>\n",
       "      <td>McCris-P FC</td>\n",
       "      <td>257.0</td>\n",
       "      <td>2260.0</td>\n",
       "    </tr>\n",
       "    <tr>\n",
       "      <th>4</th>\n",
       "      <td>Alex Kitson</td>\n",
       "      <td>4-4-*******-2</td>\n",
       "      <td>159.0</td>\n",
       "      <td>2295.0</td>\n",
       "    </tr>\n",
       "    <tr>\n",
       "      <th>5</th>\n",
       "      <td>Dominic Rech</td>\n",
       "      <td>In Good Kompany</td>\n",
       "      <td>290.0</td>\n",
       "      <td>2505.0</td>\n",
       "    </tr>\n",
       "    <tr>\n",
       "      <th>6</th>\n",
       "      <td>Andrew Wallace</td>\n",
       "      <td>Boggie FC</td>\n",
       "      <td>298.0</td>\n",
       "      <td>2342.0</td>\n",
       "    </tr>\n",
       "    <tr>\n",
       "      <th>7</th>\n",
       "      <td>Mark Longmire</td>\n",
       "      <td>Botman Begins</td>\n",
       "      <td>276.0</td>\n",
       "      <td>2332.0</td>\n",
       "    </tr>\n",
       "    <tr>\n",
       "      <th>8</th>\n",
       "      <td>Rory McCullough</td>\n",
       "      <td>AthletEcho Falls FC</td>\n",
       "      <td>170.0</td>\n",
       "      <td>2254.0</td>\n",
       "    </tr>\n",
       "    <tr>\n",
       "      <th>9</th>\n",
       "      <td>Jack Grimley</td>\n",
       "      <td>Cancelo Culture</td>\n",
       "      <td>292.0</td>\n",
       "      <td>2216.0</td>\n",
       "    </tr>\n",
       "    <tr>\n",
       "      <th>10</th>\n",
       "      <td>Daniel Brown</td>\n",
       "      <td>Benson and Hedges</td>\n",
       "      <td>248.0</td>\n",
       "      <td>2209.0</td>\n",
       "    </tr>\n",
       "    <tr>\n",
       "      <th>11</th>\n",
       "      <td>Matt Harmer</td>\n",
       "      <td>Worrall Loada C*ap</td>\n",
       "      <td>175.0</td>\n",
       "      <td>2228.0</td>\n",
       "    </tr>\n",
       "    <tr>\n",
       "      <th>12</th>\n",
       "      <td>William Levick</td>\n",
       "      <td>Haalandaise Sauce</td>\n",
       "      <td>156.0</td>\n",
       "      <td>2228.0</td>\n",
       "    </tr>\n",
       "    <tr>\n",
       "      <th>13</th>\n",
       "      <td>Patrick Prendergast</td>\n",
       "      <td>Who Got The Assist</td>\n",
       "      <td>235.0</td>\n",
       "      <td>2416.0</td>\n",
       "    </tr>\n",
       "    <tr>\n",
       "      <th>14</th>\n",
       "      <td>Liam Aylwin</td>\n",
       "      <td>Unbelievable Jeff!!</td>\n",
       "      <td>270.0</td>\n",
       "      <td>2287.0</td>\n",
       "    </tr>\n",
       "    <tr>\n",
       "      <th>15</th>\n",
       "      <td>Fin Whittington</td>\n",
       "      <td>Is Your Motherwell</td>\n",
       "      <td>179.0</td>\n",
       "      <td>2138.0</td>\n",
       "    </tr>\n",
       "  </tbody>\n",
       "</table>\n",
       "</div>"
      ],
      "text/plain": [
       "            player_name           entry_name  bench_points  total_points\n",
       "0        Oliver Bignall            Biggie FC         262.0        2403.0\n",
       "1         Jack Chalkley            Garnachos         290.0        2361.0\n",
       "2           Mason Scott              FC Mase         223.0        2314.0\n",
       "3      Prince Ehigiator          McCris-P FC         257.0        2260.0\n",
       "4           Alex Kitson        4-4-*******-2         159.0        2295.0\n",
       "5          Dominic Rech      In Good Kompany         290.0        2505.0\n",
       "6        Andrew Wallace            Boggie FC         298.0        2342.0\n",
       "7         Mark Longmire        Botman Begins         276.0        2332.0\n",
       "8       Rory McCullough  AthletEcho Falls FC         170.0        2254.0\n",
       "9          Jack Grimley      Cancelo Culture         292.0        2216.0\n",
       "10         Daniel Brown    Benson and Hedges         248.0        2209.0\n",
       "11          Matt Harmer   Worrall Loada C*ap         175.0        2228.0\n",
       "12       William Levick    Haalandaise Sauce         156.0        2228.0\n",
       "13  Patrick Prendergast   Who Got The Assist         235.0        2416.0\n",
       "14          Liam Aylwin  Unbelievable Jeff!!         270.0        2287.0\n",
       "15      Fin Whittington   Is Your Motherwell         179.0        2138.0"
      ]
     },
     "execution_count": 13,
     "metadata": {},
     "output_type": "execute_result"
    }
   ],
   "source": [
    "def get_total_points_and_bench_points(duckdb_df):\n",
    "    \"\"\"\n",
    "    This function returns a DataFrame with the total points and total points left on the bench for each player and team for the season.\n",
    "    \"\"\"\n",
    "    return duckdb.query(\n",
    "        \"\"\"\n",
    "        SELECT \n",
    "            player_name, \n",
    "            entry_name, \n",
    "            SUM(points_on_bench) AS bench_points, \n",
    "            SUM(event_points) AS total_points\n",
    "        FROM \n",
    "            duckdb_df\n",
    "        GROUP BY \n",
    "            player_name, \n",
    "            entry_name\n",
    "    \"\"\"\n",
    "    ).to_df()\n",
    "get_total_points_and_bench_points(duckdb_df)"
   ]
  },
  {
   "cell_type": "code",
   "execution_count": 3,
   "metadata": {},
   "outputs": [
    {
     "ename": "BinderException",
     "evalue": "Binder Error: Referenced column \"rank\" not found in FROM clause!\nCandidate bindings: \"d2.bank\", \"d2.rank_sort\", \"d2.last_rank\"",
     "output_type": "error",
     "traceback": [
      "\u001b[0;31m---------------------------------------------------------------------------\u001b[0m",
      "\u001b[0;31mBinderException\u001b[0m                           Traceback (most recent call last)",
      "Cell \u001b[0;32mIn [3], line 6\u001b[0m\n\u001b[1;32m      3\u001b[0m \u001b[38;5;66;03m# Convert DataFrame to DuckDB\u001b[39;00m\n\u001b[1;32m      4\u001b[0m duckdb_df \u001b[38;5;241m=\u001b[39m duckdb\u001b[38;5;241m.\u001b[39mfrom_df(df)\n\u001b[0;32m----> 6\u001b[0m total_points_left_on_bench \u001b[38;5;241m=\u001b[39m duckdb\u001b[38;5;241m.\u001b[39mquery(\u001b[38;5;124m\"\"\"\u001b[39m\n\u001b[1;32m      7\u001b[0m \u001b[38;5;124m        SELECT \u001b[39m\n\u001b[1;32m      8\u001b[0m \u001b[38;5;124m            player_name, \u001b[39m\n\u001b[1;32m      9\u001b[0m \u001b[38;5;124m            COUNT(*) AS times_last_rank\u001b[39m\n\u001b[1;32m     10\u001b[0m \u001b[38;5;124m        FROM (\u001b[39m\n\u001b[1;32m     11\u001b[0m \u001b[38;5;124m            SELECT \u001b[39m\n\u001b[1;32m     12\u001b[0m \u001b[38;5;124m                event AS gameweek, \u001b[39m\n\u001b[1;32m     13\u001b[0m \u001b[38;5;124m                player_name\u001b[39m\n\u001b[1;32m     14\u001b[0m \u001b[38;5;124m            FROM \u001b[39m\n\u001b[1;32m     15\u001b[0m \u001b[38;5;124m                duckdb_df\u001b[39m\n\u001b[1;32m     16\u001b[0m \u001b[38;5;124m            WHERE \u001b[39m\n\u001b[1;32m     17\u001b[0m \u001b[38;5;124m                rank = (SELECT MAX(rank) FROM duckdb_df d2 WHERE d2.event = duckdb_df.event)\u001b[39m\n\u001b[1;32m     18\u001b[0m \u001b[38;5;124m        ) subquery\u001b[39m\n\u001b[1;32m     19\u001b[0m \u001b[38;5;124m        GROUP BY \u001b[39m\n\u001b[1;32m     20\u001b[0m \u001b[38;5;124m            player_name\u001b[39m\n\u001b[1;32m     21\u001b[0m \u001b[38;5;124m        ORDER BY \u001b[39m\n\u001b[1;32m     22\u001b[0m \u001b[38;5;124m            times_last_rank DESC\u001b[39m\n\u001b[1;32m     23\u001b[0m \u001b[38;5;124m        LIMIT 1\u001b[39m\n\u001b[1;32m     24\u001b[0m \u001b[38;5;124m    \u001b[39m\u001b[38;5;124m\"\"\"\u001b[39m\n\u001b[1;32m     25\u001b[0m     )\u001b[38;5;241m.\u001b[39mto_df()\n",
      "\u001b[0;31mBinderException\u001b[0m: Binder Error: Referenced column \"rank\" not found in FROM clause!\nCandidate bindings: \"d2.bank\", \"d2.rank_sort\", \"d2.last_rank\""
     ]
    }
   ],
   "source": [
    "\n",
    "\n",
    "total_points_left_on_bench = duckdb.query(\"\"\"\n",
    "        SELECT \n",
    "            player_name, \n",
    "            COUNT(*) AS times_last_rank\n",
    "        FROM (\n",
    "            SELECT \n",
    "                event AS gameweek, \n",
    "                player_name\n",
    "            FROM \n",
    "                duckdb_df\n",
    "            WHERE \n",
    "                rank = (SELECT MAX(rank) AS FROM duckdb_df d2 WHERE d2.event = duckdb_df.event)\n",
    "        ) subquery\n",
    "        GROUP BY \n",
    "            player_name\n",
    "        ORDER BY \n",
    "            times_last_rank DESC\n",
    "        LIMIT 1\n",
    "    \"\"\"\n",
    "    ).to_df()"
   ]
  },
  {
   "cell_type": "code",
   "execution_count": 15,
   "metadata": {},
   "outputs": [],
   "source": [
    "import duckdb\n",
    "\n",
    "# Convert DataFrame to DuckDB\n",
    "duckdb_df = duckdb.from_df(df)\n",
    "\n",
    "# mydf = pd.DataFrame({'a' : [1, 2, 3]})\n",
    "\n",
    "# print(duckdb.query(\"SELECT SUM(a) FROM mydf\").to_df())\n",
    "\n",
    "# Most points left on bench in a week\n",
    "total_points_left_on_bench = duckdb.query(\"\"\"\n",
    "    SELECT player_name, entry_name, SUM(points_on_bench) AS bench_points\n",
    "    FROM duckdb_df\n",
    "    GROUP BY player_name, entry_name\n",
    "    ORDER BY bench_points DESC\n",
    "\"\"\").to_df()\n",
    "\n",
    "most_points_left_on_bench_week = duckdb.query(\"\"\"\n",
    "    SELECT d.player_name, d.entry_name, d.points_on_bench AS most_points_left_on_bench, d.event\n",
    "    FROM duckdb_df d\n",
    "    JOIN (\n",
    "        SELECT player_name, entry_name, MAX(points_on_bench) AS max_points\n",
    "        FROM duckdb_df\n",
    "        GROUP BY player_name, entry_name\n",
    "    ) m ON d.player_name = m.player_name AND d.entry_name = m.entry_name AND d.points_on_bench = m.max_points\n",
    "    ORDER BY most_points_left_on_bench DESC\n",
    "\"\"\").to_df()"
   ]
  },
  {
   "cell_type": "code",
   "execution_count": 16,
   "metadata": {},
   "outputs": [
    {
     "data": {
      "text/html": [
       "<div>\n",
       "<style scoped>\n",
       "    .dataframe tbody tr th:only-of-type {\n",
       "        vertical-align: middle;\n",
       "    }\n",
       "\n",
       "    .dataframe tbody tr th {\n",
       "        vertical-align: top;\n",
       "    }\n",
       "\n",
       "    .dataframe thead th {\n",
       "        text-align: right;\n",
       "    }\n",
       "</style>\n",
       "<table border=\"1\" class=\"dataframe\">\n",
       "  <thead>\n",
       "    <tr style=\"text-align: right;\">\n",
       "      <th></th>\n",
       "      <th>player_name</th>\n",
       "      <th>entry_name</th>\n",
       "      <th>most_points_left_on_bench</th>\n",
       "      <th>event</th>\n",
       "    </tr>\n",
       "  </thead>\n",
       "  <tbody>\n",
       "    <tr>\n",
       "      <th>0</th>\n",
       "      <td>Daniel Brown</td>\n",
       "      <td>Benson and Hedges</td>\n",
       "      <td>28</td>\n",
       "      <td>6</td>\n",
       "    </tr>\n",
       "    <tr>\n",
       "      <th>1</th>\n",
       "      <td>Oliver Bignall</td>\n",
       "      <td>Biggie FC</td>\n",
       "      <td>27</td>\n",
       "      <td>18</td>\n",
       "    </tr>\n",
       "    <tr>\n",
       "      <th>2</th>\n",
       "      <td>Mark Longmire</td>\n",
       "      <td>Botman Begins</td>\n",
       "      <td>24</td>\n",
       "      <td>14</td>\n",
       "    </tr>\n",
       "    <tr>\n",
       "      <th>3</th>\n",
       "      <td>Patrick Prendergast</td>\n",
       "      <td>Who Got The Assist</td>\n",
       "      <td>24</td>\n",
       "      <td>23</td>\n",
       "    </tr>\n",
       "    <tr>\n",
       "      <th>4</th>\n",
       "      <td>Liam Aylwin</td>\n",
       "      <td>Unbelievable Jeff!!</td>\n",
       "      <td>22</td>\n",
       "      <td>21</td>\n",
       "    </tr>\n",
       "    <tr>\n",
       "      <th>5</th>\n",
       "      <td>Dominic Rech</td>\n",
       "      <td>In Good Kompany</td>\n",
       "      <td>21</td>\n",
       "      <td>2</td>\n",
       "    </tr>\n",
       "    <tr>\n",
       "      <th>6</th>\n",
       "      <td>Jack Chalkley</td>\n",
       "      <td>Garnachos</td>\n",
       "      <td>19</td>\n",
       "      <td>20</td>\n",
       "    </tr>\n",
       "    <tr>\n",
       "      <th>7</th>\n",
       "      <td>Mason Scott</td>\n",
       "      <td>FC Mase</td>\n",
       "      <td>19</td>\n",
       "      <td>5</td>\n",
       "    </tr>\n",
       "    <tr>\n",
       "      <th>8</th>\n",
       "      <td>Jack Grimley</td>\n",
       "      <td>Cancelo Culture</td>\n",
       "      <td>19</td>\n",
       "      <td>14</td>\n",
       "    </tr>\n",
       "    <tr>\n",
       "      <th>9</th>\n",
       "      <td>Prince Ehigiator</td>\n",
       "      <td>McCris-P FC</td>\n",
       "      <td>18</td>\n",
       "      <td>19</td>\n",
       "    </tr>\n",
       "    <tr>\n",
       "      <th>10</th>\n",
       "      <td>William Levick</td>\n",
       "      <td>Haalandaise Sauce</td>\n",
       "      <td>18</td>\n",
       "      <td>22</td>\n",
       "    </tr>\n",
       "    <tr>\n",
       "      <th>11</th>\n",
       "      <td>Fin Whittington</td>\n",
       "      <td>Is Your Motherwell</td>\n",
       "      <td>17</td>\n",
       "      <td>12</td>\n",
       "    </tr>\n",
       "    <tr>\n",
       "      <th>12</th>\n",
       "      <td>Andrew Wallace</td>\n",
       "      <td>Boggie FC</td>\n",
       "      <td>16</td>\n",
       "      <td>6</td>\n",
       "    </tr>\n",
       "    <tr>\n",
       "      <th>13</th>\n",
       "      <td>Alex Kitson</td>\n",
       "      <td>4-4-*******-2</td>\n",
       "      <td>14</td>\n",
       "      <td>5</td>\n",
       "    </tr>\n",
       "    <tr>\n",
       "      <th>14</th>\n",
       "      <td>Matt Harmer</td>\n",
       "      <td>Worrall Loada C*ap</td>\n",
       "      <td>12</td>\n",
       "      <td>4</td>\n",
       "    </tr>\n",
       "    <tr>\n",
       "      <th>15</th>\n",
       "      <td>Rory McCullough</td>\n",
       "      <td>AthletEcho Falls FC</td>\n",
       "      <td>11</td>\n",
       "      <td>10</td>\n",
       "    </tr>\n",
       "  </tbody>\n",
       "</table>\n",
       "</div>"
      ],
      "text/plain": [
       "            player_name           entry_name  most_points_left_on_bench  event\n",
       "0          Daniel Brown    Benson and Hedges                         28      6\n",
       "1        Oliver Bignall            Biggie FC                         27     18\n",
       "2         Mark Longmire        Botman Begins                         24     14\n",
       "3   Patrick Prendergast   Who Got The Assist                         24     23\n",
       "4           Liam Aylwin  Unbelievable Jeff!!                         22     21\n",
       "5          Dominic Rech      In Good Kompany                         21      2\n",
       "6         Jack Chalkley            Garnachos                         19     20\n",
       "7           Mason Scott              FC Mase                         19      5\n",
       "8          Jack Grimley      Cancelo Culture                         19     14\n",
       "9      Prince Ehigiator          McCris-P FC                         18     19\n",
       "10       William Levick    Haalandaise Sauce                         18     22\n",
       "11      Fin Whittington   Is Your Motherwell                         17     12\n",
       "12       Andrew Wallace            Boggie FC                         16      6\n",
       "13          Alex Kitson        4-4-*******-2                         14      5\n",
       "14          Matt Harmer   Worrall Loada C*ap                         12      4\n",
       "15      Rory McCullough  AthletEcho Falls FC                         11     10"
      ]
     },
     "execution_count": 16,
     "metadata": {},
     "output_type": "execute_result"
    }
   ],
   "source": [
    "most_points_left_on_bench_week"
   ]
  },
  {
   "cell_type": "code",
   "execution_count": 53,
   "metadata": {},
   "outputs": [
    {
     "data": {
      "text/html": [
       "<div>\n",
       "<style scoped>\n",
       "    .dataframe tbody tr th:only-of-type {\n",
       "        vertical-align: middle;\n",
       "    }\n",
       "\n",
       "    .dataframe tbody tr th {\n",
       "        vertical-align: top;\n",
       "    }\n",
       "\n",
       "    .dataframe thead th {\n",
       "        text-align: right;\n",
       "    }\n",
       "</style>\n",
       "<table border=\"1\" class=\"dataframe\">\n",
       "  <thead>\n",
       "    <tr style=\"text-align: right;\">\n",
       "      <th></th>\n",
       "      <th>event</th>\n",
       "      <th>player1</th>\n",
       "      <th>entry1</th>\n",
       "      <th>points1</th>\n",
       "      <th>player2</th>\n",
       "      <th>entry2</th>\n",
       "      <th>points2</th>\n",
       "      <th>difference</th>\n",
       "    </tr>\n",
       "  </thead>\n",
       "  <tbody>\n",
       "    <tr>\n",
       "      <th>0</th>\n",
       "      <td>23</td>\n",
       "      <td>Jack Grimley</td>\n",
       "      <td>Cancelo Culture</td>\n",
       "      <td>44</td>\n",
       "      <td>William Levick</td>\n",
       "      <td>Haalandaise Sauce</td>\n",
       "      <td>110</td>\n",
       "      <td>66</td>\n",
       "    </tr>\n",
       "  </tbody>\n",
       "</table>\n",
       "</div>"
      ],
      "text/plain": [
       "   event       player1           entry1  points1         player2  \\\n",
       "0     23  Jack Grimley  Cancelo Culture       44  William Levick   \n",
       "\n",
       "              entry2  points2  difference  \n",
       "0  Haalandaise Sauce      110          66  "
      ]
     },
     "execution_count": 53,
     "metadata": {},
     "output_type": "execute_result"
    }
   ],
   "source": [
    "biggest_difference = duckdb.query(\"\"\"\n",
    "    SELECT a.event, a.player_name AS player1, a.entry_name AS entry1, a.event_points AS points1,\n",
    "           b.player_name AS player2, b.entry_name AS entry2, b.event_points AS points2,\n",
    "           ABS(a.event_points - b.event_points) AS difference\n",
    "    FROM duckdb_df a, duckdb_df b\n",
    "    WHERE a.event = b.event AND a.player_name != b.player_name\n",
    "    ORDER BY difference DESC\n",
    "    LIMIT 1\n",
    "\"\"\").to_df()\n",
    "biggest_difference"
   ]
  },
  {
   "cell_type": "code",
   "execution_count": 6,
   "metadata": {},
   "outputs": [
    {
     "name": "stdout",
     "output_type": "stream",
     "text": [
      "Most points left on bench: 28\n"
     ]
    }
   ],
   "source": [
    "# Most points left on bench in a week\n",
    "most_points_left_on_bench = df['points_on_bench'].max()\n",
    "print(f\"Most points left on bench: {most_points_left_on_bench}\")\n"
   ]
  },
  {
   "cell_type": "code",
   "execution_count": null,
   "metadata": {},
   "outputs": [],
   "source": [
    "\n",
    "# Worst week\n",
    "worst_week = df['event_total_points'].idxmin()\n",
    "print(f\"Worst week: {worst_week}\")\n"
   ]
  },
  {
   "cell_type": "code",
   "execution_count": null,
   "metadata": {},
   "outputs": [],
   "source": [
    "\n",
    "# Biggest difference in points on a week from winner and loser\n",
    "df_grouped = df.groupby('event')['event_total_points'].agg(['min', 'max'])\n",
    "df_grouped['difference'] = df_grouped['max'] - df_grouped['min']\n",
    "biggest_difference = df_grouped['difference'].max()\n",
    "print(f\"Biggest difference in points on a week from winner and loser: {biggest_difference}\")"
   ]
  }
 ],
 "metadata": {
  "kernelspec": {
   "display_name": "Python 3",
   "language": "python",
   "name": "python3"
  },
  "language_info": {
   "codemirror_mode": {
    "name": "ipython",
    "version": 3
   },
   "file_extension": ".py",
   "mimetype": "text/x-python",
   "name": "python",
   "nbconvert_exporter": "python",
   "pygments_lexer": "ipython3",
   "version": "3.8.19"
  },
  "orig_nbformat": 4
 },
 "nbformat": 4,
 "nbformat_minor": 2
}
