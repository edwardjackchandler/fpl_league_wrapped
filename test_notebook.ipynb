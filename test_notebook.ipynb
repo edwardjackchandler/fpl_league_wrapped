{
 "cells": [
  {
   "cell_type": "markdown",
   "metadata": {},
   "source": [
    "# Import Required Libraries\n",
    "Import the necessary libraries, including LeagueHistoryLoader."
   ]
  },
  {
   "cell_type": "code",
   "execution_count": 1,
   "metadata": {},
   "outputs": [],
   "source": [
    "# LeagueHistoryLoader for loading the league history data\n",
    "from src.fpl_load import LeagueHistoryLoader\n",
    "\n",
    "# Setting the league id\n",
    "league_id = 665568\n",
    "\n",
    "# Creating an instance of LeagueHistoryLoader\n",
    "history_loader = LeagueHistoryLoader(league_id)"
   ]
  },
  {
   "cell_type": "code",
   "execution_count": 2,
   "metadata": {},
   "outputs": [],
   "source": [
    "# Loading the league history data\n",
    "league_data = history_loader.get_data()\n",
    "\n",
    "df = league_data\n",
    "import duckdb\n",
    "import pandas as pd\n",
    "\n",
    "# increase number of rows displayable in pandas\n",
    "pd.set_option('display.max_rows', 500)\n",
    "\n",
    "\n",
    "# Convert DataFrame to DuckDB\n",
    "duckdb_df = duckdb.from_df(df)"
   ]
  },
  {
   "cell_type": "markdown",
   "metadata": {},
   "source": [
    "# Answer Initial Questions\n",
    "Use the loaded data to answer the questions found in the Initial Questions Answered section in README.md."
   ]
  },
  {
   "cell_type": "code",
   "execution_count": 13,
   "metadata": {},
   "outputs": [],
   "source": [
    "from IPython.display import display\n",
    "pd.set_option('display.max_rows', 500)\n",
    "pd.set_option('display.max_columns', 500)\n",
    "pd.set_option('display.width', 1000)\n",
    "#df[['event', 'event_points', 'entry_name', 'player_name']]\n",
    "\n",
    "# From the get_rank result, create a function that calculates the highest, lowest and average rank for each player using SQL\n",
    "def get_player_rank(duckdb_df):\n",
    "    \"\"\"\n",
    "    This function returns a DataFrame with the highest, lowest and average rank for each player\n",
    "    \"\"\"\n",
    "    return duckdb.query(\"\"\"\n",
    "        WITH total_points AS (\n",
    "            SELECT \n",
    "                event, \n",
    "                event_points, \n",
    "                entry_name, \n",
    "                player_name,\n",
    "                SUM(event_points) OVER (PARTITION BY player_name, entry_name ORDER BY event) AS total_points\n",
    "            FROM\n",
    "                duckdb_df\n",
    "        )\n",
    "        SELECT \n",
    "            player_name,\n",
    "            entry_name,\n",
    "            MAX(rank) as worst_rank,\n",
    "            MIN(rank) as best_rank,\n",
    "            AVG(rank) as average_rank\n",
    "        FROM (\n",
    "            SELECT \n",
    "                event, \n",
    "                event_points, \n",
    "                entry_name, \n",
    "                player_name,\n",
    "                total_points,\n",
    "                RANK() OVER (PARTITION BY event ORDER BY total_points DESC) as rank\n",
    "            FROM\n",
    "                total_points\n",
    "        )\n",
    "        GROUP BY\n",
    "            player_name,\n",
    "            entry_name\n",
    "    \"\"\").to_df()"
   ]
  },
  {
   "cell_type": "code",
   "execution_count": 22,
   "metadata": {},
   "outputs": [
    {
     "data": {
      "text/html": [
       "<div>\n",
       "<style scoped>\n",
       "    .dataframe tbody tr th:only-of-type {\n",
       "        vertical-align: middle;\n",
       "    }\n",
       "\n",
       "    .dataframe tbody tr th {\n",
       "        vertical-align: top;\n",
       "    }\n",
       "\n",
       "    .dataframe thead th {\n",
       "        text-align: right;\n",
       "    }\n",
       "</style>\n",
       "<table border=\"1\" class=\"dataframe\">\n",
       "  <thead>\n",
       "    <tr style=\"text-align: right;\">\n",
       "      <th></th>\n",
       "      <th>player_name</th>\n",
       "      <th>entry_name</th>\n",
       "      <th>worst_rank</th>\n",
       "      <th>event_list</th>\n",
       "    </tr>\n",
       "  </thead>\n",
       "  <tbody>\n",
       "    <tr>\n",
       "      <th>0</th>\n",
       "      <td>Alex Kitson</td>\n",
       "      <td>4-4-*******-2</td>\n",
       "      <td>16</td>\n",
       "      <td>3, 10, 11, 12, 13, 14, 15, 16, 17, 18</td>\n",
       "    </tr>\n",
       "    <tr>\n",
       "      <th>1</th>\n",
       "      <td>Andrew Wallace</td>\n",
       "      <td>Boggie FC</td>\n",
       "      <td>10</td>\n",
       "      <td>31</td>\n",
       "    </tr>\n",
       "    <tr>\n",
       "      <th>2</th>\n",
       "      <td>Daniel Brown</td>\n",
       "      <td>Benson and Hedges</td>\n",
       "      <td>16</td>\n",
       "      <td>7</td>\n",
       "    </tr>\n",
       "    <tr>\n",
       "      <th>3</th>\n",
       "      <td>Dominic Rech</td>\n",
       "      <td>In Good Kompany</td>\n",
       "      <td>10</td>\n",
       "      <td>4, 5</td>\n",
       "    </tr>\n",
       "    <tr>\n",
       "      <th>4</th>\n",
       "      <td>Fin Whittington</td>\n",
       "      <td>Is Your Motherwell</td>\n",
       "      <td>16</td>\n",
       "      <td>23, 24, 25, 26, 27, 28, 29, 30, 31, 32, 33, 34...</td>\n",
       "    </tr>\n",
       "    <tr>\n",
       "      <th>5</th>\n",
       "      <td>Jack Chalkley</td>\n",
       "      <td>Garnachos</td>\n",
       "      <td>10</td>\n",
       "      <td>1</td>\n",
       "    </tr>\n",
       "    <tr>\n",
       "      <th>6</th>\n",
       "      <td>Jack Grimley</td>\n",
       "      <td>Cancelo Culture</td>\n",
       "      <td>15</td>\n",
       "      <td>27, 28, 30, 36</td>\n",
       "    </tr>\n",
       "    <tr>\n",
       "      <th>7</th>\n",
       "      <td>Liam Aylwin</td>\n",
       "      <td>Unbelievable Jeff!!</td>\n",
       "      <td>11</td>\n",
       "      <td>34</td>\n",
       "    </tr>\n",
       "    <tr>\n",
       "      <th>8</th>\n",
       "      <td>Mark Longmire</td>\n",
       "      <td>Botman Begins</td>\n",
       "      <td>10</td>\n",
       "      <td>19</td>\n",
       "    </tr>\n",
       "    <tr>\n",
       "      <th>9</th>\n",
       "      <td>Mason Scott</td>\n",
       "      <td>FC Mase</td>\n",
       "      <td>10</td>\n",
       "      <td>2, 23, 29, 30</td>\n",
       "    </tr>\n",
       "    <tr>\n",
       "      <th>10</th>\n",
       "      <td>Matt Harmer</td>\n",
       "      <td>Worrall Loada C*ap</td>\n",
       "      <td>15</td>\n",
       "      <td>9</td>\n",
       "    </tr>\n",
       "    <tr>\n",
       "      <th>11</th>\n",
       "      <td>Oliver Bignall</td>\n",
       "      <td>Biggie FC</td>\n",
       "      <td>15</td>\n",
       "      <td>2</td>\n",
       "    </tr>\n",
       "    <tr>\n",
       "      <th>12</th>\n",
       "      <td>Patrick Prendergast</td>\n",
       "      <td>Who Got The Assist</td>\n",
       "      <td>16</td>\n",
       "      <td>6</td>\n",
       "    </tr>\n",
       "    <tr>\n",
       "      <th>13</th>\n",
       "      <td>Prince Ehigiator</td>\n",
       "      <td>McCris-P FC</td>\n",
       "      <td>15</td>\n",
       "      <td>21, 22</td>\n",
       "    </tr>\n",
       "    <tr>\n",
       "      <th>14</th>\n",
       "      <td>Rory McCullough</td>\n",
       "      <td>AthletEcho Falls FC</td>\n",
       "      <td>15</td>\n",
       "      <td>1</td>\n",
       "    </tr>\n",
       "    <tr>\n",
       "      <th>15</th>\n",
       "      <td>William Levick</td>\n",
       "      <td>Haalandaise Sauce</td>\n",
       "      <td>16</td>\n",
       "      <td>1, 8, 20, 21, 22</td>\n",
       "    </tr>\n",
       "  </tbody>\n",
       "</table>\n",
       "</div>"
      ],
      "text/plain": [
       "            player_name           entry_name  worst_rank                                         event_list\n",
       "0           Alex Kitson        4-4-*******-2          16              3, 10, 11, 12, 13, 14, 15, 16, 17, 18\n",
       "1        Andrew Wallace            Boggie FC          10                                                 31\n",
       "2          Daniel Brown    Benson and Hedges          16                                                  7\n",
       "3          Dominic Rech      In Good Kompany          10                                               4, 5\n",
       "4       Fin Whittington   Is Your Motherwell          16  23, 24, 25, 26, 27, 28, 29, 30, 31, 32, 33, 34...\n",
       "5         Jack Chalkley            Garnachos          10                                                  1\n",
       "6          Jack Grimley      Cancelo Culture          15                                     27, 28, 30, 36\n",
       "7           Liam Aylwin  Unbelievable Jeff!!          11                                                 34\n",
       "8         Mark Longmire        Botman Begins          10                                                 19\n",
       "9           Mason Scott              FC Mase          10                                      2, 23, 29, 30\n",
       "10          Matt Harmer   Worrall Loada C*ap          15                                                  9\n",
       "11       Oliver Bignall            Biggie FC          15                                                  2\n",
       "12  Patrick Prendergast   Who Got The Assist          16                                                  6\n",
       "13     Prince Ehigiator          McCris-P FC          15                                             21, 22\n",
       "14      Rory McCullough  AthletEcho Falls FC          15                                                  1\n",
       "15       William Levick    Haalandaise Sauce          16                                   1, 8, 20, 21, 22"
      ]
     },
     "execution_count": 22,
     "metadata": {},
     "output_type": "execute_result"
    }
   ],
   "source": [
    "def get_player_worst_rank_event(duckdb_df):\n",
    "    \"\"\"\n",
    "    This function returns a DataFrame with the player_name, entry_name, worst_rank, and the event on which that worst_rank happened\n",
    "    \"\"\"\n",
    "    return duckdb.query(\"\"\"\n",
    "        WITH total_points AS (\n",
    "            SELECT \n",
    "                event, \n",
    "                event_points, \n",
    "                entry_name, \n",
    "                player_name,\n",
    "                SUM(event_points) OVER (PARTITION BY player_name, entry_name ORDER BY event) AS total_points\n",
    "            FROM\n",
    "                duckdb_df\n",
    "        ),\n",
    "        ranks AS (\n",
    "            SELECT \n",
    "                event, \n",
    "                event_points, \n",
    "                entry_name, \n",
    "                player_name,\n",
    "                total_points,\n",
    "                RANK() OVER (PARTITION BY event ORDER BY total_points DESC) as rank\n",
    "            FROM\n",
    "                total_points\n",
    "        ),\n",
    "        worst_ranks AS (\n",
    "            SELECT \n",
    "                player_name,\n",
    "                entry_name,\n",
    "                MAX(rank) as worst_rank\n",
    "            FROM \n",
    "                ranks\n",
    "            GROUP BY\n",
    "                player_name,\n",
    "                entry_name\n",
    "        )\n",
    "        SELECT \n",
    "            wr.player_name,\n",
    "            wr.entry_name,\n",
    "            wr.worst_rank,\n",
    "            STRING_AGG(CAST(r.event AS VARCHAR), ', ' ORDER BY event) AS event_list\n",
    "        FROM\n",
    "            worst_ranks wr\n",
    "        JOIN \n",
    "            ranks r\n",
    "        ON \n",
    "            wr.player_name = r.player_name AND \n",
    "            wr.entry_name = r.entry_name AND \n",
    "            wr.worst_rank = r.rank\n",
    "        GROUP BY\n",
    "            wr.player_name,\n",
    "            wr.entry_name,\n",
    "            wr.worst_rank\n",
    "        ORDER BY \n",
    "            wr.player_name\n",
    "    \"\"\").to_df()\n",
    "\n",
    "get_player_worst_rank_event(duckdb_df)"
   ]
  },
  {
   "cell_type": "code",
   "execution_count": 23,
   "metadata": {},
   "outputs": [
    {
     "data": {
      "text/html": [
       "<div>\n",
       "<style scoped>\n",
       "    .dataframe tbody tr th:only-of-type {\n",
       "        vertical-align: middle;\n",
       "    }\n",
       "\n",
       "    .dataframe tbody tr th {\n",
       "        vertical-align: top;\n",
       "    }\n",
       "\n",
       "    .dataframe thead th {\n",
       "        text-align: right;\n",
       "    }\n",
       "</style>\n",
       "<table border=\"1\" class=\"dataframe\">\n",
       "  <thead>\n",
       "    <tr style=\"text-align: right;\">\n",
       "      <th></th>\n",
       "      <th>player_name</th>\n",
       "      <th>entry_name</th>\n",
       "      <th>best_rank</th>\n",
       "      <th>event_list</th>\n",
       "    </tr>\n",
       "  </thead>\n",
       "  <tbody>\n",
       "    <tr>\n",
       "      <th>0</th>\n",
       "      <td>Alex Kitson</td>\n",
       "      <td>4-4-*******-2</td>\n",
       "      <td>5</td>\n",
       "      <td>29, 30</td>\n",
       "    </tr>\n",
       "    <tr>\n",
       "      <th>1</th>\n",
       "      <td>Andrew Wallace</td>\n",
       "      <td>Boggie FC</td>\n",
       "      <td>2</td>\n",
       "      <td>2, 14, 16, 17, 18, 21, 22, 23</td>\n",
       "    </tr>\n",
       "    <tr>\n",
       "      <th>2</th>\n",
       "      <td>Daniel Brown</td>\n",
       "      <td>Benson and Hedges</td>\n",
       "      <td>2</td>\n",
       "      <td>5</td>\n",
       "    </tr>\n",
       "    <tr>\n",
       "      <th>3</th>\n",
       "      <td>Dominic Rech</td>\n",
       "      <td>In Good Kompany</td>\n",
       "      <td>1</td>\n",
       "      <td>8, 9, 10, 11, 12, 13, 14, 15, 16, 17, 18, 19, ...</td>\n",
       "    </tr>\n",
       "    <tr>\n",
       "      <th>4</th>\n",
       "      <td>Fin Whittington</td>\n",
       "      <td>Is Your Motherwell</td>\n",
       "      <td>5</td>\n",
       "      <td>4</td>\n",
       "    </tr>\n",
       "    <tr>\n",
       "      <th>5</th>\n",
       "      <td>Jack Chalkley</td>\n",
       "      <td>Garnachos</td>\n",
       "      <td>3</td>\n",
       "      <td>5, 6, 19, 20, 21</td>\n",
       "    </tr>\n",
       "    <tr>\n",
       "      <th>6</th>\n",
       "      <td>Jack Grimley</td>\n",
       "      <td>Cancelo Culture</td>\n",
       "      <td>1</td>\n",
       "      <td>2</td>\n",
       "    </tr>\n",
       "    <tr>\n",
       "      <th>7</th>\n",
       "      <td>Liam Aylwin</td>\n",
       "      <td>Unbelievable Jeff!!</td>\n",
       "      <td>1</td>\n",
       "      <td>3</td>\n",
       "    </tr>\n",
       "    <tr>\n",
       "      <th>8</th>\n",
       "      <td>Mark Longmire</td>\n",
       "      <td>Botman Begins</td>\n",
       "      <td>2</td>\n",
       "      <td>10, 11, 12, 13, 24, 25, 26, 30, 32, 33</td>\n",
       "    </tr>\n",
       "    <tr>\n",
       "      <th>9</th>\n",
       "      <td>Mason Scott</td>\n",
       "      <td>FC Mase</td>\n",
       "      <td>1</td>\n",
       "      <td>1, 4, 5, 6, 7</td>\n",
       "    </tr>\n",
       "    <tr>\n",
       "      <th>10</th>\n",
       "      <td>Matt Harmer</td>\n",
       "      <td>Worrall Loada C*ap</td>\n",
       "      <td>7</td>\n",
       "      <td>2</td>\n",
       "    </tr>\n",
       "    <tr>\n",
       "      <th>11</th>\n",
       "      <td>Oliver Bignall</td>\n",
       "      <td>Biggie FC</td>\n",
       "      <td>2</td>\n",
       "      <td>27, 28, 29, 31</td>\n",
       "    </tr>\n",
       "    <tr>\n",
       "      <th>12</th>\n",
       "      <td>Patrick Prendergast</td>\n",
       "      <td>Who Got The Assist</td>\n",
       "      <td>2</td>\n",
       "      <td>34, 35, 36, 37, 38</td>\n",
       "    </tr>\n",
       "    <tr>\n",
       "      <th>13</th>\n",
       "      <td>Prince Ehigiator</td>\n",
       "      <td>McCris-P FC</td>\n",
       "      <td>3</td>\n",
       "      <td>2</td>\n",
       "    </tr>\n",
       "    <tr>\n",
       "      <th>14</th>\n",
       "      <td>Rory McCullough</td>\n",
       "      <td>AthletEcho Falls FC</td>\n",
       "      <td>2</td>\n",
       "      <td>15, 24</td>\n",
       "    </tr>\n",
       "    <tr>\n",
       "      <th>15</th>\n",
       "      <td>William Levick</td>\n",
       "      <td>Haalandaise Sauce</td>\n",
       "      <td>12</td>\n",
       "      <td>2, 37, 38</td>\n",
       "    </tr>\n",
       "  </tbody>\n",
       "</table>\n",
       "</div>"
      ],
      "text/plain": [
       "            player_name           entry_name  best_rank                                         event_list\n",
       "0           Alex Kitson        4-4-*******-2          5                                             29, 30\n",
       "1        Andrew Wallace            Boggie FC          2                      2, 14, 16, 17, 18, 21, 22, 23\n",
       "2          Daniel Brown    Benson and Hedges          2                                                  5\n",
       "3          Dominic Rech      In Good Kompany          1  8, 9, 10, 11, 12, 13, 14, 15, 16, 17, 18, 19, ...\n",
       "4       Fin Whittington   Is Your Motherwell          5                                                  4\n",
       "5         Jack Chalkley            Garnachos          3                                   5, 6, 19, 20, 21\n",
       "6          Jack Grimley      Cancelo Culture          1                                                  2\n",
       "7           Liam Aylwin  Unbelievable Jeff!!          1                                                  3\n",
       "8         Mark Longmire        Botman Begins          2             10, 11, 12, 13, 24, 25, 26, 30, 32, 33\n",
       "9           Mason Scott              FC Mase          1                                      1, 4, 5, 6, 7\n",
       "10          Matt Harmer   Worrall Loada C*ap          7                                                  2\n",
       "11       Oliver Bignall            Biggie FC          2                                     27, 28, 29, 31\n",
       "12  Patrick Prendergast   Who Got The Assist          2                                 34, 35, 36, 37, 38\n",
       "13     Prince Ehigiator          McCris-P FC          3                                                  2\n",
       "14      Rory McCullough  AthletEcho Falls FC          2                                             15, 24\n",
       "15       William Levick    Haalandaise Sauce         12                                          2, 37, 38"
      ]
     },
     "execution_count": 23,
     "metadata": {},
     "output_type": "execute_result"
    }
   ],
   "source": [
    "def get_player_best_rank_event(duckdb_df):\n",
    "    \"\"\"\n",
    "    This function returns a DataFrame with the player_name, entry_name, best_rank, and the event on which that best_rank happened\n",
    "    \"\"\"\n",
    "    return duckdb.query(\"\"\"\n",
    "        WITH total_points AS (\n",
    "            SELECT \n",
    "                event, \n",
    "                event_points, \n",
    "                entry_name, \n",
    "                player_name,\n",
    "                SUM(event_points) OVER (PARTITION BY player_name, entry_name ORDER BY event) AS total_points\n",
    "            FROM\n",
    "                duckdb_df\n",
    "        ),\n",
    "        ranks AS (\n",
    "            SELECT \n",
    "                event, \n",
    "                event_points, \n",
    "                entry_name, \n",
    "                player_name,\n",
    "                total_points,\n",
    "                RANK() OVER (PARTITION BY event ORDER BY total_points DESC) as rank\n",
    "            FROM\n",
    "                total_points\n",
    "        ),\n",
    "        best_ranks AS (\n",
    "            SELECT \n",
    "                player_name,\n",
    "                entry_name,\n",
    "                MIN(rank) as best_rank\n",
    "            FROM \n",
    "                ranks\n",
    "            GROUP BY\n",
    "                player_name,\n",
    "                entry_name\n",
    "        )\n",
    "        SELECT \n",
    "            br.player_name,\n",
    "            br.entry_name,\n",
    "            br.best_rank,\n",
    "            STRING_AGG(CAST(r.event AS VARCHAR), ', ' ORDER BY event) AS event_list\n",
    "        FROM\n",
    "            best_ranks br\n",
    "        JOIN \n",
    "            ranks r\n",
    "        ON \n",
    "            br.player_name = r.player_name AND \n",
    "            br.entry_name = r.entry_name AND \n",
    "            br.best_rank = r.rank\n",
    "        GROUP BY\n",
    "            br.player_name,\n",
    "            br.entry_name,\n",
    "            br.best_rank\n",
    "        ORDER BY \n",
    "            br.player_name\n",
    "    \"\"\").to_df()\n",
    "\n",
    "get_player_best_rank_event(duckdb_df)"
   ]
  },
  {
   "cell_type": "code",
   "execution_count": 14,
   "metadata": {},
   "outputs": [
    {
     "data": {
      "text/html": [
       "<div>\n",
       "<style scoped>\n",
       "    .dataframe tbody tr th:only-of-type {\n",
       "        vertical-align: middle;\n",
       "    }\n",
       "\n",
       "    .dataframe tbody tr th {\n",
       "        vertical-align: top;\n",
       "    }\n",
       "\n",
       "    .dataframe thead th {\n",
       "        text-align: right;\n",
       "    }\n",
       "</style>\n",
       "<table border=\"1\" class=\"dataframe\">\n",
       "  <thead>\n",
       "    <tr style=\"text-align: right;\">\n",
       "      <th></th>\n",
       "      <th>player_name</th>\n",
       "      <th>entry_name</th>\n",
       "      <th>worst_rank</th>\n",
       "    </tr>\n",
       "  </thead>\n",
       "  <tbody>\n",
       "    <tr>\n",
       "      <th>0</th>\n",
       "      <td>Alex Kitson</td>\n",
       "      <td>4-4-*******-2</td>\n",
       "      <td>16</td>\n",
       "    </tr>\n",
       "    <tr>\n",
       "      <th>1</th>\n",
       "      <td>Matt Harmer</td>\n",
       "      <td>Worrall Loada C*ap</td>\n",
       "      <td>15</td>\n",
       "    </tr>\n",
       "    <tr>\n",
       "      <th>2</th>\n",
       "      <td>William Levick</td>\n",
       "      <td>Haalandaise Sauce</td>\n",
       "      <td>16</td>\n",
       "    </tr>\n",
       "    <tr>\n",
       "      <th>3</th>\n",
       "      <td>Jack Grimley</td>\n",
       "      <td>Cancelo Culture</td>\n",
       "      <td>15</td>\n",
       "    </tr>\n",
       "    <tr>\n",
       "      <th>4</th>\n",
       "      <td>Andrew Wallace</td>\n",
       "      <td>Boggie FC</td>\n",
       "      <td>10</td>\n",
       "    </tr>\n",
       "    <tr>\n",
       "      <th>5</th>\n",
       "      <td>Dominic Rech</td>\n",
       "      <td>In Good Kompany</td>\n",
       "      <td>10</td>\n",
       "    </tr>\n",
       "    <tr>\n",
       "      <th>6</th>\n",
       "      <td>Mark Longmire</td>\n",
       "      <td>Botman Begins</td>\n",
       "      <td>10</td>\n",
       "    </tr>\n",
       "    <tr>\n",
       "      <th>7</th>\n",
       "      <td>Rory McCullough</td>\n",
       "      <td>AthletEcho Falls FC</td>\n",
       "      <td>15</td>\n",
       "    </tr>\n",
       "    <tr>\n",
       "      <th>8</th>\n",
       "      <td>Mason Scott</td>\n",
       "      <td>FC Mase</td>\n",
       "      <td>10</td>\n",
       "    </tr>\n",
       "    <tr>\n",
       "      <th>9</th>\n",
       "      <td>Patrick Prendergast</td>\n",
       "      <td>Who Got The Assist</td>\n",
       "      <td>16</td>\n",
       "    </tr>\n",
       "    <tr>\n",
       "      <th>10</th>\n",
       "      <td>Liam Aylwin</td>\n",
       "      <td>Unbelievable Jeff!!</td>\n",
       "      <td>11</td>\n",
       "    </tr>\n",
       "    <tr>\n",
       "      <th>11</th>\n",
       "      <td>Fin Whittington</td>\n",
       "      <td>Is Your Motherwell</td>\n",
       "      <td>16</td>\n",
       "    </tr>\n",
       "    <tr>\n",
       "      <th>12</th>\n",
       "      <td>Daniel Brown</td>\n",
       "      <td>Benson and Hedges</td>\n",
       "      <td>16</td>\n",
       "    </tr>\n",
       "    <tr>\n",
       "      <th>13</th>\n",
       "      <td>Jack Chalkley</td>\n",
       "      <td>Garnachos</td>\n",
       "      <td>10</td>\n",
       "    </tr>\n",
       "    <tr>\n",
       "      <th>14</th>\n",
       "      <td>Oliver Bignall</td>\n",
       "      <td>Biggie FC</td>\n",
       "      <td>15</td>\n",
       "    </tr>\n",
       "    <tr>\n",
       "      <th>15</th>\n",
       "      <td>Prince Ehigiator</td>\n",
       "      <td>McCris-P FC</td>\n",
       "      <td>15</td>\n",
       "    </tr>\n",
       "  </tbody>\n",
       "</table>\n",
       "</div>"
      ],
      "text/plain": [
       "            player_name           entry_name  worst_rank\n",
       "0           Alex Kitson        4-4-*******-2          16\n",
       "1           Matt Harmer   Worrall Loada C*ap          15\n",
       "2        William Levick    Haalandaise Sauce          16\n",
       "3          Jack Grimley      Cancelo Culture          15\n",
       "4        Andrew Wallace            Boggie FC          10\n",
       "5          Dominic Rech      In Good Kompany          10\n",
       "6         Mark Longmire        Botman Begins          10\n",
       "7       Rory McCullough  AthletEcho Falls FC          15\n",
       "8           Mason Scott              FC Mase          10\n",
       "9   Patrick Prendergast   Who Got The Assist          16\n",
       "10          Liam Aylwin  Unbelievable Jeff!!          11\n",
       "11      Fin Whittington   Is Your Motherwell          16\n",
       "12         Daniel Brown    Benson and Hedges          16\n",
       "13        Jack Chalkley            Garnachos          10\n",
       "14       Oliver Bignall            Biggie FC          15\n",
       "15     Prince Ehigiator          McCris-P FC          15"
      ]
     },
     "execution_count": 14,
     "metadata": {},
     "output_type": "execute_result"
    }
   ],
   "source": [
    "# Work out the highest and lowest postition for each player throughout the season\n",
    "player_rank = get_player_rank(duckdb_df)\n",
    "player_rank[['player_name', 'entry_name', 'worst_rank']]"
   ]
  },
  {
   "cell_type": "code",
   "execution_count": null,
   "metadata": {},
   "outputs": [
    {
     "data": {
      "text/html": [
       "<div>\n",
       "<style scoped>\n",
       "    .dataframe tbody tr th:only-of-type {\n",
       "        vertical-align: middle;\n",
       "    }\n",
       "\n",
       "    .dataframe tbody tr th {\n",
       "        vertical-align: top;\n",
       "    }\n",
       "\n",
       "    .dataframe thead th {\n",
       "        text-align: right;\n",
       "    }\n",
       "</style>\n",
       "<table border=\"1\" class=\"dataframe\">\n",
       "  <thead>\n",
       "    <tr style=\"text-align: right;\">\n",
       "      <th></th>\n",
       "      <th>player_name</th>\n",
       "      <th>entry_name</th>\n",
       "      <th>worst_rank</th>\n",
       "    </tr>\n",
       "  </thead>\n",
       "  <tbody>\n",
       "    <tr>\n",
       "      <th>0</th>\n",
       "      <td>Alex Kitson</td>\n",
       "      <td>4-4-*******-2</td>\n",
       "      <td>16</td>\n",
       "    </tr>\n",
       "    <tr>\n",
       "      <th>1</th>\n",
       "      <td>Matt Harmer</td>\n",
       "      <td>Worrall Loada C*ap</td>\n",
       "      <td>15</td>\n",
       "    </tr>\n",
       "    <tr>\n",
       "      <th>2</th>\n",
       "      <td>William Levick</td>\n",
       "      <td>Haalandaise Sauce</td>\n",
       "      <td>16</td>\n",
       "    </tr>\n",
       "    <tr>\n",
       "      <th>3</th>\n",
       "      <td>Jack Grimley</td>\n",
       "      <td>Cancelo Culture</td>\n",
       "      <td>15</td>\n",
       "    </tr>\n",
       "    <tr>\n",
       "      <th>4</th>\n",
       "      <td>Andrew Wallace</td>\n",
       "      <td>Boggie FC</td>\n",
       "      <td>10</td>\n",
       "    </tr>\n",
       "    <tr>\n",
       "      <th>5</th>\n",
       "      <td>Dominic Rech</td>\n",
       "      <td>In Good Kompany</td>\n",
       "      <td>10</td>\n",
       "    </tr>\n",
       "    <tr>\n",
       "      <th>6</th>\n",
       "      <td>Mark Longmire</td>\n",
       "      <td>Botman Begins</td>\n",
       "      <td>10</td>\n",
       "    </tr>\n",
       "    <tr>\n",
       "      <th>7</th>\n",
       "      <td>Rory McCullough</td>\n",
       "      <td>AthletEcho Falls FC</td>\n",
       "      <td>15</td>\n",
       "    </tr>\n",
       "    <tr>\n",
       "      <th>8</th>\n",
       "      <td>Mason Scott</td>\n",
       "      <td>FC Mase</td>\n",
       "      <td>10</td>\n",
       "    </tr>\n",
       "    <tr>\n",
       "      <th>9</th>\n",
       "      <td>Patrick Prendergast</td>\n",
       "      <td>Who Got The Assist</td>\n",
       "      <td>16</td>\n",
       "    </tr>\n",
       "    <tr>\n",
       "      <th>10</th>\n",
       "      <td>Liam Aylwin</td>\n",
       "      <td>Unbelievable Jeff!!</td>\n",
       "      <td>11</td>\n",
       "    </tr>\n",
       "    <tr>\n",
       "      <th>11</th>\n",
       "      <td>Fin Whittington</td>\n",
       "      <td>Is Your Motherwell</td>\n",
       "      <td>16</td>\n",
       "    </tr>\n",
       "    <tr>\n",
       "      <th>12</th>\n",
       "      <td>Daniel Brown</td>\n",
       "      <td>Benson and Hedges</td>\n",
       "      <td>16</td>\n",
       "    </tr>\n",
       "    <tr>\n",
       "      <th>13</th>\n",
       "      <td>Jack Chalkley</td>\n",
       "      <td>Garnachos</td>\n",
       "      <td>10</td>\n",
       "    </tr>\n",
       "    <tr>\n",
       "      <th>14</th>\n",
       "      <td>Oliver Bignall</td>\n",
       "      <td>Biggie FC</td>\n",
       "      <td>15</td>\n",
       "    </tr>\n",
       "    <tr>\n",
       "      <th>15</th>\n",
       "      <td>Prince Ehigiator</td>\n",
       "      <td>McCris-P FC</td>\n",
       "      <td>15</td>\n",
       "    </tr>\n",
       "  </tbody>\n",
       "</table>\n",
       "</div>"
      ],
      "text/plain": [
       "            player_name           entry_name  worst_rank\n",
       "0           Alex Kitson        4-4-*******-2          16\n",
       "1           Matt Harmer   Worrall Loada C*ap          15\n",
       "2        William Levick    Haalandaise Sauce          16\n",
       "3          Jack Grimley      Cancelo Culture          15\n",
       "4        Andrew Wallace            Boggie FC          10\n",
       "5          Dominic Rech      In Good Kompany          10\n",
       "6         Mark Longmire        Botman Begins          10\n",
       "7       Rory McCullough  AthletEcho Falls FC          15\n",
       "8           Mason Scott              FC Mase          10\n",
       "9   Patrick Prendergast   Who Got The Assist          16\n",
       "10          Liam Aylwin  Unbelievable Jeff!!          11\n",
       "11      Fin Whittington   Is Your Motherwell          16\n",
       "12         Daniel Brown    Benson and Hedges          16\n",
       "13        Jack Chalkley            Garnachos          10\n",
       "14       Oliver Bignall            Biggie FC          15\n",
       "15     Prince Ehigiator          McCris-P FC          15"
      ]
     },
     "metadata": {},
     "output_type": "display_data"
    }
   ],
   "source": [
    "# Work out the highest and lowest postition for each player throughout the season\n",
    "player_rank = get_player_rank(duckdb_df)\n",
    "player_rank[['player_name', 'entry_name', 'best_rank']]"
   ]
  },
  {
   "cell_type": "code",
   "execution_count": 6,
   "metadata": {},
   "outputs": [
    {
     "data": {
      "application/vnd.plotly.v1+json": {
       "config": {
        "plotlyServerURL": "https://plot.ly"
       },
       "data": [
        {
         "alignmentgroup": "True",
         "hovertemplate": "player_name=%{x}<br>highest_rank=%{y}<extra></extra>",
         "legendgroup": "",
         "marker": {
          "color": "#636efa",
          "pattern": {
           "shape": ""
          }
         },
         "name": "",
         "offsetgroup": "",
         "orientation": "v",
         "showlegend": false,
         "textposition": "auto",
         "type": "bar",
         "x": [
          "Oliver Bignall",
          "Dominic Rech",
          "Patrick Prendergast",
          "Mark Longmire",
          "Liam Aylwin",
          "Alex Kitson",
          "Mason Scott",
          "Daniel Brown",
          "Jack Grimley",
          "Jack Chalkley",
          "Rory McCullough",
          "Matt Harmer",
          "Prince Ehigiator",
          "Andrew Wallace",
          "William Levick",
          "Fin Whittington"
         ],
         "xaxis": "x",
         "y": [
          15,
          10,
          16,
          10,
          11,
          16,
          10,
          16,
          15,
          10,
          15,
          15,
          15,
          10,
          16,
          16
         ],
         "yaxis": "y"
        }
       ],
       "layout": {
        "barmode": "relative",
        "legend": {
         "tracegroupgap": 0
        },
        "template": {
         "data": {
          "bar": [
           {
            "error_x": {
             "color": "#2a3f5f"
            },
            "error_y": {
             "color": "#2a3f5f"
            },
            "marker": {
             "line": {
              "color": "#E5ECF6",
              "width": 0.5
             },
             "pattern": {
              "fillmode": "overlay",
              "size": 10,
              "solidity": 0.2
             }
            },
            "type": "bar"
           }
          ],
          "barpolar": [
           {
            "marker": {
             "line": {
              "color": "#E5ECF6",
              "width": 0.5
             },
             "pattern": {
              "fillmode": "overlay",
              "size": 10,
              "solidity": 0.2
             }
            },
            "type": "barpolar"
           }
          ],
          "carpet": [
           {
            "aaxis": {
             "endlinecolor": "#2a3f5f",
             "gridcolor": "white",
             "linecolor": "white",
             "minorgridcolor": "white",
             "startlinecolor": "#2a3f5f"
            },
            "baxis": {
             "endlinecolor": "#2a3f5f",
             "gridcolor": "white",
             "linecolor": "white",
             "minorgridcolor": "white",
             "startlinecolor": "#2a3f5f"
            },
            "type": "carpet"
           }
          ],
          "choropleth": [
           {
            "colorbar": {
             "outlinewidth": 0,
             "ticks": ""
            },
            "type": "choropleth"
           }
          ],
          "contour": [
           {
            "colorbar": {
             "outlinewidth": 0,
             "ticks": ""
            },
            "colorscale": [
             [
              0,
              "#0d0887"
             ],
             [
              0.1111111111111111,
              "#46039f"
             ],
             [
              0.2222222222222222,
              "#7201a8"
             ],
             [
              0.3333333333333333,
              "#9c179e"
             ],
             [
              0.4444444444444444,
              "#bd3786"
             ],
             [
              0.5555555555555556,
              "#d8576b"
             ],
             [
              0.6666666666666666,
              "#ed7953"
             ],
             [
              0.7777777777777778,
              "#fb9f3a"
             ],
             [
              0.8888888888888888,
              "#fdca26"
             ],
             [
              1,
              "#f0f921"
             ]
            ],
            "type": "contour"
           }
          ],
          "contourcarpet": [
           {
            "colorbar": {
             "outlinewidth": 0,
             "ticks": ""
            },
            "type": "contourcarpet"
           }
          ],
          "heatmap": [
           {
            "colorbar": {
             "outlinewidth": 0,
             "ticks": ""
            },
            "colorscale": [
             [
              0,
              "#0d0887"
             ],
             [
              0.1111111111111111,
              "#46039f"
             ],
             [
              0.2222222222222222,
              "#7201a8"
             ],
             [
              0.3333333333333333,
              "#9c179e"
             ],
             [
              0.4444444444444444,
              "#bd3786"
             ],
             [
              0.5555555555555556,
              "#d8576b"
             ],
             [
              0.6666666666666666,
              "#ed7953"
             ],
             [
              0.7777777777777778,
              "#fb9f3a"
             ],
             [
              0.8888888888888888,
              "#fdca26"
             ],
             [
              1,
              "#f0f921"
             ]
            ],
            "type": "heatmap"
           }
          ],
          "heatmapgl": [
           {
            "colorbar": {
             "outlinewidth": 0,
             "ticks": ""
            },
            "colorscale": [
             [
              0,
              "#0d0887"
             ],
             [
              0.1111111111111111,
              "#46039f"
             ],
             [
              0.2222222222222222,
              "#7201a8"
             ],
             [
              0.3333333333333333,
              "#9c179e"
             ],
             [
              0.4444444444444444,
              "#bd3786"
             ],
             [
              0.5555555555555556,
              "#d8576b"
             ],
             [
              0.6666666666666666,
              "#ed7953"
             ],
             [
              0.7777777777777778,
              "#fb9f3a"
             ],
             [
              0.8888888888888888,
              "#fdca26"
             ],
             [
              1,
              "#f0f921"
             ]
            ],
            "type": "heatmapgl"
           }
          ],
          "histogram": [
           {
            "marker": {
             "pattern": {
              "fillmode": "overlay",
              "size": 10,
              "solidity": 0.2
             }
            },
            "type": "histogram"
           }
          ],
          "histogram2d": [
           {
            "colorbar": {
             "outlinewidth": 0,
             "ticks": ""
            },
            "colorscale": [
             [
              0,
              "#0d0887"
             ],
             [
              0.1111111111111111,
              "#46039f"
             ],
             [
              0.2222222222222222,
              "#7201a8"
             ],
             [
              0.3333333333333333,
              "#9c179e"
             ],
             [
              0.4444444444444444,
              "#bd3786"
             ],
             [
              0.5555555555555556,
              "#d8576b"
             ],
             [
              0.6666666666666666,
              "#ed7953"
             ],
             [
              0.7777777777777778,
              "#fb9f3a"
             ],
             [
              0.8888888888888888,
              "#fdca26"
             ],
             [
              1,
              "#f0f921"
             ]
            ],
            "type": "histogram2d"
           }
          ],
          "histogram2dcontour": [
           {
            "colorbar": {
             "outlinewidth": 0,
             "ticks": ""
            },
            "colorscale": [
             [
              0,
              "#0d0887"
             ],
             [
              0.1111111111111111,
              "#46039f"
             ],
             [
              0.2222222222222222,
              "#7201a8"
             ],
             [
              0.3333333333333333,
              "#9c179e"
             ],
             [
              0.4444444444444444,
              "#bd3786"
             ],
             [
              0.5555555555555556,
              "#d8576b"
             ],
             [
              0.6666666666666666,
              "#ed7953"
             ],
             [
              0.7777777777777778,
              "#fb9f3a"
             ],
             [
              0.8888888888888888,
              "#fdca26"
             ],
             [
              1,
              "#f0f921"
             ]
            ],
            "type": "histogram2dcontour"
           }
          ],
          "mesh3d": [
           {
            "colorbar": {
             "outlinewidth": 0,
             "ticks": ""
            },
            "type": "mesh3d"
           }
          ],
          "parcoords": [
           {
            "line": {
             "colorbar": {
              "outlinewidth": 0,
              "ticks": ""
             }
            },
            "type": "parcoords"
           }
          ],
          "pie": [
           {
            "automargin": true,
            "type": "pie"
           }
          ],
          "scatter": [
           {
            "fillpattern": {
             "fillmode": "overlay",
             "size": 10,
             "solidity": 0.2
            },
            "type": "scatter"
           }
          ],
          "scatter3d": [
           {
            "line": {
             "colorbar": {
              "outlinewidth": 0,
              "ticks": ""
             }
            },
            "marker": {
             "colorbar": {
              "outlinewidth": 0,
              "ticks": ""
             }
            },
            "type": "scatter3d"
           }
          ],
          "scattercarpet": [
           {
            "marker": {
             "colorbar": {
              "outlinewidth": 0,
              "ticks": ""
             }
            },
            "type": "scattercarpet"
           }
          ],
          "scattergeo": [
           {
            "marker": {
             "colorbar": {
              "outlinewidth": 0,
              "ticks": ""
             }
            },
            "type": "scattergeo"
           }
          ],
          "scattergl": [
           {
            "marker": {
             "colorbar": {
              "outlinewidth": 0,
              "ticks": ""
             }
            },
            "type": "scattergl"
           }
          ],
          "scattermapbox": [
           {
            "marker": {
             "colorbar": {
              "outlinewidth": 0,
              "ticks": ""
             }
            },
            "type": "scattermapbox"
           }
          ],
          "scatterpolar": [
           {
            "marker": {
             "colorbar": {
              "outlinewidth": 0,
              "ticks": ""
             }
            },
            "type": "scatterpolar"
           }
          ],
          "scatterpolargl": [
           {
            "marker": {
             "colorbar": {
              "outlinewidth": 0,
              "ticks": ""
             }
            },
            "type": "scatterpolargl"
           }
          ],
          "scatterternary": [
           {
            "marker": {
             "colorbar": {
              "outlinewidth": 0,
              "ticks": ""
             }
            },
            "type": "scatterternary"
           }
          ],
          "surface": [
           {
            "colorbar": {
             "outlinewidth": 0,
             "ticks": ""
            },
            "colorscale": [
             [
              0,
              "#0d0887"
             ],
             [
              0.1111111111111111,
              "#46039f"
             ],
             [
              0.2222222222222222,
              "#7201a8"
             ],
             [
              0.3333333333333333,
              "#9c179e"
             ],
             [
              0.4444444444444444,
              "#bd3786"
             ],
             [
              0.5555555555555556,
              "#d8576b"
             ],
             [
              0.6666666666666666,
              "#ed7953"
             ],
             [
              0.7777777777777778,
              "#fb9f3a"
             ],
             [
              0.8888888888888888,
              "#fdca26"
             ],
             [
              1,
              "#f0f921"
             ]
            ],
            "type": "surface"
           }
          ],
          "table": [
           {
            "cells": {
             "fill": {
              "color": "#EBF0F8"
             },
             "line": {
              "color": "white"
             }
            },
            "header": {
             "fill": {
              "color": "#C8D4E3"
             },
             "line": {
              "color": "white"
             }
            },
            "type": "table"
           }
          ]
         },
         "layout": {
          "annotationdefaults": {
           "arrowcolor": "#2a3f5f",
           "arrowhead": 0,
           "arrowwidth": 1
          },
          "autotypenumbers": "strict",
          "coloraxis": {
           "colorbar": {
            "outlinewidth": 0,
            "ticks": ""
           }
          },
          "colorscale": {
           "diverging": [
            [
             0,
             "#8e0152"
            ],
            [
             0.1,
             "#c51b7d"
            ],
            [
             0.2,
             "#de77ae"
            ],
            [
             0.3,
             "#f1b6da"
            ],
            [
             0.4,
             "#fde0ef"
            ],
            [
             0.5,
             "#f7f7f7"
            ],
            [
             0.6,
             "#e6f5d0"
            ],
            [
             0.7,
             "#b8e186"
            ],
            [
             0.8,
             "#7fbc41"
            ],
            [
             0.9,
             "#4d9221"
            ],
            [
             1,
             "#276419"
            ]
           ],
           "sequential": [
            [
             0,
             "#0d0887"
            ],
            [
             0.1111111111111111,
             "#46039f"
            ],
            [
             0.2222222222222222,
             "#7201a8"
            ],
            [
             0.3333333333333333,
             "#9c179e"
            ],
            [
             0.4444444444444444,
             "#bd3786"
            ],
            [
             0.5555555555555556,
             "#d8576b"
            ],
            [
             0.6666666666666666,
             "#ed7953"
            ],
            [
             0.7777777777777778,
             "#fb9f3a"
            ],
            [
             0.8888888888888888,
             "#fdca26"
            ],
            [
             1,
             "#f0f921"
            ]
           ],
           "sequentialminus": [
            [
             0,
             "#0d0887"
            ],
            [
             0.1111111111111111,
             "#46039f"
            ],
            [
             0.2222222222222222,
             "#7201a8"
            ],
            [
             0.3333333333333333,
             "#9c179e"
            ],
            [
             0.4444444444444444,
             "#bd3786"
            ],
            [
             0.5555555555555556,
             "#d8576b"
            ],
            [
             0.6666666666666666,
             "#ed7953"
            ],
            [
             0.7777777777777778,
             "#fb9f3a"
            ],
            [
             0.8888888888888888,
             "#fdca26"
            ],
            [
             1,
             "#f0f921"
            ]
           ]
          },
          "colorway": [
           "#636efa",
           "#EF553B",
           "#00cc96",
           "#ab63fa",
           "#FFA15A",
           "#19d3f3",
           "#FF6692",
           "#B6E880",
           "#FF97FF",
           "#FECB52"
          ],
          "font": {
           "color": "#2a3f5f"
          },
          "geo": {
           "bgcolor": "white",
           "lakecolor": "white",
           "landcolor": "#E5ECF6",
           "showlakes": true,
           "showland": true,
           "subunitcolor": "white"
          },
          "hoverlabel": {
           "align": "left"
          },
          "hovermode": "closest",
          "mapbox": {
           "style": "light"
          },
          "paper_bgcolor": "white",
          "plot_bgcolor": "#E5ECF6",
          "polar": {
           "angularaxis": {
            "gridcolor": "white",
            "linecolor": "white",
            "ticks": ""
           },
           "bgcolor": "#E5ECF6",
           "radialaxis": {
            "gridcolor": "white",
            "linecolor": "white",
            "ticks": ""
           }
          },
          "scene": {
           "xaxis": {
            "backgroundcolor": "#E5ECF6",
            "gridcolor": "white",
            "gridwidth": 2,
            "linecolor": "white",
            "showbackground": true,
            "ticks": "",
            "zerolinecolor": "white"
           },
           "yaxis": {
            "backgroundcolor": "#E5ECF6",
            "gridcolor": "white",
            "gridwidth": 2,
            "linecolor": "white",
            "showbackground": true,
            "ticks": "",
            "zerolinecolor": "white"
           },
           "zaxis": {
            "backgroundcolor": "#E5ECF6",
            "gridcolor": "white",
            "gridwidth": 2,
            "linecolor": "white",
            "showbackground": true,
            "ticks": "",
            "zerolinecolor": "white"
           }
          },
          "shapedefaults": {
           "line": {
            "color": "#2a3f5f"
           }
          },
          "ternary": {
           "aaxis": {
            "gridcolor": "white",
            "linecolor": "white",
            "ticks": ""
           },
           "baxis": {
            "gridcolor": "white",
            "linecolor": "white",
            "ticks": ""
           },
           "bgcolor": "#E5ECF6",
           "caxis": {
            "gridcolor": "white",
            "linecolor": "white",
            "ticks": ""
           }
          },
          "title": {
           "x": 0.05
          },
          "xaxis": {
           "automargin": true,
           "gridcolor": "white",
           "linecolor": "white",
           "ticks": "",
           "title": {
            "standoff": 15
           },
           "zerolinecolor": "white",
           "zerolinewidth": 2
          },
          "yaxis": {
           "automargin": true,
           "gridcolor": "white",
           "linecolor": "white",
           "ticks": "",
           "title": {
            "standoff": 15
           },
           "zerolinecolor": "white",
           "zerolinewidth": 2
          }
         }
        },
        "title": {
         "text": "Highest Rank"
        },
        "xaxis": {
         "anchor": "y",
         "domain": [
          0,
          1
         ],
         "title": {
          "text": "player_name"
         }
        },
        "yaxis": {
         "anchor": "x",
         "domain": [
          0,
          1
         ],
         "title": {
          "text": "highest_rank"
         }
        }
       }
      }
     },
     "metadata": {},
     "output_type": "display_data"
    },
    {
     "data": {
      "application/vnd.plotly.v1+json": {
       "config": {
        "plotlyServerURL": "https://plot.ly"
       },
       "data": [
        {
         "alignmentgroup": "True",
         "hovertemplate": "player_name=%{x}<br>lowest_rank=%{y}<extra></extra>",
         "legendgroup": "",
         "marker": {
          "color": "#636efa",
          "pattern": {
           "shape": ""
          }
         },
         "name": "",
         "offsetgroup": "",
         "orientation": "v",
         "showlegend": false,
         "textposition": "auto",
         "type": "bar",
         "x": [
          "Oliver Bignall",
          "Dominic Rech",
          "Patrick Prendergast",
          "Mark Longmire",
          "Liam Aylwin",
          "Alex Kitson",
          "Mason Scott",
          "Daniel Brown",
          "Jack Grimley",
          "Jack Chalkley",
          "Rory McCullough",
          "Matt Harmer",
          "Prince Ehigiator",
          "Andrew Wallace",
          "William Levick",
          "Fin Whittington"
         ],
         "xaxis": "x",
         "y": [
          2,
          1,
          2,
          2,
          1,
          5,
          1,
          2,
          1,
          3,
          2,
          7,
          3,
          2,
          12,
          5
         ],
         "yaxis": "y"
        }
       ],
       "layout": {
        "barmode": "relative",
        "legend": {
         "tracegroupgap": 0
        },
        "template": {
         "data": {
          "bar": [
           {
            "error_x": {
             "color": "#2a3f5f"
            },
            "error_y": {
             "color": "#2a3f5f"
            },
            "marker": {
             "line": {
              "color": "#E5ECF6",
              "width": 0.5
             },
             "pattern": {
              "fillmode": "overlay",
              "size": 10,
              "solidity": 0.2
             }
            },
            "type": "bar"
           }
          ],
          "barpolar": [
           {
            "marker": {
             "line": {
              "color": "#E5ECF6",
              "width": 0.5
             },
             "pattern": {
              "fillmode": "overlay",
              "size": 10,
              "solidity": 0.2
             }
            },
            "type": "barpolar"
           }
          ],
          "carpet": [
           {
            "aaxis": {
             "endlinecolor": "#2a3f5f",
             "gridcolor": "white",
             "linecolor": "white",
             "minorgridcolor": "white",
             "startlinecolor": "#2a3f5f"
            },
            "baxis": {
             "endlinecolor": "#2a3f5f",
             "gridcolor": "white",
             "linecolor": "white",
             "minorgridcolor": "white",
             "startlinecolor": "#2a3f5f"
            },
            "type": "carpet"
           }
          ],
          "choropleth": [
           {
            "colorbar": {
             "outlinewidth": 0,
             "ticks": ""
            },
            "type": "choropleth"
           }
          ],
          "contour": [
           {
            "colorbar": {
             "outlinewidth": 0,
             "ticks": ""
            },
            "colorscale": [
             [
              0,
              "#0d0887"
             ],
             [
              0.1111111111111111,
              "#46039f"
             ],
             [
              0.2222222222222222,
              "#7201a8"
             ],
             [
              0.3333333333333333,
              "#9c179e"
             ],
             [
              0.4444444444444444,
              "#bd3786"
             ],
             [
              0.5555555555555556,
              "#d8576b"
             ],
             [
              0.6666666666666666,
              "#ed7953"
             ],
             [
              0.7777777777777778,
              "#fb9f3a"
             ],
             [
              0.8888888888888888,
              "#fdca26"
             ],
             [
              1,
              "#f0f921"
             ]
            ],
            "type": "contour"
           }
          ],
          "contourcarpet": [
           {
            "colorbar": {
             "outlinewidth": 0,
             "ticks": ""
            },
            "type": "contourcarpet"
           }
          ],
          "heatmap": [
           {
            "colorbar": {
             "outlinewidth": 0,
             "ticks": ""
            },
            "colorscale": [
             [
              0,
              "#0d0887"
             ],
             [
              0.1111111111111111,
              "#46039f"
             ],
             [
              0.2222222222222222,
              "#7201a8"
             ],
             [
              0.3333333333333333,
              "#9c179e"
             ],
             [
              0.4444444444444444,
              "#bd3786"
             ],
             [
              0.5555555555555556,
              "#d8576b"
             ],
             [
              0.6666666666666666,
              "#ed7953"
             ],
             [
              0.7777777777777778,
              "#fb9f3a"
             ],
             [
              0.8888888888888888,
              "#fdca26"
             ],
             [
              1,
              "#f0f921"
             ]
            ],
            "type": "heatmap"
           }
          ],
          "heatmapgl": [
           {
            "colorbar": {
             "outlinewidth": 0,
             "ticks": ""
            },
            "colorscale": [
             [
              0,
              "#0d0887"
             ],
             [
              0.1111111111111111,
              "#46039f"
             ],
             [
              0.2222222222222222,
              "#7201a8"
             ],
             [
              0.3333333333333333,
              "#9c179e"
             ],
             [
              0.4444444444444444,
              "#bd3786"
             ],
             [
              0.5555555555555556,
              "#d8576b"
             ],
             [
              0.6666666666666666,
              "#ed7953"
             ],
             [
              0.7777777777777778,
              "#fb9f3a"
             ],
             [
              0.8888888888888888,
              "#fdca26"
             ],
             [
              1,
              "#f0f921"
             ]
            ],
            "type": "heatmapgl"
           }
          ],
          "histogram": [
           {
            "marker": {
             "pattern": {
              "fillmode": "overlay",
              "size": 10,
              "solidity": 0.2
             }
            },
            "type": "histogram"
           }
          ],
          "histogram2d": [
           {
            "colorbar": {
             "outlinewidth": 0,
             "ticks": ""
            },
            "colorscale": [
             [
              0,
              "#0d0887"
             ],
             [
              0.1111111111111111,
              "#46039f"
             ],
             [
              0.2222222222222222,
              "#7201a8"
             ],
             [
              0.3333333333333333,
              "#9c179e"
             ],
             [
              0.4444444444444444,
              "#bd3786"
             ],
             [
              0.5555555555555556,
              "#d8576b"
             ],
             [
              0.6666666666666666,
              "#ed7953"
             ],
             [
              0.7777777777777778,
              "#fb9f3a"
             ],
             [
              0.8888888888888888,
              "#fdca26"
             ],
             [
              1,
              "#f0f921"
             ]
            ],
            "type": "histogram2d"
           }
          ],
          "histogram2dcontour": [
           {
            "colorbar": {
             "outlinewidth": 0,
             "ticks": ""
            },
            "colorscale": [
             [
              0,
              "#0d0887"
             ],
             [
              0.1111111111111111,
              "#46039f"
             ],
             [
              0.2222222222222222,
              "#7201a8"
             ],
             [
              0.3333333333333333,
              "#9c179e"
             ],
             [
              0.4444444444444444,
              "#bd3786"
             ],
             [
              0.5555555555555556,
              "#d8576b"
             ],
             [
              0.6666666666666666,
              "#ed7953"
             ],
             [
              0.7777777777777778,
              "#fb9f3a"
             ],
             [
              0.8888888888888888,
              "#fdca26"
             ],
             [
              1,
              "#f0f921"
             ]
            ],
            "type": "histogram2dcontour"
           }
          ],
          "mesh3d": [
           {
            "colorbar": {
             "outlinewidth": 0,
             "ticks": ""
            },
            "type": "mesh3d"
           }
          ],
          "parcoords": [
           {
            "line": {
             "colorbar": {
              "outlinewidth": 0,
              "ticks": ""
             }
            },
            "type": "parcoords"
           }
          ],
          "pie": [
           {
            "automargin": true,
            "type": "pie"
           }
          ],
          "scatter": [
           {
            "fillpattern": {
             "fillmode": "overlay",
             "size": 10,
             "solidity": 0.2
            },
            "type": "scatter"
           }
          ],
          "scatter3d": [
           {
            "line": {
             "colorbar": {
              "outlinewidth": 0,
              "ticks": ""
             }
            },
            "marker": {
             "colorbar": {
              "outlinewidth": 0,
              "ticks": ""
             }
            },
            "type": "scatter3d"
           }
          ],
          "scattercarpet": [
           {
            "marker": {
             "colorbar": {
              "outlinewidth": 0,
              "ticks": ""
             }
            },
            "type": "scattercarpet"
           }
          ],
          "scattergeo": [
           {
            "marker": {
             "colorbar": {
              "outlinewidth": 0,
              "ticks": ""
             }
            },
            "type": "scattergeo"
           }
          ],
          "scattergl": [
           {
            "marker": {
             "colorbar": {
              "outlinewidth": 0,
              "ticks": ""
             }
            },
            "type": "scattergl"
           }
          ],
          "scattermapbox": [
           {
            "marker": {
             "colorbar": {
              "outlinewidth": 0,
              "ticks": ""
             }
            },
            "type": "scattermapbox"
           }
          ],
          "scatterpolar": [
           {
            "marker": {
             "colorbar": {
              "outlinewidth": 0,
              "ticks": ""
             }
            },
            "type": "scatterpolar"
           }
          ],
          "scatterpolargl": [
           {
            "marker": {
             "colorbar": {
              "outlinewidth": 0,
              "ticks": ""
             }
            },
            "type": "scatterpolargl"
           }
          ],
          "scatterternary": [
           {
            "marker": {
             "colorbar": {
              "outlinewidth": 0,
              "ticks": ""
             }
            },
            "type": "scatterternary"
           }
          ],
          "surface": [
           {
            "colorbar": {
             "outlinewidth": 0,
             "ticks": ""
            },
            "colorscale": [
             [
              0,
              "#0d0887"
             ],
             [
              0.1111111111111111,
              "#46039f"
             ],
             [
              0.2222222222222222,
              "#7201a8"
             ],
             [
              0.3333333333333333,
              "#9c179e"
             ],
             [
              0.4444444444444444,
              "#bd3786"
             ],
             [
              0.5555555555555556,
              "#d8576b"
             ],
             [
              0.6666666666666666,
              "#ed7953"
             ],
             [
              0.7777777777777778,
              "#fb9f3a"
             ],
             [
              0.8888888888888888,
              "#fdca26"
             ],
             [
              1,
              "#f0f921"
             ]
            ],
            "type": "surface"
           }
          ],
          "table": [
           {
            "cells": {
             "fill": {
              "color": "#EBF0F8"
             },
             "line": {
              "color": "white"
             }
            },
            "header": {
             "fill": {
              "color": "#C8D4E3"
             },
             "line": {
              "color": "white"
             }
            },
            "type": "table"
           }
          ]
         },
         "layout": {
          "annotationdefaults": {
           "arrowcolor": "#2a3f5f",
           "arrowhead": 0,
           "arrowwidth": 1
          },
          "autotypenumbers": "strict",
          "coloraxis": {
           "colorbar": {
            "outlinewidth": 0,
            "ticks": ""
           }
          },
          "colorscale": {
           "diverging": [
            [
             0,
             "#8e0152"
            ],
            [
             0.1,
             "#c51b7d"
            ],
            [
             0.2,
             "#de77ae"
            ],
            [
             0.3,
             "#f1b6da"
            ],
            [
             0.4,
             "#fde0ef"
            ],
            [
             0.5,
             "#f7f7f7"
            ],
            [
             0.6,
             "#e6f5d0"
            ],
            [
             0.7,
             "#b8e186"
            ],
            [
             0.8,
             "#7fbc41"
            ],
            [
             0.9,
             "#4d9221"
            ],
            [
             1,
             "#276419"
            ]
           ],
           "sequential": [
            [
             0,
             "#0d0887"
            ],
            [
             0.1111111111111111,
             "#46039f"
            ],
            [
             0.2222222222222222,
             "#7201a8"
            ],
            [
             0.3333333333333333,
             "#9c179e"
            ],
            [
             0.4444444444444444,
             "#bd3786"
            ],
            [
             0.5555555555555556,
             "#d8576b"
            ],
            [
             0.6666666666666666,
             "#ed7953"
            ],
            [
             0.7777777777777778,
             "#fb9f3a"
            ],
            [
             0.8888888888888888,
             "#fdca26"
            ],
            [
             1,
             "#f0f921"
            ]
           ],
           "sequentialminus": [
            [
             0,
             "#0d0887"
            ],
            [
             0.1111111111111111,
             "#46039f"
            ],
            [
             0.2222222222222222,
             "#7201a8"
            ],
            [
             0.3333333333333333,
             "#9c179e"
            ],
            [
             0.4444444444444444,
             "#bd3786"
            ],
            [
             0.5555555555555556,
             "#d8576b"
            ],
            [
             0.6666666666666666,
             "#ed7953"
            ],
            [
             0.7777777777777778,
             "#fb9f3a"
            ],
            [
             0.8888888888888888,
             "#fdca26"
            ],
            [
             1,
             "#f0f921"
            ]
           ]
          },
          "colorway": [
           "#636efa",
           "#EF553B",
           "#00cc96",
           "#ab63fa",
           "#FFA15A",
           "#19d3f3",
           "#FF6692",
           "#B6E880",
           "#FF97FF",
           "#FECB52"
          ],
          "font": {
           "color": "#2a3f5f"
          },
          "geo": {
           "bgcolor": "white",
           "lakecolor": "white",
           "landcolor": "#E5ECF6",
           "showlakes": true,
           "showland": true,
           "subunitcolor": "white"
          },
          "hoverlabel": {
           "align": "left"
          },
          "hovermode": "closest",
          "mapbox": {
           "style": "light"
          },
          "paper_bgcolor": "white",
          "plot_bgcolor": "#E5ECF6",
          "polar": {
           "angularaxis": {
            "gridcolor": "white",
            "linecolor": "white",
            "ticks": ""
           },
           "bgcolor": "#E5ECF6",
           "radialaxis": {
            "gridcolor": "white",
            "linecolor": "white",
            "ticks": ""
           }
          },
          "scene": {
           "xaxis": {
            "backgroundcolor": "#E5ECF6",
            "gridcolor": "white",
            "gridwidth": 2,
            "linecolor": "white",
            "showbackground": true,
            "ticks": "",
            "zerolinecolor": "white"
           },
           "yaxis": {
            "backgroundcolor": "#E5ECF6",
            "gridcolor": "white",
            "gridwidth": 2,
            "linecolor": "white",
            "showbackground": true,
            "ticks": "",
            "zerolinecolor": "white"
           },
           "zaxis": {
            "backgroundcolor": "#E5ECF6",
            "gridcolor": "white",
            "gridwidth": 2,
            "linecolor": "white",
            "showbackground": true,
            "ticks": "",
            "zerolinecolor": "white"
           }
          },
          "shapedefaults": {
           "line": {
            "color": "#2a3f5f"
           }
          },
          "ternary": {
           "aaxis": {
            "gridcolor": "white",
            "linecolor": "white",
            "ticks": ""
           },
           "baxis": {
            "gridcolor": "white",
            "linecolor": "white",
            "ticks": ""
           },
           "bgcolor": "#E5ECF6",
           "caxis": {
            "gridcolor": "white",
            "linecolor": "white",
            "ticks": ""
           }
          },
          "title": {
           "x": 0.05
          },
          "xaxis": {
           "automargin": true,
           "gridcolor": "white",
           "linecolor": "white",
           "ticks": "",
           "title": {
            "standoff": 15
           },
           "zerolinecolor": "white",
           "zerolinewidth": 2
          },
          "yaxis": {
           "automargin": true,
           "gridcolor": "white",
           "linecolor": "white",
           "ticks": "",
           "title": {
            "standoff": 15
           },
           "zerolinecolor": "white",
           "zerolinewidth": 2
          }
         }
        },
        "title": {
         "text": "Lowest Rank"
        },
        "xaxis": {
         "anchor": "y",
         "domain": [
          0,
          1
         ],
         "title": {
          "text": "player_name"
         }
        },
        "yaxis": {
         "anchor": "x",
         "domain": [
          0,
          1
         ],
         "title": {
          "text": "lowest_rank"
         }
        }
       }
      }
     },
     "metadata": {},
     "output_type": "display_data"
    },
    {
     "data": {
      "application/vnd.plotly.v1+json": {
       "config": {
        "plotlyServerURL": "https://plot.ly"
       },
       "data": [
        {
         "alignmentgroup": "True",
         "hovertemplate": "player_name=%{x}<br>average_rank=%{y}<extra></extra>",
         "legendgroup": "",
         "marker": {
          "color": "#636efa",
          "pattern": {
           "shape": ""
          }
         },
         "name": "",
         "offsetgroup": "",
         "orientation": "v",
         "showlegend": false,
         "textposition": "auto",
         "type": "bar",
         "x": [
          "Oliver Bignall",
          "Dominic Rech",
          "Patrick Prendergast",
          "Mark Longmire",
          "Liam Aylwin",
          "Alex Kitson",
          "Mason Scott",
          "Daniel Brown",
          "Jack Grimley",
          "Jack Chalkley",
          "Rory McCullough",
          "Matt Harmer",
          "Prince Ehigiator",
          "Andrew Wallace",
          "William Levick",
          "Fin Whittington"
         ],
         "xaxis": "x",
         "y": [
          6.368421052631579,
          1.894736842105263,
          7.2894736842105265,
          4.394736842105263,
          5.894736842105263,
          12.052631578947368,
          5.7105263157894735,
          11.236842105263158,
          11.157894736842104,
          5.526315789473684,
          6.7105263157894735,
          12.026315789473685,
          10.631578947368421,
          5.2631578947368425,
          14.473684210526315,
          14.026315789473685
         ],
         "yaxis": "y"
        }
       ],
       "layout": {
        "barmode": "relative",
        "legend": {
         "tracegroupgap": 0
        },
        "template": {
         "data": {
          "bar": [
           {
            "error_x": {
             "color": "#2a3f5f"
            },
            "error_y": {
             "color": "#2a3f5f"
            },
            "marker": {
             "line": {
              "color": "#E5ECF6",
              "width": 0.5
             },
             "pattern": {
              "fillmode": "overlay",
              "size": 10,
              "solidity": 0.2
             }
            },
            "type": "bar"
           }
          ],
          "barpolar": [
           {
            "marker": {
             "line": {
              "color": "#E5ECF6",
              "width": 0.5
             },
             "pattern": {
              "fillmode": "overlay",
              "size": 10,
              "solidity": 0.2
             }
            },
            "type": "barpolar"
           }
          ],
          "carpet": [
           {
            "aaxis": {
             "endlinecolor": "#2a3f5f",
             "gridcolor": "white",
             "linecolor": "white",
             "minorgridcolor": "white",
             "startlinecolor": "#2a3f5f"
            },
            "baxis": {
             "endlinecolor": "#2a3f5f",
             "gridcolor": "white",
             "linecolor": "white",
             "minorgridcolor": "white",
             "startlinecolor": "#2a3f5f"
            },
            "type": "carpet"
           }
          ],
          "choropleth": [
           {
            "colorbar": {
             "outlinewidth": 0,
             "ticks": ""
            },
            "type": "choropleth"
           }
          ],
          "contour": [
           {
            "colorbar": {
             "outlinewidth": 0,
             "ticks": ""
            },
            "colorscale": [
             [
              0,
              "#0d0887"
             ],
             [
              0.1111111111111111,
              "#46039f"
             ],
             [
              0.2222222222222222,
              "#7201a8"
             ],
             [
              0.3333333333333333,
              "#9c179e"
             ],
             [
              0.4444444444444444,
              "#bd3786"
             ],
             [
              0.5555555555555556,
              "#d8576b"
             ],
             [
              0.6666666666666666,
              "#ed7953"
             ],
             [
              0.7777777777777778,
              "#fb9f3a"
             ],
             [
              0.8888888888888888,
              "#fdca26"
             ],
             [
              1,
              "#f0f921"
             ]
            ],
            "type": "contour"
           }
          ],
          "contourcarpet": [
           {
            "colorbar": {
             "outlinewidth": 0,
             "ticks": ""
            },
            "type": "contourcarpet"
           }
          ],
          "heatmap": [
           {
            "colorbar": {
             "outlinewidth": 0,
             "ticks": ""
            },
            "colorscale": [
             [
              0,
              "#0d0887"
             ],
             [
              0.1111111111111111,
              "#46039f"
             ],
             [
              0.2222222222222222,
              "#7201a8"
             ],
             [
              0.3333333333333333,
              "#9c179e"
             ],
             [
              0.4444444444444444,
              "#bd3786"
             ],
             [
              0.5555555555555556,
              "#d8576b"
             ],
             [
              0.6666666666666666,
              "#ed7953"
             ],
             [
              0.7777777777777778,
              "#fb9f3a"
             ],
             [
              0.8888888888888888,
              "#fdca26"
             ],
             [
              1,
              "#f0f921"
             ]
            ],
            "type": "heatmap"
           }
          ],
          "heatmapgl": [
           {
            "colorbar": {
             "outlinewidth": 0,
             "ticks": ""
            },
            "colorscale": [
             [
              0,
              "#0d0887"
             ],
             [
              0.1111111111111111,
              "#46039f"
             ],
             [
              0.2222222222222222,
              "#7201a8"
             ],
             [
              0.3333333333333333,
              "#9c179e"
             ],
             [
              0.4444444444444444,
              "#bd3786"
             ],
             [
              0.5555555555555556,
              "#d8576b"
             ],
             [
              0.6666666666666666,
              "#ed7953"
             ],
             [
              0.7777777777777778,
              "#fb9f3a"
             ],
             [
              0.8888888888888888,
              "#fdca26"
             ],
             [
              1,
              "#f0f921"
             ]
            ],
            "type": "heatmapgl"
           }
          ],
          "histogram": [
           {
            "marker": {
             "pattern": {
              "fillmode": "overlay",
              "size": 10,
              "solidity": 0.2
             }
            },
            "type": "histogram"
           }
          ],
          "histogram2d": [
           {
            "colorbar": {
             "outlinewidth": 0,
             "ticks": ""
            },
            "colorscale": [
             [
              0,
              "#0d0887"
             ],
             [
              0.1111111111111111,
              "#46039f"
             ],
             [
              0.2222222222222222,
              "#7201a8"
             ],
             [
              0.3333333333333333,
              "#9c179e"
             ],
             [
              0.4444444444444444,
              "#bd3786"
             ],
             [
              0.5555555555555556,
              "#d8576b"
             ],
             [
              0.6666666666666666,
              "#ed7953"
             ],
             [
              0.7777777777777778,
              "#fb9f3a"
             ],
             [
              0.8888888888888888,
              "#fdca26"
             ],
             [
              1,
              "#f0f921"
             ]
            ],
            "type": "histogram2d"
           }
          ],
          "histogram2dcontour": [
           {
            "colorbar": {
             "outlinewidth": 0,
             "ticks": ""
            },
            "colorscale": [
             [
              0,
              "#0d0887"
             ],
             [
              0.1111111111111111,
              "#46039f"
             ],
             [
              0.2222222222222222,
              "#7201a8"
             ],
             [
              0.3333333333333333,
              "#9c179e"
             ],
             [
              0.4444444444444444,
              "#bd3786"
             ],
             [
              0.5555555555555556,
              "#d8576b"
             ],
             [
              0.6666666666666666,
              "#ed7953"
             ],
             [
              0.7777777777777778,
              "#fb9f3a"
             ],
             [
              0.8888888888888888,
              "#fdca26"
             ],
             [
              1,
              "#f0f921"
             ]
            ],
            "type": "histogram2dcontour"
           }
          ],
          "mesh3d": [
           {
            "colorbar": {
             "outlinewidth": 0,
             "ticks": ""
            },
            "type": "mesh3d"
           }
          ],
          "parcoords": [
           {
            "line": {
             "colorbar": {
              "outlinewidth": 0,
              "ticks": ""
             }
            },
            "type": "parcoords"
           }
          ],
          "pie": [
           {
            "automargin": true,
            "type": "pie"
           }
          ],
          "scatter": [
           {
            "fillpattern": {
             "fillmode": "overlay",
             "size": 10,
             "solidity": 0.2
            },
            "type": "scatter"
           }
          ],
          "scatter3d": [
           {
            "line": {
             "colorbar": {
              "outlinewidth": 0,
              "ticks": ""
             }
            },
            "marker": {
             "colorbar": {
              "outlinewidth": 0,
              "ticks": ""
             }
            },
            "type": "scatter3d"
           }
          ],
          "scattercarpet": [
           {
            "marker": {
             "colorbar": {
              "outlinewidth": 0,
              "ticks": ""
             }
            },
            "type": "scattercarpet"
           }
          ],
          "scattergeo": [
           {
            "marker": {
             "colorbar": {
              "outlinewidth": 0,
              "ticks": ""
             }
            },
            "type": "scattergeo"
           }
          ],
          "scattergl": [
           {
            "marker": {
             "colorbar": {
              "outlinewidth": 0,
              "ticks": ""
             }
            },
            "type": "scattergl"
           }
          ],
          "scattermapbox": [
           {
            "marker": {
             "colorbar": {
              "outlinewidth": 0,
              "ticks": ""
             }
            },
            "type": "scattermapbox"
           }
          ],
          "scatterpolar": [
           {
            "marker": {
             "colorbar": {
              "outlinewidth": 0,
              "ticks": ""
             }
            },
            "type": "scatterpolar"
           }
          ],
          "scatterpolargl": [
           {
            "marker": {
             "colorbar": {
              "outlinewidth": 0,
              "ticks": ""
             }
            },
            "type": "scatterpolargl"
           }
          ],
          "scatterternary": [
           {
            "marker": {
             "colorbar": {
              "outlinewidth": 0,
              "ticks": ""
             }
            },
            "type": "scatterternary"
           }
          ],
          "surface": [
           {
            "colorbar": {
             "outlinewidth": 0,
             "ticks": ""
            },
            "colorscale": [
             [
              0,
              "#0d0887"
             ],
             [
              0.1111111111111111,
              "#46039f"
             ],
             [
              0.2222222222222222,
              "#7201a8"
             ],
             [
              0.3333333333333333,
              "#9c179e"
             ],
             [
              0.4444444444444444,
              "#bd3786"
             ],
             [
              0.5555555555555556,
              "#d8576b"
             ],
             [
              0.6666666666666666,
              "#ed7953"
             ],
             [
              0.7777777777777778,
              "#fb9f3a"
             ],
             [
              0.8888888888888888,
              "#fdca26"
             ],
             [
              1,
              "#f0f921"
             ]
            ],
            "type": "surface"
           }
          ],
          "table": [
           {
            "cells": {
             "fill": {
              "color": "#EBF0F8"
             },
             "line": {
              "color": "white"
             }
            },
            "header": {
             "fill": {
              "color": "#C8D4E3"
             },
             "line": {
              "color": "white"
             }
            },
            "type": "table"
           }
          ]
         },
         "layout": {
          "annotationdefaults": {
           "arrowcolor": "#2a3f5f",
           "arrowhead": 0,
           "arrowwidth": 1
          },
          "autotypenumbers": "strict",
          "coloraxis": {
           "colorbar": {
            "outlinewidth": 0,
            "ticks": ""
           }
          },
          "colorscale": {
           "diverging": [
            [
             0,
             "#8e0152"
            ],
            [
             0.1,
             "#c51b7d"
            ],
            [
             0.2,
             "#de77ae"
            ],
            [
             0.3,
             "#f1b6da"
            ],
            [
             0.4,
             "#fde0ef"
            ],
            [
             0.5,
             "#f7f7f7"
            ],
            [
             0.6,
             "#e6f5d0"
            ],
            [
             0.7,
             "#b8e186"
            ],
            [
             0.8,
             "#7fbc41"
            ],
            [
             0.9,
             "#4d9221"
            ],
            [
             1,
             "#276419"
            ]
           ],
           "sequential": [
            [
             0,
             "#0d0887"
            ],
            [
             0.1111111111111111,
             "#46039f"
            ],
            [
             0.2222222222222222,
             "#7201a8"
            ],
            [
             0.3333333333333333,
             "#9c179e"
            ],
            [
             0.4444444444444444,
             "#bd3786"
            ],
            [
             0.5555555555555556,
             "#d8576b"
            ],
            [
             0.6666666666666666,
             "#ed7953"
            ],
            [
             0.7777777777777778,
             "#fb9f3a"
            ],
            [
             0.8888888888888888,
             "#fdca26"
            ],
            [
             1,
             "#f0f921"
            ]
           ],
           "sequentialminus": [
            [
             0,
             "#0d0887"
            ],
            [
             0.1111111111111111,
             "#46039f"
            ],
            [
             0.2222222222222222,
             "#7201a8"
            ],
            [
             0.3333333333333333,
             "#9c179e"
            ],
            [
             0.4444444444444444,
             "#bd3786"
            ],
            [
             0.5555555555555556,
             "#d8576b"
            ],
            [
             0.6666666666666666,
             "#ed7953"
            ],
            [
             0.7777777777777778,
             "#fb9f3a"
            ],
            [
             0.8888888888888888,
             "#fdca26"
            ],
            [
             1,
             "#f0f921"
            ]
           ]
          },
          "colorway": [
           "#636efa",
           "#EF553B",
           "#00cc96",
           "#ab63fa",
           "#FFA15A",
           "#19d3f3",
           "#FF6692",
           "#B6E880",
           "#FF97FF",
           "#FECB52"
          ],
          "font": {
           "color": "#2a3f5f"
          },
          "geo": {
           "bgcolor": "white",
           "lakecolor": "white",
           "landcolor": "#E5ECF6",
           "showlakes": true,
           "showland": true,
           "subunitcolor": "white"
          },
          "hoverlabel": {
           "align": "left"
          },
          "hovermode": "closest",
          "mapbox": {
           "style": "light"
          },
          "paper_bgcolor": "white",
          "plot_bgcolor": "#E5ECF6",
          "polar": {
           "angularaxis": {
            "gridcolor": "white",
            "linecolor": "white",
            "ticks": ""
           },
           "bgcolor": "#E5ECF6",
           "radialaxis": {
            "gridcolor": "white",
            "linecolor": "white",
            "ticks": ""
           }
          },
          "scene": {
           "xaxis": {
            "backgroundcolor": "#E5ECF6",
            "gridcolor": "white",
            "gridwidth": 2,
            "linecolor": "white",
            "showbackground": true,
            "ticks": "",
            "zerolinecolor": "white"
           },
           "yaxis": {
            "backgroundcolor": "#E5ECF6",
            "gridcolor": "white",
            "gridwidth": 2,
            "linecolor": "white",
            "showbackground": true,
            "ticks": "",
            "zerolinecolor": "white"
           },
           "zaxis": {
            "backgroundcolor": "#E5ECF6",
            "gridcolor": "white",
            "gridwidth": 2,
            "linecolor": "white",
            "showbackground": true,
            "ticks": "",
            "zerolinecolor": "white"
           }
          },
          "shapedefaults": {
           "line": {
            "color": "#2a3f5f"
           }
          },
          "ternary": {
           "aaxis": {
            "gridcolor": "white",
            "linecolor": "white",
            "ticks": ""
           },
           "baxis": {
            "gridcolor": "white",
            "linecolor": "white",
            "ticks": ""
           },
           "bgcolor": "#E5ECF6",
           "caxis": {
            "gridcolor": "white",
            "linecolor": "white",
            "ticks": ""
           }
          },
          "title": {
           "x": 0.05
          },
          "xaxis": {
           "automargin": true,
           "gridcolor": "white",
           "linecolor": "white",
           "ticks": "",
           "title": {
            "standoff": 15
           },
           "zerolinecolor": "white",
           "zerolinewidth": 2
          },
          "yaxis": {
           "automargin": true,
           "gridcolor": "white",
           "linecolor": "white",
           "ticks": "",
           "title": {
            "standoff": 15
           },
           "zerolinecolor": "white",
           "zerolinewidth": 2
          }
         }
        },
        "title": {
         "text": "Average Rank"
        },
        "xaxis": {
         "anchor": "y",
         "domain": [
          0,
          1
         ],
         "title": {
          "text": "player_name"
         }
        },
        "yaxis": {
         "anchor": "x",
         "domain": [
          0,
          1
         ],
         "title": {
          "text": "average_rank"
         }
        }
       }
      }
     },
     "metadata": {},
     "output_type": "display_data"
    }
   ],
   "source": [
    "import plotly.express as px\n",
    "\n",
    "df = get_player_rank(duckdb_df)\n",
    "\n",
    "# Create 3 bar charts for the highest, lowest and average rank for each entry_name\n",
    "# Order the bars by the highest rank\n",
    "\n",
    "fig_highest = px.bar(df, x='player_name', y='highest_rank', title='Highest Rank')\n",
    "fig_highest.show()\n",
    "\n",
    "fig_lowest = px.bar(df, x='player_name', y='lowest_rank', title='Lowest Rank')\n",
    "fig_lowest.show()\n",
    "\n",
    "fig_average = px.bar(df, x='player_name', y='average_rank', title='Average Rank')\n",
    "fig_average.show()"
   ]
  },
  {
   "cell_type": "code",
   "execution_count": 13,
   "metadata": {},
   "outputs": [
    {
     "data": {
      "text/html": [
       "<div>\n",
       "<style scoped>\n",
       "    .dataframe tbody tr th:only-of-type {\n",
       "        vertical-align: middle;\n",
       "    }\n",
       "\n",
       "    .dataframe tbody tr th {\n",
       "        vertical-align: top;\n",
       "    }\n",
       "\n",
       "    .dataframe thead th {\n",
       "        text-align: right;\n",
       "    }\n",
       "</style>\n",
       "<table border=\"1\" class=\"dataframe\">\n",
       "  <thead>\n",
       "    <tr style=\"text-align: right;\">\n",
       "      <th></th>\n",
       "      <th>player_name</th>\n",
       "      <th>entry_name</th>\n",
       "      <th>bench_points</th>\n",
       "      <th>total_points</th>\n",
       "    </tr>\n",
       "  </thead>\n",
       "  <tbody>\n",
       "    <tr>\n",
       "      <th>0</th>\n",
       "      <td>Oliver Bignall</td>\n",
       "      <td>Biggie FC</td>\n",
       "      <td>262.0</td>\n",
       "      <td>2403.0</td>\n",
       "    </tr>\n",
       "    <tr>\n",
       "      <th>1</th>\n",
       "      <td>Jack Chalkley</td>\n",
       "      <td>Garnachos</td>\n",
       "      <td>290.0</td>\n",
       "      <td>2361.0</td>\n",
       "    </tr>\n",
       "    <tr>\n",
       "      <th>2</th>\n",
       "      <td>Mason Scott</td>\n",
       "      <td>FC Mase</td>\n",
       "      <td>223.0</td>\n",
       "      <td>2314.0</td>\n",
       "    </tr>\n",
       "    <tr>\n",
       "      <th>3</th>\n",
       "      <td>Prince Ehigiator</td>\n",
       "      <td>McCris-P FC</td>\n",
       "      <td>257.0</td>\n",
       "      <td>2260.0</td>\n",
       "    </tr>\n",
       "    <tr>\n",
       "      <th>4</th>\n",
       "      <td>Alex Kitson</td>\n",
       "      <td>4-4-*******-2</td>\n",
       "      <td>159.0</td>\n",
       "      <td>2295.0</td>\n",
       "    </tr>\n",
       "    <tr>\n",
       "      <th>5</th>\n",
       "      <td>Dominic Rech</td>\n",
       "      <td>In Good Kompany</td>\n",
       "      <td>290.0</td>\n",
       "      <td>2505.0</td>\n",
       "    </tr>\n",
       "    <tr>\n",
       "      <th>6</th>\n",
       "      <td>Andrew Wallace</td>\n",
       "      <td>Boggie FC</td>\n",
       "      <td>298.0</td>\n",
       "      <td>2342.0</td>\n",
       "    </tr>\n",
       "    <tr>\n",
       "      <th>7</th>\n",
       "      <td>Mark Longmire</td>\n",
       "      <td>Botman Begins</td>\n",
       "      <td>276.0</td>\n",
       "      <td>2332.0</td>\n",
       "    </tr>\n",
       "    <tr>\n",
       "      <th>8</th>\n",
       "      <td>Rory McCullough</td>\n",
       "      <td>AthletEcho Falls FC</td>\n",
       "      <td>170.0</td>\n",
       "      <td>2254.0</td>\n",
       "    </tr>\n",
       "    <tr>\n",
       "      <th>9</th>\n",
       "      <td>Jack Grimley</td>\n",
       "      <td>Cancelo Culture</td>\n",
       "      <td>292.0</td>\n",
       "      <td>2216.0</td>\n",
       "    </tr>\n",
       "    <tr>\n",
       "      <th>10</th>\n",
       "      <td>Daniel Brown</td>\n",
       "      <td>Benson and Hedges</td>\n",
       "      <td>248.0</td>\n",
       "      <td>2209.0</td>\n",
       "    </tr>\n",
       "    <tr>\n",
       "      <th>11</th>\n",
       "      <td>Matt Harmer</td>\n",
       "      <td>Worrall Loada C*ap</td>\n",
       "      <td>175.0</td>\n",
       "      <td>2228.0</td>\n",
       "    </tr>\n",
       "    <tr>\n",
       "      <th>12</th>\n",
       "      <td>William Levick</td>\n",
       "      <td>Haalandaise Sauce</td>\n",
       "      <td>156.0</td>\n",
       "      <td>2228.0</td>\n",
       "    </tr>\n",
       "    <tr>\n",
       "      <th>13</th>\n",
       "      <td>Patrick Prendergast</td>\n",
       "      <td>Who Got The Assist</td>\n",
       "      <td>235.0</td>\n",
       "      <td>2416.0</td>\n",
       "    </tr>\n",
       "    <tr>\n",
       "      <th>14</th>\n",
       "      <td>Liam Aylwin</td>\n",
       "      <td>Unbelievable Jeff!!</td>\n",
       "      <td>270.0</td>\n",
       "      <td>2287.0</td>\n",
       "    </tr>\n",
       "    <tr>\n",
       "      <th>15</th>\n",
       "      <td>Fin Whittington</td>\n",
       "      <td>Is Your Motherwell</td>\n",
       "      <td>179.0</td>\n",
       "      <td>2138.0</td>\n",
       "    </tr>\n",
       "  </tbody>\n",
       "</table>\n",
       "</div>"
      ],
      "text/plain": [
       "            player_name           entry_name  bench_points  total_points\n",
       "0        Oliver Bignall            Biggie FC         262.0        2403.0\n",
       "1         Jack Chalkley            Garnachos         290.0        2361.0\n",
       "2           Mason Scott              FC Mase         223.0        2314.0\n",
       "3      Prince Ehigiator          McCris-P FC         257.0        2260.0\n",
       "4           Alex Kitson        4-4-*******-2         159.0        2295.0\n",
       "5          Dominic Rech      In Good Kompany         290.0        2505.0\n",
       "6        Andrew Wallace            Boggie FC         298.0        2342.0\n",
       "7         Mark Longmire        Botman Begins         276.0        2332.0\n",
       "8       Rory McCullough  AthletEcho Falls FC         170.0        2254.0\n",
       "9          Jack Grimley      Cancelo Culture         292.0        2216.0\n",
       "10         Daniel Brown    Benson and Hedges         248.0        2209.0\n",
       "11          Matt Harmer   Worrall Loada C*ap         175.0        2228.0\n",
       "12       William Levick    Haalandaise Sauce         156.0        2228.0\n",
       "13  Patrick Prendergast   Who Got The Assist         235.0        2416.0\n",
       "14          Liam Aylwin  Unbelievable Jeff!!         270.0        2287.0\n",
       "15      Fin Whittington   Is Your Motherwell         179.0        2138.0"
      ]
     },
     "execution_count": 13,
     "metadata": {},
     "output_type": "execute_result"
    }
   ],
   "source": [
    "def get_total_points_and_bench_points(duckdb_df):\n",
    "    \"\"\"\n",
    "    This function returns a DataFrame with the total points and total points left on the bench for each player and team for the season.\n",
    "    \"\"\"\n",
    "    return duckdb.query(\n",
    "        \"\"\"\n",
    "        SELECT \n",
    "            player_name, \n",
    "            entry_name, \n",
    "            SUM(points_on_bench) AS bench_points, \n",
    "            SUM(event_points) AS total_points\n",
    "        FROM \n",
    "            duckdb_df\n",
    "        GROUP BY \n",
    "            player_name, \n",
    "            entry_name\n",
    "    \"\"\"\n",
    "    ).to_df()\n",
    "get_total_points_and_bench_points(duckdb_df)"
   ]
  },
  {
   "cell_type": "code",
   "execution_count": 3,
   "metadata": {},
   "outputs": [
    {
     "ename": "BinderException",
     "evalue": "Binder Error: Referenced column \"rank\" not found in FROM clause!\nCandidate bindings: \"d2.bank\", \"d2.rank_sort\", \"d2.last_rank\"",
     "output_type": "error",
     "traceback": [
      "\u001b[0;31m---------------------------------------------------------------------------\u001b[0m",
      "\u001b[0;31mBinderException\u001b[0m                           Traceback (most recent call last)",
      "Cell \u001b[0;32mIn [3], line 6\u001b[0m\n\u001b[1;32m      3\u001b[0m \u001b[38;5;66;03m# Convert DataFrame to DuckDB\u001b[39;00m\n\u001b[1;32m      4\u001b[0m duckdb_df \u001b[38;5;241m=\u001b[39m duckdb\u001b[38;5;241m.\u001b[39mfrom_df(df)\n\u001b[0;32m----> 6\u001b[0m total_points_left_on_bench \u001b[38;5;241m=\u001b[39m duckdb\u001b[38;5;241m.\u001b[39mquery(\u001b[38;5;124m\"\"\"\u001b[39m\n\u001b[1;32m      7\u001b[0m \u001b[38;5;124m        SELECT \u001b[39m\n\u001b[1;32m      8\u001b[0m \u001b[38;5;124m            player_name, \u001b[39m\n\u001b[1;32m      9\u001b[0m \u001b[38;5;124m            COUNT(*) AS times_last_rank\u001b[39m\n\u001b[1;32m     10\u001b[0m \u001b[38;5;124m        FROM (\u001b[39m\n\u001b[1;32m     11\u001b[0m \u001b[38;5;124m            SELECT \u001b[39m\n\u001b[1;32m     12\u001b[0m \u001b[38;5;124m                event AS gameweek, \u001b[39m\n\u001b[1;32m     13\u001b[0m \u001b[38;5;124m                player_name\u001b[39m\n\u001b[1;32m     14\u001b[0m \u001b[38;5;124m            FROM \u001b[39m\n\u001b[1;32m     15\u001b[0m \u001b[38;5;124m                duckdb_df\u001b[39m\n\u001b[1;32m     16\u001b[0m \u001b[38;5;124m            WHERE \u001b[39m\n\u001b[1;32m     17\u001b[0m \u001b[38;5;124m                rank = (SELECT MAX(rank) FROM duckdb_df d2 WHERE d2.event = duckdb_df.event)\u001b[39m\n\u001b[1;32m     18\u001b[0m \u001b[38;5;124m        ) subquery\u001b[39m\n\u001b[1;32m     19\u001b[0m \u001b[38;5;124m        GROUP BY \u001b[39m\n\u001b[1;32m     20\u001b[0m \u001b[38;5;124m            player_name\u001b[39m\n\u001b[1;32m     21\u001b[0m \u001b[38;5;124m        ORDER BY \u001b[39m\n\u001b[1;32m     22\u001b[0m \u001b[38;5;124m            times_last_rank DESC\u001b[39m\n\u001b[1;32m     23\u001b[0m \u001b[38;5;124m        LIMIT 1\u001b[39m\n\u001b[1;32m     24\u001b[0m \u001b[38;5;124m    \u001b[39m\u001b[38;5;124m\"\"\"\u001b[39m\n\u001b[1;32m     25\u001b[0m     )\u001b[38;5;241m.\u001b[39mto_df()\n",
      "\u001b[0;31mBinderException\u001b[0m: Binder Error: Referenced column \"rank\" not found in FROM clause!\nCandidate bindings: \"d2.bank\", \"d2.rank_sort\", \"d2.last_rank\""
     ]
    }
   ],
   "source": [
    "\n",
    "\n",
    "total_points_left_on_bench = duckdb.query(\"\"\"\n",
    "        SELECT \n",
    "            player_name, \n",
    "            COUNT(*) AS times_last_rank\n",
    "        FROM (\n",
    "            SELECT \n",
    "                event AS gameweek, \n",
    "                player_name\n",
    "            FROM \n",
    "                duckdb_df\n",
    "            WHERE \n",
    "                rank = (SELECT MAX(rank) AS FROM duckdb_df d2 WHERE d2.event = duckdb_df.event)\n",
    "        ) subquery\n",
    "        GROUP BY \n",
    "            player_name\n",
    "        ORDER BY \n",
    "            times_last_rank DESC\n",
    "        LIMIT 1\n",
    "    \"\"\"\n",
    "    ).to_df()"
   ]
  },
  {
   "cell_type": "code",
   "execution_count": 15,
   "metadata": {},
   "outputs": [],
   "source": [
    "import duckdb\n",
    "\n",
    "# Convert DataFrame to DuckDB\n",
    "duckdb_df = duckdb.from_df(df)\n",
    "\n",
    "# mydf = pd.DataFrame({'a' : [1, 2, 3]})\n",
    "\n",
    "# print(duckdb.query(\"SELECT SUM(a) FROM mydf\").to_df())\n",
    "\n",
    "# Most points left on bench in a week\n",
    "total_points_left_on_bench = duckdb.query(\"\"\"\n",
    "    SELECT player_name, entry_name, SUM(points_on_bench) AS bench_points\n",
    "    FROM duckdb_df\n",
    "    GROUP BY player_name, entry_name\n",
    "    ORDER BY bench_points DESC\n",
    "\"\"\").to_df()\n",
    "\n",
    "most_points_left_on_bench_week = duckdb.query(\"\"\"\n",
    "    SELECT d.player_name, d.entry_name, d.points_on_bench AS most_points_left_on_bench, d.event\n",
    "    FROM duckdb_df d\n",
    "    JOIN (\n",
    "        SELECT player_name, entry_name, MAX(points_on_bench) AS max_points\n",
    "        FROM duckdb_df\n",
    "        GROUP BY player_name, entry_name\n",
    "    ) m ON d.player_name = m.player_name AND d.entry_name = m.entry_name AND d.points_on_bench = m.max_points\n",
    "    ORDER BY most_points_left_on_bench DESC\n",
    "\"\"\").to_df()"
   ]
  },
  {
   "cell_type": "code",
   "execution_count": 16,
   "metadata": {},
   "outputs": [
    {
     "data": {
      "text/html": [
       "<div>\n",
       "<style scoped>\n",
       "    .dataframe tbody tr th:only-of-type {\n",
       "        vertical-align: middle;\n",
       "    }\n",
       "\n",
       "    .dataframe tbody tr th {\n",
       "        vertical-align: top;\n",
       "    }\n",
       "\n",
       "    .dataframe thead th {\n",
       "        text-align: right;\n",
       "    }\n",
       "</style>\n",
       "<table border=\"1\" class=\"dataframe\">\n",
       "  <thead>\n",
       "    <tr style=\"text-align: right;\">\n",
       "      <th></th>\n",
       "      <th>player_name</th>\n",
       "      <th>entry_name</th>\n",
       "      <th>most_points_left_on_bench</th>\n",
       "      <th>event</th>\n",
       "    </tr>\n",
       "  </thead>\n",
       "  <tbody>\n",
       "    <tr>\n",
       "      <th>0</th>\n",
       "      <td>Daniel Brown</td>\n",
       "      <td>Benson and Hedges</td>\n",
       "      <td>28</td>\n",
       "      <td>6</td>\n",
       "    </tr>\n",
       "    <tr>\n",
       "      <th>1</th>\n",
       "      <td>Oliver Bignall</td>\n",
       "      <td>Biggie FC</td>\n",
       "      <td>27</td>\n",
       "      <td>18</td>\n",
       "    </tr>\n",
       "    <tr>\n",
       "      <th>2</th>\n",
       "      <td>Mark Longmire</td>\n",
       "      <td>Botman Begins</td>\n",
       "      <td>24</td>\n",
       "      <td>14</td>\n",
       "    </tr>\n",
       "    <tr>\n",
       "      <th>3</th>\n",
       "      <td>Patrick Prendergast</td>\n",
       "      <td>Who Got The Assist</td>\n",
       "      <td>24</td>\n",
       "      <td>23</td>\n",
       "    </tr>\n",
       "    <tr>\n",
       "      <th>4</th>\n",
       "      <td>Liam Aylwin</td>\n",
       "      <td>Unbelievable Jeff!!</td>\n",
       "      <td>22</td>\n",
       "      <td>21</td>\n",
       "    </tr>\n",
       "    <tr>\n",
       "      <th>5</th>\n",
       "      <td>Dominic Rech</td>\n",
       "      <td>In Good Kompany</td>\n",
       "      <td>21</td>\n",
       "      <td>2</td>\n",
       "    </tr>\n",
       "    <tr>\n",
       "      <th>6</th>\n",
       "      <td>Jack Chalkley</td>\n",
       "      <td>Garnachos</td>\n",
       "      <td>19</td>\n",
       "      <td>20</td>\n",
       "    </tr>\n",
       "    <tr>\n",
       "      <th>7</th>\n",
       "      <td>Mason Scott</td>\n",
       "      <td>FC Mase</td>\n",
       "      <td>19</td>\n",
       "      <td>5</td>\n",
       "    </tr>\n",
       "    <tr>\n",
       "      <th>8</th>\n",
       "      <td>Jack Grimley</td>\n",
       "      <td>Cancelo Culture</td>\n",
       "      <td>19</td>\n",
       "      <td>14</td>\n",
       "    </tr>\n",
       "    <tr>\n",
       "      <th>9</th>\n",
       "      <td>Prince Ehigiator</td>\n",
       "      <td>McCris-P FC</td>\n",
       "      <td>18</td>\n",
       "      <td>19</td>\n",
       "    </tr>\n",
       "    <tr>\n",
       "      <th>10</th>\n",
       "      <td>William Levick</td>\n",
       "      <td>Haalandaise Sauce</td>\n",
       "      <td>18</td>\n",
       "      <td>22</td>\n",
       "    </tr>\n",
       "    <tr>\n",
       "      <th>11</th>\n",
       "      <td>Fin Whittington</td>\n",
       "      <td>Is Your Motherwell</td>\n",
       "      <td>17</td>\n",
       "      <td>12</td>\n",
       "    </tr>\n",
       "    <tr>\n",
       "      <th>12</th>\n",
       "      <td>Andrew Wallace</td>\n",
       "      <td>Boggie FC</td>\n",
       "      <td>16</td>\n",
       "      <td>6</td>\n",
       "    </tr>\n",
       "    <tr>\n",
       "      <th>13</th>\n",
       "      <td>Alex Kitson</td>\n",
       "      <td>4-4-*******-2</td>\n",
       "      <td>14</td>\n",
       "      <td>5</td>\n",
       "    </tr>\n",
       "    <tr>\n",
       "      <th>14</th>\n",
       "      <td>Matt Harmer</td>\n",
       "      <td>Worrall Loada C*ap</td>\n",
       "      <td>12</td>\n",
       "      <td>4</td>\n",
       "    </tr>\n",
       "    <tr>\n",
       "      <th>15</th>\n",
       "      <td>Rory McCullough</td>\n",
       "      <td>AthletEcho Falls FC</td>\n",
       "      <td>11</td>\n",
       "      <td>10</td>\n",
       "    </tr>\n",
       "  </tbody>\n",
       "</table>\n",
       "</div>"
      ],
      "text/plain": [
       "            player_name           entry_name  most_points_left_on_bench  event\n",
       "0          Daniel Brown    Benson and Hedges                         28      6\n",
       "1        Oliver Bignall            Biggie FC                         27     18\n",
       "2         Mark Longmire        Botman Begins                         24     14\n",
       "3   Patrick Prendergast   Who Got The Assist                         24     23\n",
       "4           Liam Aylwin  Unbelievable Jeff!!                         22     21\n",
       "5          Dominic Rech      In Good Kompany                         21      2\n",
       "6         Jack Chalkley            Garnachos                         19     20\n",
       "7           Mason Scott              FC Mase                         19      5\n",
       "8          Jack Grimley      Cancelo Culture                         19     14\n",
       "9      Prince Ehigiator          McCris-P FC                         18     19\n",
       "10       William Levick    Haalandaise Sauce                         18     22\n",
       "11      Fin Whittington   Is Your Motherwell                         17     12\n",
       "12       Andrew Wallace            Boggie FC                         16      6\n",
       "13          Alex Kitson        4-4-*******-2                         14      5\n",
       "14          Matt Harmer   Worrall Loada C*ap                         12      4\n",
       "15      Rory McCullough  AthletEcho Falls FC                         11     10"
      ]
     },
     "execution_count": 16,
     "metadata": {},
     "output_type": "execute_result"
    }
   ],
   "source": [
    "most_points_left_on_bench_week"
   ]
  },
  {
   "cell_type": "code",
   "execution_count": 53,
   "metadata": {},
   "outputs": [
    {
     "data": {
      "text/html": [
       "<div>\n",
       "<style scoped>\n",
       "    .dataframe tbody tr th:only-of-type {\n",
       "        vertical-align: middle;\n",
       "    }\n",
       "\n",
       "    .dataframe tbody tr th {\n",
       "        vertical-align: top;\n",
       "    }\n",
       "\n",
       "    .dataframe thead th {\n",
       "        text-align: right;\n",
       "    }\n",
       "</style>\n",
       "<table border=\"1\" class=\"dataframe\">\n",
       "  <thead>\n",
       "    <tr style=\"text-align: right;\">\n",
       "      <th></th>\n",
       "      <th>event</th>\n",
       "      <th>player1</th>\n",
       "      <th>entry1</th>\n",
       "      <th>points1</th>\n",
       "      <th>player2</th>\n",
       "      <th>entry2</th>\n",
       "      <th>points2</th>\n",
       "      <th>difference</th>\n",
       "    </tr>\n",
       "  </thead>\n",
       "  <tbody>\n",
       "    <tr>\n",
       "      <th>0</th>\n",
       "      <td>23</td>\n",
       "      <td>Jack Grimley</td>\n",
       "      <td>Cancelo Culture</td>\n",
       "      <td>44</td>\n",
       "      <td>William Levick</td>\n",
       "      <td>Haalandaise Sauce</td>\n",
       "      <td>110</td>\n",
       "      <td>66</td>\n",
       "    </tr>\n",
       "  </tbody>\n",
       "</table>\n",
       "</div>"
      ],
      "text/plain": [
       "   event       player1           entry1  points1         player2  \\\n",
       "0     23  Jack Grimley  Cancelo Culture       44  William Levick   \n",
       "\n",
       "              entry2  points2  difference  \n",
       "0  Haalandaise Sauce      110          66  "
      ]
     },
     "execution_count": 53,
     "metadata": {},
     "output_type": "execute_result"
    }
   ],
   "source": [
    "biggest_difference = duckdb.query(\"\"\"\n",
    "    SELECT a.event, a.player_name AS player1, a.entry_name AS entry1, a.event_points AS points1,\n",
    "           b.player_name AS player2, b.entry_name AS entry2, b.event_points AS points2,\n",
    "           ABS(a.event_points - b.event_points) AS difference\n",
    "    FROM duckdb_df a, duckdb_df b\n",
    "    WHERE a.event = b.event AND a.player_name != b.player_name\n",
    "    ORDER BY difference DESC\n",
    "    LIMIT 1\n",
    "\"\"\").to_df()\n",
    "biggest_difference"
   ]
  },
  {
   "cell_type": "code",
   "execution_count": 6,
   "metadata": {},
   "outputs": [
    {
     "name": "stdout",
     "output_type": "stream",
     "text": [
      "Most points left on bench: 28\n"
     ]
    }
   ],
   "source": [
    "# Most points left on bench in a week\n",
    "most_points_left_on_bench = df['points_on_bench'].max()\n",
    "print(f\"Most points left on bench: {most_points_left_on_bench}\")\n"
   ]
  },
  {
   "cell_type": "code",
   "execution_count": null,
   "metadata": {},
   "outputs": [],
   "source": [
    "\n",
    "# Worst week\n",
    "worst_week = df['event_total_points'].idxmin()\n",
    "print(f\"Worst week: {worst_week}\")\n"
   ]
  },
  {
   "cell_type": "code",
   "execution_count": null,
   "metadata": {},
   "outputs": [],
   "source": [
    "\n",
    "# Biggest difference in points on a week from winner and loser\n",
    "df_grouped = df.groupby('event')['event_total_points'].agg(['min', 'max'])\n",
    "df_grouped['difference'] = df_grouped['max'] - df_grouped['min']\n",
    "biggest_difference = df_grouped['difference'].max()\n",
    "print(f\"Biggest difference in points on a week from winner and loser: {biggest_difference}\")"
   ]
  }
 ],
 "metadata": {
  "kernelspec": {
   "display_name": "Python 3",
   "language": "python",
   "name": "python3"
  },
  "language_info": {
   "codemirror_mode": {
    "name": "ipython",
    "version": 3
   },
   "file_extension": ".py",
   "mimetype": "text/x-python",
   "name": "python",
   "nbconvert_exporter": "python",
   "pygments_lexer": "ipython3",
   "version": "3.10.4"
  },
  "orig_nbformat": 4
 },
 "nbformat": 4,
 "nbformat_minor": 2
}
